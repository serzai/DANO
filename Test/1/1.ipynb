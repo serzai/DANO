{
 "cells": [
  {
   "cell_type": "code",
   "execution_count": 25,
   "id": "242b4329",
   "metadata": {
    "ExecuteTime": {
     "end_time": "2023-11-21T19:40:31.692841Z",
     "start_time": "2023-11-21T19:40:30.738253Z"
    }
   },
   "outputs": [],
   "source": [
    "import pandas as pd\n",
    "import seaborn as sns"
   ]
  },
  {
   "cell_type": "code",
   "execution_count": 15,
   "id": "aa60f374",
   "metadata": {
    "ExecuteTime": {
     "end_time": "2023-11-21T19:34:42.034873Z",
     "start_time": "2023-11-21T19:34:41.936180Z"
    }
   },
   "outputs": [],
   "source": [
    "df = pd.read_csv('dataset.csv')\n",
    "\n",
    "df['Town'] = df['Town'].fillna(df['Town'].mode())\n",
    "df['Property Type'] = df['Property Type'].fillna(df['Property Type'].mode())\n",
    "df['Residential Type'] = df['Residential Type'].fillna(\n",
    "    df['Residential Type'].mode())\n",
    "\n",
    "df['Assessed Value'] = df['Assessed Value'].fillna(\n",
    "    df['Assessed Value'].median())\n",
    "df['Sale Amount'] = df['Sale Amount'].fillna(df['Sale Amount'].median())\n",
    "df['Sales Ratio'] = df['Assessed Value'] / df['Sale Amount']\n",
    "\n",
    "df[['Non Use Code', 'Assessor Remarks', 'OPM remarks']] = df[[\n",
    "    'Non Use Code', 'Assessor Remarks', 'OPM remarks']].fillna('no info')"
   ]
  },
  {
   "cell_type": "code",
   "execution_count": 16,
   "id": "c8b5d084",
   "metadata": {
    "ExecuteTime": {
     "end_time": "2023-11-21T19:34:47.677954Z",
     "start_time": "2023-11-21T19:34:47.658585Z"
    }
   },
   "outputs": [
    {
     "data": {
      "text/html": [
       "<div>\n",
       "<style scoped>\n",
       "    .dataframe tbody tr th:only-of-type {\n",
       "        vertical-align: middle;\n",
       "    }\n",
       "\n",
       "    .dataframe tbody tr th {\n",
       "        vertical-align: top;\n",
       "    }\n",
       "\n",
       "    .dataframe thead th {\n",
       "        text-align: right;\n",
       "    }\n",
       "</style>\n",
       "<table border=\"1\" class=\"dataframe\">\n",
       "  <thead>\n",
       "    <tr style=\"text-align: right;\">\n",
       "      <th></th>\n",
       "      <th>#</th>\n",
       "      <th>Serial Number</th>\n",
       "      <th>List Year</th>\n",
       "      <th>Date Recorded</th>\n",
       "      <th>Town</th>\n",
       "      <th>Address</th>\n",
       "      <th>Assessed Value</th>\n",
       "      <th>Sale Amount</th>\n",
       "      <th>Sales Ratio</th>\n",
       "      <th>Property Type</th>\n",
       "      <th>Residential Type</th>\n",
       "      <th>Non Use Code</th>\n",
       "      <th>Assessor Remarks</th>\n",
       "      <th>OPM remarks</th>\n",
       "      <th>Location</th>\n",
       "    </tr>\n",
       "  </thead>\n",
       "  <tbody>\n",
       "    <tr>\n",
       "      <th>0</th>\n",
       "      <td>0</td>\n",
       "      <td>2020348</td>\n",
       "      <td>2020</td>\n",
       "      <td>09/13/2021</td>\n",
       "      <td>Ansonia</td>\n",
       "      <td>230 WAKELEE AVE</td>\n",
       "      <td>150500.000000</td>\n",
       "      <td>325000.0</td>\n",
       "      <td>0.463077</td>\n",
       "      <td>Commercial</td>\n",
       "      <td>Single Family</td>\n",
       "      <td>no info</td>\n",
       "      <td>no info</td>\n",
       "      <td>no info</td>\n",
       "      <td>NaN</td>\n",
       "    </tr>\n",
       "    <tr>\n",
       "      <th>1</th>\n",
       "      <td>1</td>\n",
       "      <td>20002</td>\n",
       "      <td>2020</td>\n",
       "      <td>10/02/2020</td>\n",
       "      <td>Ashford</td>\n",
       "      <td>390 TURNPIKE RD</td>\n",
       "      <td>253000.000000</td>\n",
       "      <td>430000.0</td>\n",
       "      <td>0.588372</td>\n",
       "      <td>Residential</td>\n",
       "      <td>Single Family</td>\n",
       "      <td>no info</td>\n",
       "      <td>no info</td>\n",
       "      <td>no info</td>\n",
       "      <td>NaN</td>\n",
       "    </tr>\n",
       "    <tr>\n",
       "      <th>2</th>\n",
       "      <td>2</td>\n",
       "      <td>200212</td>\n",
       "      <td>2020</td>\n",
       "      <td>03/09/2021</td>\n",
       "      <td>Avon</td>\n",
       "      <td>5 CHESTNUT DRIVE</td>\n",
       "      <td>130400.000000</td>\n",
       "      <td>179900.0</td>\n",
       "      <td>0.724847</td>\n",
       "      <td>Residential</td>\n",
       "      <td>Condo</td>\n",
       "      <td>no info</td>\n",
       "      <td>no info</td>\n",
       "      <td>no info</td>\n",
       "      <td>NaN</td>\n",
       "    </tr>\n",
       "    <tr>\n",
       "      <th>3</th>\n",
       "      <td>3</td>\n",
       "      <td>200243</td>\n",
       "      <td>2020</td>\n",
       "      <td>04/13/2021</td>\n",
       "      <td>Avon</td>\n",
       "      <td>111 NORTHINGTON DRIVE</td>\n",
       "      <td>619290.000000</td>\n",
       "      <td>890000.0</td>\n",
       "      <td>0.695831</td>\n",
       "      <td>Residential</td>\n",
       "      <td>Single Family</td>\n",
       "      <td>no info</td>\n",
       "      <td>no info</td>\n",
       "      <td>no info</td>\n",
       "      <td>NaN</td>\n",
       "    </tr>\n",
       "    <tr>\n",
       "      <th>4</th>\n",
       "      <td>4</td>\n",
       "      <td>200377</td>\n",
       "      <td>2020</td>\n",
       "      <td>07/02/2021</td>\n",
       "      <td>Avon</td>\n",
       "      <td>70 FAR HILLS DRIVE</td>\n",
       "      <td>862330.000000</td>\n",
       "      <td>1447500.0</td>\n",
       "      <td>0.595737</td>\n",
       "      <td>Residential</td>\n",
       "      <td>Single Family</td>\n",
       "      <td>no info</td>\n",
       "      <td>no info</td>\n",
       "      <td>no info</td>\n",
       "      <td>NaN</td>\n",
       "    </tr>\n",
       "    <tr>\n",
       "      <th>...</th>\n",
       "      <td>...</td>\n",
       "      <td>...</td>\n",
       "      <td>...</td>\n",
       "      <td>...</td>\n",
       "      <td>...</td>\n",
       "      <td>...</td>\n",
       "      <td>...</td>\n",
       "      <td>...</td>\n",
       "      <td>...</td>\n",
       "      <td>...</td>\n",
       "      <td>...</td>\n",
       "      <td>...</td>\n",
       "      <td>...</td>\n",
       "      <td>...</td>\n",
       "      <td>...</td>\n",
       "    </tr>\n",
       "    <tr>\n",
       "      <th>34985</th>\n",
       "      <td>34985</td>\n",
       "      <td>140762</td>\n",
       "      <td>2014</td>\n",
       "      <td>07/23/2015</td>\n",
       "      <td>Danbury</td>\n",
       "      <td>30 E PEMBROKE &amp; E PEMBROKE RD</td>\n",
       "      <td>155699.999958</td>\n",
       "      <td>262000.0</td>\n",
       "      <td>0.594275</td>\n",
       "      <td>Residential</td>\n",
       "      <td>Single Family</td>\n",
       "      <td>25 - Other</td>\n",
       "      <td>2 PARCELS SOLD TOGETHER / I09027 &amp; I09197</td>\n",
       "      <td>no info</td>\n",
       "      <td>NaN</td>\n",
       "    </tr>\n",
       "    <tr>\n",
       "      <th>34986</th>\n",
       "      <td>34986</td>\n",
       "      <td>140238</td>\n",
       "      <td>2014</td>\n",
       "      <td>09/11/2015</td>\n",
       "      <td>Cromwell</td>\n",
       "      <td>190 SHUNPIKE ROAD</td>\n",
       "      <td>98400.000010</td>\n",
       "      <td>115000.0</td>\n",
       "      <td>0.855652</td>\n",
       "      <td>Residential</td>\n",
       "      <td>Single Family</td>\n",
       "      <td>no info</td>\n",
       "      <td>no info</td>\n",
       "      <td>no info</td>\n",
       "      <td>NaN</td>\n",
       "    </tr>\n",
       "    <tr>\n",
       "      <th>34987</th>\n",
       "      <td>34987</td>\n",
       "      <td>140026</td>\n",
       "      <td>2014</td>\n",
       "      <td>10/27/2014</td>\n",
       "      <td>Berlin</td>\n",
       "      <td>251 DEERFIELD DR</td>\n",
       "      <td>186399.999890</td>\n",
       "      <td>265000.0</td>\n",
       "      <td>0.703396</td>\n",
       "      <td>Residential</td>\n",
       "      <td>Single Family</td>\n",
       "      <td>no info</td>\n",
       "      <td>no info</td>\n",
       "      <td>no info</td>\n",
       "      <td>NaN</td>\n",
       "    </tr>\n",
       "    <tr>\n",
       "      <th>34988</th>\n",
       "      <td>34988</td>\n",
       "      <td>14000100</td>\n",
       "      <td>2014</td>\n",
       "      <td>06/02/2015</td>\n",
       "      <td>Granby</td>\n",
       "      <td>14 MASSACO LANE</td>\n",
       "      <td>246400.000100</td>\n",
       "      <td>387500.0</td>\n",
       "      <td>0.635871</td>\n",
       "      <td>Residential</td>\n",
       "      <td>Single Family</td>\n",
       "      <td>no info</td>\n",
       "      <td>no info</td>\n",
       "      <td>no info</td>\n",
       "      <td>NaN</td>\n",
       "    </tr>\n",
       "    <tr>\n",
       "      <th>34989</th>\n",
       "      <td>34989</td>\n",
       "      <td>14000125</td>\n",
       "      <td>2014</td>\n",
       "      <td>07/15/2015</td>\n",
       "      <td>Granby</td>\n",
       "      <td>100 WEST GRANBY RD</td>\n",
       "      <td>144690.000004</td>\n",
       "      <td>242000.0</td>\n",
       "      <td>0.597893</td>\n",
       "      <td>Residential</td>\n",
       "      <td>Single Family</td>\n",
       "      <td>no info</td>\n",
       "      <td>no info</td>\n",
       "      <td>no info</td>\n",
       "      <td>NaN</td>\n",
       "    </tr>\n",
       "  </tbody>\n",
       "</table>\n",
       "<p>34990 rows × 15 columns</p>\n",
       "</div>"
      ],
      "text/plain": [
       "           #  Serial Number  List Year Date Recorded      Town  \\\n",
       "0          0        2020348       2020    09/13/2021   Ansonia   \n",
       "1          1          20002       2020    10/02/2020   Ashford   \n",
       "2          2         200212       2020    03/09/2021      Avon   \n",
       "3          3         200243       2020    04/13/2021      Avon   \n",
       "4          4         200377       2020    07/02/2021      Avon   \n",
       "...      ...            ...        ...           ...       ...   \n",
       "34985  34985         140762       2014    07/23/2015   Danbury   \n",
       "34986  34986         140238       2014    09/11/2015  Cromwell   \n",
       "34987  34987         140026       2014    10/27/2014    Berlin   \n",
       "34988  34988       14000100       2014    06/02/2015    Granby   \n",
       "34989  34989       14000125       2014    07/15/2015    Granby   \n",
       "\n",
       "                             Address  Assessed Value  Sale Amount  \\\n",
       "0                    230 WAKELEE AVE   150500.000000     325000.0   \n",
       "1                    390 TURNPIKE RD   253000.000000     430000.0   \n",
       "2                   5 CHESTNUT DRIVE   130400.000000     179900.0   \n",
       "3              111 NORTHINGTON DRIVE   619290.000000     890000.0   \n",
       "4                 70 FAR HILLS DRIVE   862330.000000    1447500.0   \n",
       "...                              ...             ...          ...   \n",
       "34985  30 E PEMBROKE & E PEMBROKE RD   155699.999958     262000.0   \n",
       "34986              190 SHUNPIKE ROAD    98400.000010     115000.0   \n",
       "34987               251 DEERFIELD DR   186399.999890     265000.0   \n",
       "34988                14 MASSACO LANE   246400.000100     387500.0   \n",
       "34989             100 WEST GRANBY RD   144690.000004     242000.0   \n",
       "\n",
       "       Sales Ratio Property Type Residential Type Non Use Code  \\\n",
       "0         0.463077    Commercial    Single Family      no info   \n",
       "1         0.588372   Residential    Single Family      no info   \n",
       "2         0.724847   Residential            Condo      no info   \n",
       "3         0.695831   Residential    Single Family      no info   \n",
       "4         0.595737   Residential    Single Family      no info   \n",
       "...            ...           ...              ...          ...   \n",
       "34985     0.594275   Residential    Single Family   25 - Other   \n",
       "34986     0.855652   Residential    Single Family      no info   \n",
       "34987     0.703396   Residential    Single Family      no info   \n",
       "34988     0.635871   Residential    Single Family      no info   \n",
       "34989     0.597893   Residential    Single Family      no info   \n",
       "\n",
       "                                Assessor Remarks OPM remarks Location  \n",
       "0                                        no info     no info      NaN  \n",
       "1                                        no info     no info      NaN  \n",
       "2                                        no info     no info      NaN  \n",
       "3                                        no info     no info      NaN  \n",
       "4                                        no info     no info      NaN  \n",
       "...                                          ...         ...      ...  \n",
       "34985  2 PARCELS SOLD TOGETHER / I09027 & I09197     no info      NaN  \n",
       "34986                                    no info     no info      NaN  \n",
       "34987                                    no info     no info      NaN  \n",
       "34988                                    no info     no info      NaN  \n",
       "34989                                    no info     no info      NaN  \n",
       "\n",
       "[34990 rows x 15 columns]"
      ]
     },
     "execution_count": 16,
     "metadata": {},
     "output_type": "execute_result"
    }
   ],
   "source": [
    "df"
   ]
  },
  {
   "cell_type": "code",
   "execution_count": 20,
   "id": "1bc74724",
   "metadata": {
    "ExecuteTime": {
     "end_time": "2023-11-21T19:37:15.778911Z",
     "start_time": "2023-11-21T19:37:15.749127Z"
    }
   },
   "outputs": [
    {
     "data": {
      "text/html": [
       "<div>\n",
       "<style scoped>\n",
       "    .dataframe tbody tr th:only-of-type {\n",
       "        vertical-align: middle;\n",
       "    }\n",
       "\n",
       "    .dataframe tbody tr th {\n",
       "        vertical-align: top;\n",
       "    }\n",
       "\n",
       "    .dataframe thead th {\n",
       "        text-align: right;\n",
       "    }\n",
       "</style>\n",
       "<table border=\"1\" class=\"dataframe\">\n",
       "  <thead>\n",
       "    <tr style=\"text-align: right;\">\n",
       "      <th></th>\n",
       "      <th>#</th>\n",
       "      <th>Serial Number</th>\n",
       "      <th>List Year</th>\n",
       "      <th>Assessed Value</th>\n",
       "      <th>Sale Amount</th>\n",
       "      <th>Sales Ratio</th>\n",
       "    </tr>\n",
       "  </thead>\n",
       "  <tbody>\n",
       "    <tr>\n",
       "      <th>count</th>\n",
       "      <td>34990.000000</td>\n",
       "      <td>3.499000e+04</td>\n",
       "      <td>34990.000000</td>\n",
       "      <td>3.499000e+04</td>\n",
       "      <td>3.499000e+04</td>\n",
       "      <td>3.499000e+04</td>\n",
       "    </tr>\n",
       "    <tr>\n",
       "      <th>mean</th>\n",
       "      <td>17494.500000</td>\n",
       "      <td>7.548092e+05</td>\n",
       "      <td>2016.999771</td>\n",
       "      <td>3.189454e+05</td>\n",
       "      <td>4.163034e+05</td>\n",
       "      <td>inf</td>\n",
       "    </tr>\n",
       "    <tr>\n",
       "      <th>std</th>\n",
       "      <td>10100.887296</td>\n",
       "      <td>7.280176e+06</td>\n",
       "      <td>2.000243</td>\n",
       "      <td>1.633409e+06</td>\n",
       "      <td>1.467889e+06</td>\n",
       "      <td>NaN</td>\n",
       "    </tr>\n",
       "    <tr>\n",
       "      <th>min</th>\n",
       "      <td>0.000000</td>\n",
       "      <td>1.640000e+02</td>\n",
       "      <td>2014.000000</td>\n",
       "      <td>0.000000e+00</td>\n",
       "      <td>0.000000e+00</td>\n",
       "      <td>0.000000e+00</td>\n",
       "    </tr>\n",
       "    <tr>\n",
       "      <th>25%</th>\n",
       "      <td>8747.250000</td>\n",
       "      <td>1.403290e+05</td>\n",
       "      <td>2015.000000</td>\n",
       "      <td>1.042800e+05</td>\n",
       "      <td>1.460000e+05</td>\n",
       "      <td>5.743903e-01</td>\n",
       "    </tr>\n",
       "    <tr>\n",
       "      <th>50%</th>\n",
       "      <td>17494.500000</td>\n",
       "      <td>1.608825e+05</td>\n",
       "      <td>2017.000000</td>\n",
       "      <td>1.513100e+05</td>\n",
       "      <td>2.300000e+05</td>\n",
       "      <td>6.700000e-01</td>\n",
       "    </tr>\n",
       "    <tr>\n",
       "      <th>75%</th>\n",
       "      <td>26241.750000</td>\n",
       "      <td>1.900860e+05</td>\n",
       "      <td>2019.000000</td>\n",
       "      <td>2.377900e+05</td>\n",
       "      <td>3.650000e+05</td>\n",
       "      <td>8.053124e-01</td>\n",
       "    </tr>\n",
       "    <tr>\n",
       "      <th>max</th>\n",
       "      <td>34989.000000</td>\n",
       "      <td>2.020001e+08</td>\n",
       "      <td>2020.000000</td>\n",
       "      <td>6.023185e+07</td>\n",
       "      <td>1.612388e+08</td>\n",
       "      <td>inf</td>\n",
       "    </tr>\n",
       "  </tbody>\n",
       "</table>\n",
       "</div>"
      ],
      "text/plain": [
       "                  #  Serial Number     List Year  Assessed Value  \\\n",
       "count  34990.000000   3.499000e+04  34990.000000    3.499000e+04   \n",
       "mean   17494.500000   7.548092e+05   2016.999771    3.189454e+05   \n",
       "std    10100.887296   7.280176e+06      2.000243    1.633409e+06   \n",
       "min        0.000000   1.640000e+02   2014.000000    0.000000e+00   \n",
       "25%     8747.250000   1.403290e+05   2015.000000    1.042800e+05   \n",
       "50%    17494.500000   1.608825e+05   2017.000000    1.513100e+05   \n",
       "75%    26241.750000   1.900860e+05   2019.000000    2.377900e+05   \n",
       "max    34989.000000   2.020001e+08   2020.000000    6.023185e+07   \n",
       "\n",
       "        Sale Amount   Sales Ratio  \n",
       "count  3.499000e+04  3.499000e+04  \n",
       "mean   4.163034e+05           inf  \n",
       "std    1.467889e+06           NaN  \n",
       "min    0.000000e+00  0.000000e+00  \n",
       "25%    1.460000e+05  5.743903e-01  \n",
       "50%    2.300000e+05  6.700000e-01  \n",
       "75%    3.650000e+05  8.053124e-01  \n",
       "max    1.612388e+08           inf  "
      ]
     },
     "execution_count": 20,
     "metadata": {},
     "output_type": "execute_result"
    }
   ],
   "source": [
    "df.describe()"
   ]
  },
  {
   "cell_type": "code",
   "execution_count": 24,
   "id": "74e5cfa5",
   "metadata": {
    "ExecuteTime": {
     "end_time": "2023-11-21T19:38:42.863019Z",
     "start_time": "2023-11-21T19:38:42.853411Z"
    }
   },
   "outputs": [
    {
     "data": {
      "text/plain": [
       "Town\n",
       "Bridgeport    1908\n",
       "Bristol       1309\n",
       "Danbury       1274\n",
       "Greenwich     1209\n",
       "Hartford      1013\n",
       "              ... \n",
       "Warren           2\n",
       "Salisbury        1\n",
       "Willington       1\n",
       "Scotland         1\n",
       "Voluntown        1\n",
       "Name: count, Length: 168, dtype: int64"
      ]
     },
     "execution_count": 24,
     "metadata": {},
     "output_type": "execute_result"
    }
   ],
   "source": [
    "df['Town'].value_counts()"
   ]
  },
  {
   "cell_type": "code",
   "execution_count": 30,
   "id": "9c1c652c",
   "metadata": {
    "ExecuteTime": {
     "end_time": "2023-11-21T19:41:56.114001Z",
     "start_time": "2023-11-21T19:41:56.026365Z"
    }
   },
   "outputs": [
    {
     "data": {
      "text/plain": [
       "<Axes: ylabel='Sale Amount'>"
      ]
     },
     "execution_count": 30,
     "metadata": {},
     "output_type": "execute_result"
    },
    {
     "data": {
      "image/png": "[encoded data removed]",
      "text/plain": [
       "<Figure size 640x480 with 1 Axes>"
      ]
     },
     "metadata": {},
     "output_type": "display_data"
    }
   ],
   "source": [
    "sns.boxplot(df, y='Sale Amount')"
   ]
  },
  {
   "cell_type": "code",
   "execution_count": 6,
   "id": "0477900e",
   "metadata": {
    "ExecuteTime": {
     "end_time": "2023-12-03T10:53:43.781561Z",
     "start_time": "2023-12-03T10:53:43.778684Z"
    }
   },
   "outputs": [],
   "source": [
    "def s(n):\n",
    "    sum = 0\n",
    "    while n != 0:\n",
    "        sum += n % 10\n",
    "        n //= 10\n",
    "    return sum"
   ]
  },
  {
   "cell_type": "code",
   "execution_count": 11,
   "id": "97d2d0cf",
   "metadata": {
    "ExecuteTime": {
     "end_time": "2023-12-03T10:55:37.102269Z",
     "start_time": "2023-12-03T10:55:37.098026Z"
    }
   },
   "outputs": [
    {
     "name": "stdout",
     "output_type": "stream",
     "text": [
      "1971\n"
     ]
    }
   ],
   "source": [
    "for i in range(1, 2025):\n",
    "    if i + 3 * s(i) == 2025:\n",
    "        print(i)"
   ]
  },
  {
   "cell_type": "code",
   "execution_count": 12,
   "id": "d2e95dcb",
   "metadata": {
    "ExecuteTime": {
     "end_time": "2023-12-03T12:50:11.795018Z",
     "start_time": "2023-12-03T12:50:11.790016Z"
    }
   },
   "outputs": [
    {
     "name": "stdout",
     "output_type": "stream",
     "text": [
      "20.89\n"
     ]
    }
   ],
   "source": [
    "print(round(188/9, 2))"
   ]
  },
  {
   "cell_type": "code",
   "execution_count": null,
   "id": "768a729b",
   "metadata": {},
   "outputs": [],
   "source": []
  }
 ],
 "metadata": {
  "kernelspec": {
   "display_name": "Python 3 (ipykernel)",
   "language": "python",
   "name": "python3"
  },
  "language_info": {
   "codemirror_mode": {
    "name": "ipython",
    "version": 3
   },
   "file_extension": ".py",
   "mimetype": "text/x-python",
   "name": "python",
   "nbconvert_exporter": "python",
   "pygments_lexer": "ipython3",
   "version": "3.11.5"
  }
 },
 "nbformat": 4,
 "nbformat_minor": 5
}
