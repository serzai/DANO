{
 "cells": [
  {
   "cell_type": "markdown",
   "metadata": {},
   "source": [
    "# Анализ данных"
   ]
  },
  {
   "cell_type": "markdown",
   "metadata": {},
   "source": [
    "https://www.data-to-viz.com/"
   ]
  },
  {
   "cell_type": "markdown",
   "metadata": {},
   "source": [
    "Библиотеки"
   ]
  },
  {
   "cell_type": "code",
   "execution_count": 1,
   "metadata": {
    "ExecuteTime": {
     "end_time": "2023-11-18T14:54:19.996744Z",
     "start_time": "2023-11-18T14:54:17.295611Z"
    }
   },
   "outputs": [],
   "source": [
    "import pandas as pd\n",
    "import seaborn as sns\n",
    "import matplotlib.pyplot as plt\n",
    "import numpy as np\n",
    "from scipy.stats import pearsonr, spearmanr, chi2_contingency, ttest_ind, mannwhitneyu, shapiro\n",
    "from sklearn.model_selection import train_test_split\n",
    "from sklearn.preprocessing import OneHotEncoder\n",
    "from sklearn.linear_model import LinearRegression\n",
    "from sklearn.metrics import r2_score, mean_absolute_error, mean_squared_error, mean_absolute_percentage_error"
   ]
  },
  {
   "cell_type": "markdown",
   "metadata": {},
   "source": [
    "Важные функции pandas"
   ]
  },
  {
   "cell_type": "code",
   "execution_count": null,
   "metadata": {},
   "outputs": [],
   "source": [
    "df = pd.read_csv('data.csv', sep=',', skipinitialspace=True)     # Чтение\n",
    "df = pd.read_excel('data.xlsx', sep=',', skipinitialspace=True)  # Чтение файла Excel\n",
    "df.dropna()                                                      # Убрать пропуски\n",
    "df[''].isna()                                                    # Маска по пропущенным значениям\n",
    "df.fillna('')                                                    # Заменить пропуски на что-то\n",
    "df.ffill()                                                       # Заполнить пропуски предыдущим значением\n",
    "df.columns.str.replace(' ', '_').str.lower()                     # Приведение столбцов к pep8\n",
    "df.dtypes\n",
    "df.drop()                                                        # Убрать колонку\n",
    "df.assign(new_col=[])                                            # Создать/изменить колонки\n",
    "df[''].apply(lambda x: x)                                        # Применить к колонке\n",
    "df.value_counts(normalize=True)                                  # Подсчитать кол-во значений (normalize=True - в долях)\n",
    "df.rename(columns={'колонка': 'новое_название'})                 # Переименовать колонки\n",
    "df.sort_index()                                                  # Отсортировать индексы\n",
    "df.sort_values('колонка', ascending=True)                        # Отсортировать элементы, True - по возрастанию\n",
    "df.groupby([], as_index=False)['колонка']                        # Группировка элементов\n",
    "df.agg({'колонка': 'функция'})                                   # Агрегация: max, min, sum, mean, count, nunique, своя функция\n",
    "df.transpose()                                                   # Транспонировать\n",
    "df.describe(include=[], exclude=[])                              # Описание столбцов по основным метрикам\n",
    "df.shape()                                                       # Кол-во строк и столбцов\n",
    "df.query('покупательская_активность==\"Снизилась\"')               # Сортировка\n",
    "df.mask()                                                        # Маска по условию\n",
    "df.loc('строка', 'колонка')\n",
    "df.loc['условие для строк, не в кавычках', 'для колонок']        # Аналог query, но лучше\n",
    "df.loc[df[''].isin([])]                                          # Проверка по множеству значений\n",
    "df.drop_duplicates()                                             # Убрать дупликаты\n",
    "df[''].nunique()                                                 # Кол-во уникальных значений\n",
    "df[''].unique()                                                  # Уникальные значения\n",
    "df.merge(df1, how = 'inner', on = 'по_какой_колонке',\n",
    "         left_on='левая_колонка', right_on='правая')             # Объединить таблицы, how=['outer', 'inner', 'left', 'right']; либо on, либо left_on и right_on\n",
    "df.sample(n=3, random_state=1)                                   # Случайная выборка, n - кол-во, random_state - зерно\n",
    "df.pivot(index='', columns='', values='')                        # Сводная таблица\n",
    "df.explode('колонка')                                            # Раскрыть список на несколько строк\n",
    "df.corr()                                                        # Корреляция всех колонок междду друг другом\n",
    "df.to_csv('data_new.csv')                                        # Упаковать датафрейм в csv\n",
    "\n",
    "# Преобразование к типам\n",
    "df[''].astype('int64')                                           # int64, float64, object\n",
    "pd.to_datetime(df[''], format='%d.%m.%Y')                        # %d - день, %m - месяц, %Y - год, %H - час, %M - минута, %S - секунда\n",
    "df[''].to_frame()\n",
    "pd.Series([], index=[])\n",
    "pd.DataFrame({}, index=[])\n",
    "\n",
    "# Работа с датами\n",
    "df[''] >= pd.to_datetime('01.01.2000', format='%d.%m.%Y')         # Сравнение дат\n",
    "df[''].dt.year                                                    # year, month, day, hour, minute, second\n",
    "df[''].dt.round('D')                                              # Округление до D - дня, H - часа, T - минут, S - секунд, можно исп. функции floor, ceil\n",
    "df[''].dt.to_period('M').dt.to_timestamp()                        # Округление вниз до M - месяца, Y - года\n",
    "\n",
    "cur_date = pd.to_datetime('05.11.2023', format='%d.%m.%Y')\n",
    "diff = cur_date - df['date']\n",
    "diff.dt.total_seconds()                                           # Перевод в секунды разницы"
   ]
  },
  {
   "cell_type": "markdown",
   "metadata": {},
   "source": [
    "Важные функции pyplot и seaborn"
   ]
  },
  {
   "cell_type": "code",
   "execution_count": null,
   "metadata": {},
   "outputs": [],
   "source": [
    "# Включить сетку\n",
    "plt.grid(True)\n",
    "# Название графика\n",
    "plt.title('')\n",
    "plt.ylabel('')\n",
    "plt.hist(df[''], fill=True)                                      # Гистограмма\n",
    "plt.pie(x=data,                                                  # Пирог\n",
    "        labels=data.index,\n",
    "        autopct='%1.1f%%')\n",
    "# Сохранить график\n",
    "plt.savefig('hist.png')\n",
    "plt.show()\n",
    "plt.legend(loc='lower center',                                   # Передвинуть легенду\n",
    "           title='оператор_линии')                               # Переименовать легенду\n",
    "\n",
    "\n",
    "# Настройка для более красивого отображения графиков с помощью seaborn.\n",
    "sns.set(rc={'figure.figsize': (11.7, 8.27)})\n",
    "graph.set(xlabel='', ylabel='')                                  # Названия осей\n",
    "plot = sns.kdeplot(data=df,                                      # KDE-plot, датафрейм\n",
    "                   x='колонка',                                  # По какой колонке\n",
    "                   fill=True,\n",
    "                   hue='колонка',                                # Значения из какой колонки\n",
    "                   hue_order=[],\n",
    "                   multiple='stack',\n",
    "                   legend=True,                                  # Включить легенду\n",
    "                   ax=axes[0])                                   # Для subplot\n",
    "sns.countplot(y=df[''],\n",
    "              order=df[''].value_counts.index,\n",
    "              orient='h')                                        # Столбчатая диаграмма\n",
    "sns.histplot(data=df,\n",
    "             x='колонка',\n",
    "             bins=20,\n",
    "             kde=True)\n",
    "sns.lineplot()\n",
    "sns.boxplot(data=df, x='', y='')                                 # Ящик с усами (диаграмма размаха)\n",
    "sns.scatterplot(data=df,\n",
    "                x='',\n",
    "                y='',\n",
    "                hue_order='',\n",
    "                legend='brief')                                  # Диаграмма рассеяния\n",
    "sns.regplot()                                                    # Диаграмма рассеяния с отображением линии\n",
    "sns.swarmplot()                                                  # Диаграмма рассеяния для категориальных\n",
    "sns.pairplot(data=df,\n",
    "             hue='')                                             # График попарных зависимостей\n",
    "sns.heatmap(data, annot=True, fmt='g',\n",
    "            vmin='min знач', vmax='max знач',\n",
    "            cmap=sns.diverging_palette())                        # Тепловая карта по готовой таблице\n",
    "sns.move_legend()                                                # Передвинуть легенду\n",
    "plot.get_figure().savefig('kde.png')                             # Сохранить график\n",
    "\n",
    "# Вертикальная линия\n",
    "ax[0].axvline('число',\n",
    "              color='r',\n",
    "              linestyle='--',\n",
    "              label='')\n",
    "# Горизонтальная линия\n",
    "ax[0].axhline('число',\n",
    "              color='r',\n",
    "              linestyle='--',\n",
    "              label='')\n",
    "\n",
    "fig, axes = plt.subplots(1, 2, figsize=(9, 3), dpi=300)\n",
    "fig.suptitle('Название')"
   ]
  },
  {
   "cell_type": "markdown",
   "metadata": {},
   "source": [
    "## Функция для первичной проверки данных"
   ]
  },
  {
   "cell_type": "code",
   "execution_count": null,
   "metadata": {},
   "outputs": [],
   "source": [
    "def check_data(data_df):\n",
    "    print ('\\033[1m' + 'Изучим исходные данные'+ '\\033[0m')\n",
    "    print(data_df.info())\n",
    "    #print(data_df.shape)\n",
    "        \n",
    "    missed_cells = data_df.isnull().sum().sum()/(data_df.shape[0]*(data_df.shape[1]-1))\n",
    "    missed_rows = sum(data_df.isnull().sum(axis = 1)>0)/data_df.shape[0]\n",
    "    print ('\\033[1m' + '\\nПроверка пропусков'+ '\\033[0m')\n",
    "    print ('Количество пропусков: {:.0f}'.format(data_df.isnull().sum().sum()))\n",
    "    print ('Доля пропусков: {:.1%}'.format(missed_cells)+ '\\033[0m')\n",
    "    print ('Доля строк, содержащих пропуски: {:.1%}'.format(missed_rows))\n",
    "\n",
    "    ## Проверим дубликаты\n",
    "    print ('\\033[1m' + '\\nПроверка на дубликаты'+ '\\033[0m')\n",
    "    print('Количество полных дубликатов: ', data_df.duplicated().sum())\n",
    "        \n",
    "    ## Посмотрим на сами данные\n",
    "    print ('\\033[1m' + '\\nПервые десять строк датасета'+ '\\033[0m')\n",
    "    display(data_df.head(10))\n",
    "    \n",
    "    print('\\033[1m' + '\\nОписание количественных данных:'+ '\\033[0m')\n",
    "    display(data_df.describe().T)\n",
    "    \n",
    "    print('\\033[1m' + '\\nОписание категориальных данных:'+ '\\033[0m')\n",
    "    display(data_df.describe(include='object').T) \n",
    "    \n",
    "    \n",
    "    print('\\033[1m' + '\\nВывод уникальных значений по каждому категориальному признаку:'+ '\\033[0m')    \n",
    "    df_object = data_df.select_dtypes(include='object').columns\n",
    "    \n",
    "    for i in df_object:\n",
    "        print('\\033[1m' + '_'+ str(i) + '\\033[0m')\n",
    "        display(data_df[i].value_counts())"
   ]
  },
  {
   "cell_type": "markdown",
   "metadata": {},
   "source": [
    "## Функция для количественных переменных"
   ]
  },
  {
   "cell_type": "code",
   "execution_count": null,
   "metadata": {},
   "outputs": [],
   "source": [
    "def plot_hist(data, col_column):\n",
    "    '''\n",
    "    Функция отрисовки гистограмм и ящика с усами для количественных переменных.\n",
    "    На вход: исходная таблица и список количественных переменных.\n",
    "    На выходе: графики\n",
    "    '''\n",
    "    rows = len(col_column)\n",
    "    f, ax = plt.subplots(rows,2, figsize=(8, 15))\n",
    "    f.tight_layout()\n",
    "    f.set_figheight(30)\n",
    "    f.set_figwidth(14)\n",
    "    plt.rcParams.update({'font.size': 18})\n",
    "    \n",
    "    for i, col in enumerate(col_column):         \n",
    "        sns.histplot(data[col], kde=True, bins=24, ax = ax[i, 0])                    \n",
    "        sns.boxplot(data[col], ax = ax[i, 1])\n",
    "\n",
    "        ax[i, 0].set_xlabel(col)\n",
    "        ax[i, 1].set_xlabel(col)\n",
    "        ax[i, 0].set_ylabel('Количество')\n",
    "    plt.suptitle(\"Гистограмма и ящик с усами для количественных данных\", fontsize=22, y=1.01)\n",
    "    plt.show()"
   ]
  },
  {
   "cell_type": "markdown",
   "metadata": {},
   "source": [
    "## Отрисовка круговых диаграмм для категориальных переменных"
   ]
  },
  {
   "cell_type": "code",
   "execution_count": 1,
   "metadata": {
    "ExecuteTime": {
     "end_time": "2023-11-29T17:39:55.859232Z",
     "start_time": "2023-11-29T17:39:55.611559Z"
    }
   },
   "outputs": [
    {
     "ename": "NameError",
     "evalue": "name 'df' is not defined",
     "output_type": "error",
     "traceback": [
      "\u001b[0;31m---------------------------------------------------------------------------\u001b[0m",
      "\u001b[0;31mNameError\u001b[0m                                 Traceback (most recent call last)",
      "Cell \u001b[0;32mIn[1], line 38\u001b[0m\n\u001b[1;32m     35\u001b[0m     plt\u001b[38;5;241m.\u001b[39mshow()\n\u001b[1;32m     37\u001b[0m \u001b[38;5;66;03m# Пример\u001b[39;00m\n\u001b[0;32m---> 38\u001b[0m cat_graph(df, df\u001b[38;5;241m.\u001b[39mselect_dtypes(include\u001b[38;5;241m=\u001b[39m[\u001b[38;5;28mobject\u001b[39m])\u001b[38;5;241m.\u001b[39mcolumns)\n",
      "\u001b[0;31mNameError\u001b[0m: name 'df' is not defined"
     ]
    }
   ],
   "source": [
    "def cat_graph(df, cat_feat):\n",
    "    \n",
    "    '''\n",
    "    Функция отрисовки круговых диаграмм для категориальных переменных.\n",
    "    На вход: исходная таблица и список категориальных переменных.\n",
    "    На выходе: графики\n",
    "    '''\n",
    "  \n",
    "    params = {'axes.labelsize' : 12, 'figure.titlesize': 12,\n",
    "              'xtick.labelsize': 10, 'ytick.labelsize': 10\n",
    "             }\n",
    "    plt.rcParams.update(params)\n",
    "\n",
    "    colors = sns.color_palette('pastel')[ 0:10 ]\n",
    "        \n",
    "    cols = 2\n",
    "    rows = int(np.ceil(len(cat_feat) / cols))\n",
    "\n",
    "    fig, axs = plt.subplots(rows, cols, figsize = (10,10))\n",
    "    plt.tight_layout()\n",
    "\n",
    "    count = -1\n",
    "    for i in range(rows):\n",
    "        for x in range(cols):\n",
    "            count+=1\n",
    "            col = cat_feat[count]\n",
    "            df1 = pd.DataFrame(df.groupby([col])[col].count())\n",
    "            axs[i,x].pie(x=df1[col], colors = colors,\n",
    "                         labels=df1.index, \n",
    "                         autopct='%1.1f%%',)\n",
    "            axs[i,x].title.set_text(str(col))\n",
    "\n",
    "    plt.suptitle('Круговые диаграммы категориальных признаков')\n",
    "\n",
    "    plt.show()\n",
    "\n",
    "# Пример\n",
    "cat_graph(df, df.select_dtypes(include=[object]).columns)"
   ]
  },
  {
   "cell_type": "markdown",
   "metadata": {},
   "source": [
    "## Функция для проверки на нормальность данных"
   ]
  },
  {
   "cell_type": "code",
   "execution_count": null,
   "metadata": {},
   "outputs": [],
   "source": [
    "def normal_sum_test(x, Ptest):\n",
    "    \"\"\"\n",
    "    Функция проверяет нормальность/ненормальность распределения\n",
    "    по сумме 3-х тестов: Шапиро, Андерсона-Дарлинга, Харке-Бера\n",
    "\n",
    "    На выходе:\n",
    "    1 - ненормальное распределение\n",
    "    0 - нормальное распредление\n",
    "\n",
    "    Принцип большинства заложен.\n",
    "    Внутри есть функция расчёта критерия Андерсона, исходя из уровня значимости\n",
    "    \"\"\"\n",
    "\n",
    "    def anderson_chois_sig(A, Ptest):\n",
    "        if Ptest == 0.05:\n",
    "            ander = A[2]\n",
    "        elif Ptest == 0.01:\n",
    "            ander = A[4]\n",
    "        return ander\n",
    "\n",
    "    def normalnost_anderson(x, Ptest):\n",
    "        A2, crit, sig = anderson(x, dist='norm')\n",
    "        ad_pass = (A2 < crit)\n",
    "        norm = anderson_chois_sig(ad_pass, Ptest)\n",
    "        if norm == False:\n",
    "            return 1\n",
    "        return 0\n",
    "   # print(x)\n",
    "    p_shapiro = shapiro(x)[1]\n",
    "    p_jarque = jarque_bera(x)[1]\n",
    "\n",
    "    if p_shapiro < Ptest:\n",
    "        p_shapiros = 1\n",
    "    else:\n",
    "        p_shapiros = 0\n",
    "\n",
    "    if p_jarque < Ptest:\n",
    "        p_jarques = 1\n",
    "    else:\n",
    "        p_jarques = 0\n",
    "\n",
    "    p_anderson = normalnost_anderson(x, Ptest)  # 1 - ненормальное, 0 - нормальное\n",
    "\n",
    "    p_sum = p_shapiros + p_anderson + p_jarques\n",
    "\n",
    "    if (p_sum > 1):\n",
    "        return 1\n",
    "    else:\n",
    "        return 0"
   ]
  },
  {
   "cell_type": "markdown",
   "metadata": {},
   "source": [
    "# Корреляции"
   ]
  },
  {
   "cell_type": "markdown",
   "metadata": {},
   "source": [
    "-Для одинаковых факторов:"
   ]
  },
  {
   "cell_type": "markdown",
   "metadata": {},
   "source": [
    "--Номинальная: критерий \"хи-квадрат\""
   ]
  },
  {
   "cell_type": "code",
   "execution_count": null,
   "metadata": {},
   "outputs": [],
   "source": [
    "df_ct = pd.crosstab(df['колонка1'], df['колонка2'])            # Таблица частот\n",
    "print(df_ct)\n",
    "n = df_ct.sum().sum()\n",
    "chi = scipy.stats.chi2_contingency(df_ct)[0]\n",
    "r, k = df_ct.shape\n",
    "ans = np.sqrt(chi / (n * min((r - 1), (k - 1))))"
   ]
  },
  {
   "cell_type": "markdown",
   "metadata": {},
   "source": [
    "--Количественная (нормальная): корреляция Пирсона"
   ]
  },
  {
   "cell_type": "code",
   "execution_count": null,
   "metadata": {},
   "outputs": [],
   "source": [
    "df.corr(method='pearson')"
   ]
  },
  {
   "cell_type": "markdown",
   "metadata": {},
   "source": [
    "--Количественная (ненормальная): корреляция Спирмена\n"
   ]
  },
  {
   "cell_type": "code",
   "execution_count": null,
   "metadata": {},
   "outputs": [],
   "source": [
    "df.corr(method='spearman') "
   ]
  },
  {
   "cell_type": "markdown",
   "metadata": {},
   "source": [
    "-Для количественной и номинальной: отношение дисперсий"
   ]
  },
  {
   "cell_type": "code",
   "execution_count": null,
   "metadata": {},
   "outputs": [],
   "source": []
  },
  {
   "cell_type": "markdown",
   "metadata": {},
   "source": [
    "Подсчёт корректированного объёма выборки с учётом генеральной совокупности, предела погрешности, объёма выборки"
   ]
  },
  {
   "cell_type": "code",
   "execution_count": null,
   "metadata": {},
   "outputs": [],
   "source": [
    "def corr_n(N, n):\n",
    "    '''\n",
    "    Подсчёт корректированного объёма выборки с учётом генеральной совокупности\n",
    "    '''\n",
    "    return (n * N) / (N + n - 1)\n",
    "\n",
    "\n",
    "def count_H(z, p, n):\n",
    "    '''\n",
    "    Подсчёт предела погрешности\n",
    "    '''\n",
    "    return z * np.sqrt(p * (1 - p) / n)\n",
    "\n",
    "\n",
    "def count_n(z, p, H):\n",
    "    '''\n",
    "    Подсчёт объёма выборки\n",
    "    '''\n",
    "    return z ** 2 / H ** 2 * p * (1 - p)"
   ]
  },
  {
   "cell_type": "markdown",
   "metadata": {},
   "source": [
    "## Расчёт p-value"
   ]
  },
  {
   "cell_type": "markdown",
   "metadata": {},
   "source": [
    "Количественная-количественная"
   ]
  },
  {
   "cell_type": "markdown",
   "metadata": {},
   "source": [
    "-Нормальное распределение"
   ]
  },
  {
   "cell_type": "code",
   "execution_count": null,
   "metadata": {},
   "outputs": [],
   "source": [
    "pearsonr(df[''], df[''])"
   ]
  },
  {
   "cell_type": "markdown",
   "metadata": {},
   "source": [
    "-Ненормальное распределение"
   ]
  },
  {
   "cell_type": "code",
   "execution_count": null,
   "metadata": {},
   "outputs": [],
   "source": [
    "spearmanr(df[''], df[''])"
   ]
  },
  {
   "cell_type": "markdown",
   "metadata": {},
   "source": [
    "Номинальная-номинальная"
   ]
  },
  {
   "cell_type": "code",
   "execution_count": null,
   "metadata": {},
   "outputs": [],
   "source": [
    "contingency_table = pd.crosstab(df[''], df[''])\n",
    "chi2_contingency(contingency_table)"
   ]
  },
  {
   "cell_type": "markdown",
   "metadata": {},
   "source": [
    "Количественная-номинальная"
   ]
  },
  {
   "cell_type": "markdown",
   "metadata": {},
   "source": [
    "-Все имеют нормальное распределение"
   ]
  },
  {
   "cell_type": "code",
   "execution_count": null,
   "metadata": {
    "ExecuteTime": {
     "end_time": "2023-11-02T08:11:14.853416Z",
     "start_time": "2023-11-02T08:11:14.837388Z"
    }
   },
   "outputs": [],
   "source": [
    "ttest_ind(df[''], df[''], equal_var=False)"
   ]
  },
  {
   "cell_type": "markdown",
   "metadata": {},
   "source": [
    "-Не все имеют нормальное распределение"
   ]
  },
  {
   "cell_type": "code",
   "execution_count": null,
   "metadata": {},
   "outputs": [],
   "source": [
    "mannwhitneyu(df[''], df[''], alternative='two-sided')"
   ]
  },
  {
   "cell_type": "markdown",
   "metadata": {},
   "source": [
    "## Проверка на нормальность"
   ]
  },
  {
   "cell_type": "code",
   "execution_count": null,
   "metadata": {},
   "outputs": [],
   "source": [
    "shapiro(df[''])[1] >= 0.05"
   ]
  },
  {
   "cell_type": "markdown",
   "metadata": {
    "ExecuteTime": {
     "end_time": "2023-10-31T09:31:58.975238Z",
     "start_time": "2023-10-31T09:31:58.970064Z"
    }
   },
   "source": [
    "Форматирование Shift+Alt+F в VS Code либо Alt+A в Jupyter"
   ]
  },
  {
   "cell_type": "markdown",
   "metadata": {},
   "source": [
    "# Модель линейной регрессии"
   ]
  },
  {
   "cell_type": "code",
   "execution_count": null,
   "metadata": {},
   "outputs": [],
   "source": [
    "x_train, x_test, y_train, y_test = train_test_split(feature, target, test_size=0.15, random_state=42)"
   ]
  },
  {
   "cell_type": "code",
   "execution_count": null,
   "metadata": {},
   "outputs": [],
   "source": [
    "def get_ohe(train, categ):\n",
    "    '''\n",
    "    Функция для ohe_категоризации необходимых столбцов и последующего объединения с количественными столбцами\n",
    "    \n",
    "    На вход: выборка трайн или тест И названия категориальных столбцов\n",
    "    '''\n",
    "    temp_df = pd.DataFrame(data=ohe.transform(train[[categ]]), columns=ohe.get_feature_names_out())\n",
    "    data = pd.concat([train.reset_index(drop=True), temp_df], axis=1)\n",
    "    data = data.drop(columns=categ, axis=1)\n",
    "    return data"
   ]
  }
 ],
 "metadata": {
  "kernelspec": {
   "display_name": "Python 3 (ipykernel)",
   "language": "python",
   "name": "python3"
  },
  "language_info": {
   "codemirror_mode": {
    "name": "ipython",
    "version": 3
   },
   "file_extension": ".py",
   "mimetype": "text/x-python",
   "name": "python",
   "nbconvert_exporter": "python",
   "pygments_lexer": "ipython3",
   "version": "3.11.5"
  },
  "toc": {
   "base_numbering": 1,
   "nav_menu": {},
   "number_sections": true,
   "sideBar": true,
   "skip_h1_title": false,
   "title_cell": "Table of Contents",
   "title_sidebar": "Contents",
   "toc_cell": false,
   "toc_position": {},
   "toc_section_display": true,
   "toc_window_display": false
  }
 },
 "nbformat": 4,
 "nbformat_minor": 2
}
