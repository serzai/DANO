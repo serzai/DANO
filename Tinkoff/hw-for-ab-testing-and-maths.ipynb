{
 "cells": [
  {
   "cell_type": "markdown",
   "id": "31c8d92d",
   "metadata": {},
   "source": [
    "В этом блоке проанализируем А/Б тест\n",
    "\n",
    "Мы добавили на лендинг с оформлением дебетовой карты (https://www.tinkoff.ru/cards/debit-cards/tinkoff-black/) информацию о дополнительных кэшбеках, которые появляются благодаря нашим патнерам. Рассчитываем, что это вырастит конверсию из переходов на лендинг в оформление дебетовой карты. \n",
    "\n",
    "В приложенном файле вам доступны логи переходов на сайт и последующего оформления карточки за каждый день. "
   ]
  },
  {
   "cell_type": "code",
   "execution_count": 1,
   "id": "15fcdd54",
   "metadata": {
    "ExecuteTime": {
     "end_time": "2023-11-22T19:00:16.828125Z",
     "start_time": "2023-11-22T19:00:15.918610Z"
    }
   },
   "outputs": [],
   "source": [
    "# загрузим необходимые пакеты\n",
    "\n",
    "import pandas as pd\n",
    "\n",
    "import seaborn as sns\n",
    "import matplotlib.pyplot as plt\n",
    "import scipy.stats\n"
   ]
  },
  {
   "cell_type": "code",
   "execution_count": 3,
   "id": "7eb866a4",
   "metadata": {
    "ExecuteTime": {
     "end_time": "2023-11-22T19:00:42.027397Z",
     "start_time": "2023-11-22T19:00:41.974120Z"
    }
   },
   "outputs": [],
   "source": [
    "# Загрузите таблицу в датафрейм\n",
    "\n",
    "df = pd.read_csv('hw_ab.csv')"
   ]
  },
  {
   "cell_type": "code",
   "execution_count": 4,
   "id": "a21af2f7",
   "metadata": {
    "ExecuteTime": {
     "end_time": "2023-11-22T19:01:03.589801Z",
     "start_time": "2023-11-22T19:01:03.567914Z"
    }
   },
   "outputs": [
    {
     "data": {
      "text/html": [
       "<div>\n",
       "<style scoped>\n",
       "    .dataframe tbody tr th:only-of-type {\n",
       "        vertical-align: middle;\n",
       "    }\n",
       "\n",
       "    .dataframe tbody tr th {\n",
       "        vertical-align: top;\n",
       "    }\n",
       "\n",
       "    .dataframe thead th {\n",
       "        text-align: right;\n",
       "    }\n",
       "</style>\n",
       "<table border=\"1\" class=\"dataframe\">\n",
       "  <thead>\n",
       "    <tr style=\"text-align: right;\">\n",
       "      <th></th>\n",
       "      <th>date</th>\n",
       "      <th>id</th>\n",
       "      <th>group</th>\n",
       "      <th>converted</th>\n",
       "    </tr>\n",
       "  </thead>\n",
       "  <tbody>\n",
       "    <tr>\n",
       "      <th>0</th>\n",
       "      <td>2023-08-01</td>\n",
       "      <td>5030836</td>\n",
       "      <td>control</td>\n",
       "      <td>0</td>\n",
       "    </tr>\n",
       "    <tr>\n",
       "      <th>1</th>\n",
       "      <td>2023-08-01</td>\n",
       "      <td>5091425</td>\n",
       "      <td>control</td>\n",
       "      <td>0</td>\n",
       "    </tr>\n",
       "    <tr>\n",
       "      <th>2</th>\n",
       "      <td>2023-08-01</td>\n",
       "      <td>5106537</td>\n",
       "      <td>control</td>\n",
       "      <td>0</td>\n",
       "    </tr>\n",
       "    <tr>\n",
       "      <th>3</th>\n",
       "      <td>2023-08-01</td>\n",
       "      <td>4556522</td>\n",
       "      <td>control</td>\n",
       "      <td>0</td>\n",
       "    </tr>\n",
       "    <tr>\n",
       "      <th>4</th>\n",
       "      <td>2023-08-01</td>\n",
       "      <td>4002917</td>\n",
       "      <td>control</td>\n",
       "      <td>0</td>\n",
       "    </tr>\n",
       "    <tr>\n",
       "      <th>...</th>\n",
       "      <td>...</td>\n",
       "      <td>...</td>\n",
       "      <td>...</td>\n",
       "      <td>...</td>\n",
       "    </tr>\n",
       "    <tr>\n",
       "      <th>94773</th>\n",
       "      <td>2023-11-01</td>\n",
       "      <td>7729860</td>\n",
       "      <td>test</td>\n",
       "      <td>0</td>\n",
       "    </tr>\n",
       "    <tr>\n",
       "      <th>94774</th>\n",
       "      <td>2023-11-01</td>\n",
       "      <td>8088716</td>\n",
       "      <td>test</td>\n",
       "      <td>0</td>\n",
       "    </tr>\n",
       "    <tr>\n",
       "      <th>94775</th>\n",
       "      <td>2023-11-01</td>\n",
       "      <td>4478281</td>\n",
       "      <td>test</td>\n",
       "      <td>0</td>\n",
       "    </tr>\n",
       "    <tr>\n",
       "      <th>94776</th>\n",
       "      <td>2023-11-01</td>\n",
       "      <td>5710762</td>\n",
       "      <td>test</td>\n",
       "      <td>0</td>\n",
       "    </tr>\n",
       "    <tr>\n",
       "      <th>94777</th>\n",
       "      <td>2023-11-01</td>\n",
       "      <td>8505333</td>\n",
       "      <td>test</td>\n",
       "      <td>0</td>\n",
       "    </tr>\n",
       "  </tbody>\n",
       "</table>\n",
       "<p>94778 rows × 4 columns</p>\n",
       "</div>"
      ],
      "text/plain": [
       "             date       id    group  converted\n",
       "0      2023-08-01  5030836  control          0\n",
       "1      2023-08-01  5091425  control          0\n",
       "2      2023-08-01  5106537  control          0\n",
       "3      2023-08-01  4556522  control          0\n",
       "4      2023-08-01  4002917  control          0\n",
       "...           ...      ...      ...        ...\n",
       "94773  2023-11-01  7729860     test          0\n",
       "94774  2023-11-01  8088716     test          0\n",
       "94775  2023-11-01  4478281     test          0\n",
       "94776  2023-11-01  5710762     test          0\n",
       "94777  2023-11-01  8505333     test          0\n",
       "\n",
       "[94778 rows x 4 columns]"
      ]
     },
     "execution_count": 4,
     "metadata": {},
     "output_type": "execute_result"
    }
   ],
   "source": [
    "# Посмотрите на поля и проанализируйте таблицу: она содержит поля \n",
    "# date — дата захода пользователя на лендинг\n",
    "# id — идентификатор, присвоенный пользователю\n",
    "# group — группа теста или контроля\n",
    "# converted – 1, если пользователь оформил карточку и 0, если не оформил\n",
    "\n",
    "df"
   ]
  },
  {
   "cell_type": "code",
   "execution_count": 10,
   "id": "c30643b7",
   "metadata": {
    "ExecuteTime": {
     "end_time": "2023-11-22T19:02:39.585478Z",
     "start_time": "2023-11-22T19:02:39.574058Z"
    }
   },
   "outputs": [
    {
     "data": {
      "text/plain": [
       "94778"
      ]
     },
     "execution_count": 10,
     "metadata": {},
     "output_type": "execute_result"
    }
   ],
   "source": [
    "# убедитесь,что пользователи уникальные\n",
    "df.id.nunique()"
   ]
  },
  {
   "cell_type": "code",
   "execution_count": 14,
   "id": "f4951574",
   "metadata": {
    "ExecuteTime": {
     "end_time": "2023-11-22T19:04:27.915957Z",
     "start_time": "2023-11-22T19:04:27.902054Z"
    }
   },
   "outputs": [
    {
     "data": {
      "text/plain": [
       "group\n",
       "test       47448\n",
       "control    47330\n",
       "Name: count, dtype: int64"
      ]
     },
     "execution_count": 14,
     "metadata": {},
     "output_type": "execute_result"
    }
   ],
   "source": [
    "# убедитесь, что пользователей в тесте и контрле приблизительно равное количество, \n",
    "# в каждой группе каждый день теста были пользователи, и они как оформляли карту, так и нет\n",
    "\n",
    "df['group'].value_counts()"
   ]
  },
  {
   "cell_type": "code",
   "execution_count": 17,
   "id": "b83aa200",
   "metadata": {
    "ExecuteTime": {
     "end_time": "2023-11-22T19:07:21.522439Z",
     "start_time": "2023-11-22T19:07:21.491813Z"
    }
   },
   "outputs": [],
   "source": [
    "# отличаются ли конверсии в тесте и в контроле?\n",
    "\n",
    "conv_test = df.loc[df['group'] == 'test', 'converted'].sum() / df.loc[df['group'] == 'test', 'converted'].shape[0]\n",
    "conv_control = df.loc[df['group'] == 'control', 'converted'].sum() / df.loc[df['group'] == 'control', 'converted'].shape[0]"
   ]
  },
  {
   "cell_type": "code",
   "execution_count": null,
   "id": "ab7c7012",
   "metadata": {},
   "outputs": [],
   "source": [
    "# конверсия в контроле: \n",
    "print(conv_control)"
   ]
  },
  {
   "cell_type": "code",
   "execution_count": null,
   "id": "1d363c22",
   "metadata": {},
   "outputs": [],
   "source": [
    "# конверсия в тесте: \n",
    "print(conv_test)"
   ]
  },
  {
   "cell_type": "code",
   "execution_count": 18,
   "id": "9c454e1c",
   "metadata": {
    "ExecuteTime": {
     "end_time": "2023-11-22T19:09:05.144976Z",
     "start_time": "2023-11-22T19:09:05.141960Z"
    }
   },
   "outputs": [
    {
     "name": "stdout",
     "output_type": "stream",
     "text": [
      "0.14991652616768292\n"
     ]
    }
   ],
   "source": [
    "# отношение конверсий: \n",
    "\n",
    "# conv_test = # посчитайте число открытых карт в тесте\n",
    "# seen_test = # посчитайте общее число наблюдений в тесте, это число заходов на лендинг\n",
    "\n",
    "# conv_control = # посчитайте число открытых карт в контроле\n",
    "# seen_control = # посчитайте общее число наблюдений в контроле, это число заходов на лендинг\n",
    "\n",
    "print((conv_test)/(conv_control)-1)"
   ]
  },
  {
   "cell_type": "code",
   "execution_count": null,
   "id": "7ff3f206",
   "metadata": {},
   "outputs": [],
   "source": [
    "# значимо ли это отличие? \n",
    "# проверьте статистическим тестом"
   ]
  },
  {
   "cell_type": "code",
   "execution_count": 24,
   "id": "2f4ac4c9",
   "metadata": {
    "ExecuteTime": {
     "end_time": "2023-11-22T19:13:19.390872Z",
     "start_time": "2023-11-22T19:13:19.363349Z"
    }
   },
   "outputs": [
    {
     "name": "stderr",
     "output_type": "stream",
     "text": [
      "/var/folders/nm/y8x88jvj7gn92z749qbk85fh0000gn/T/ipykernel_12200/209062720.py:8: DeprecationWarning: 'binom_test' is deprecated in favour of 'binomtest' from version 1.7.0 and will be removed in Scipy 1.12.0.\n",
      "  binom_test(x=df.loc[df['group'] == 'test', 'converted'].sum(\n"
     ]
    },
    {
     "data": {
      "text/plain": [
       "1.3890440395721523e-43"
      ]
     },
     "execution_count": 24,
     "metadata": {},
     "output_type": "execute_result"
    }
   ],
   "source": [
    "# сначала используем знание о том, что конверсии распределены биномиально:\n",
    "# используйте статистический тест и проинтерпретируйте результаты\n",
    "# как меняется ваш результат в зависимости от принятого вами уровня значимости?\n",
    "\n",
    "from scipy.stats import binom_test\n",
    "\n",
    "# используйте документацию, чтобы с помощью conv_test,seen_test,conv_control,seen_control получить результат теста\n",
    "binom_test(x=df.loc[df['group'] == 'test', 'converted'].sum(\n",
    "), n=df.loc[df['group'] == 'test', 'converted'].shape[0], p=0.1)"
   ]
  },
  {
   "cell_type": "code",
   "execution_count": 25,
   "id": "334a9514",
   "metadata": {
    "ExecuteTime": {
     "end_time": "2023-11-22T19:13:47.517248Z",
     "start_time": "2023-11-22T19:13:47.504793Z"
    }
   },
   "outputs": [
    {
     "data": {
      "text/plain": [
       "93"
      ]
     },
     "execution_count": 25,
     "metadata": {},
     "output_type": "execute_result"
    }
   ],
   "source": [
    "# достаточно ли длинным был тест, чтобы мы могли посчитать средние конверсии и сравнить значимость их различия? \n",
    "# посчитайте количество дней теста, убедитесь, что среди них нет пропусков\n",
    "\n",
    "df['date'].nunique()"
   ]
  },
  {
   "cell_type": "code",
   "execution_count": 27,
   "id": "04f20c42",
   "metadata": {
    "ExecuteTime": {
     "end_time": "2023-11-22T19:17:24.536762Z",
     "start_time": "2023-11-22T19:17:24.513748Z"
    }
   },
   "outputs": [
    {
     "data": {
      "text/html": [
       "<div>\n",
       "<style scoped>\n",
       "    .dataframe tbody tr th:only-of-type {\n",
       "        vertical-align: middle;\n",
       "    }\n",
       "\n",
       "    .dataframe tbody tr th {\n",
       "        vertical-align: top;\n",
       "    }\n",
       "\n",
       "    .dataframe thead th {\n",
       "        text-align: right;\n",
       "    }\n",
       "</style>\n",
       "<table border=\"1\" class=\"dataframe\">\n",
       "  <thead>\n",
       "    <tr style=\"text-align: right;\">\n",
       "      <th></th>\n",
       "      <th>date</th>\n",
       "      <th>converted</th>\n",
       "    </tr>\n",
       "  </thead>\n",
       "  <tbody>\n",
       "    <tr>\n",
       "      <th>0</th>\n",
       "      <td>2023-08-01</td>\n",
       "      <td>108</td>\n",
       "    </tr>\n",
       "    <tr>\n",
       "      <th>1</th>\n",
       "      <td>2023-08-02</td>\n",
       "      <td>121</td>\n",
       "    </tr>\n",
       "    <tr>\n",
       "      <th>2</th>\n",
       "      <td>2023-08-03</td>\n",
       "      <td>129</td>\n",
       "    </tr>\n",
       "    <tr>\n",
       "      <th>3</th>\n",
       "      <td>2023-08-04</td>\n",
       "      <td>110</td>\n",
       "    </tr>\n",
       "    <tr>\n",
       "      <th>4</th>\n",
       "      <td>2023-08-05</td>\n",
       "      <td>101</td>\n",
       "    </tr>\n",
       "    <tr>\n",
       "      <th>...</th>\n",
       "      <td>...</td>\n",
       "      <td>...</td>\n",
       "    </tr>\n",
       "    <tr>\n",
       "      <th>88</th>\n",
       "      <td>2023-10-28</td>\n",
       "      <td>113</td>\n",
       "    </tr>\n",
       "    <tr>\n",
       "      <th>89</th>\n",
       "      <td>2023-10-29</td>\n",
       "      <td>113</td>\n",
       "    </tr>\n",
       "    <tr>\n",
       "      <th>90</th>\n",
       "      <td>2023-10-30</td>\n",
       "      <td>118</td>\n",
       "    </tr>\n",
       "    <tr>\n",
       "      <th>91</th>\n",
       "      <td>2023-10-31</td>\n",
       "      <td>122</td>\n",
       "    </tr>\n",
       "    <tr>\n",
       "      <th>92</th>\n",
       "      <td>2023-11-01</td>\n",
       "      <td>98</td>\n",
       "    </tr>\n",
       "  </tbody>\n",
       "</table>\n",
       "<p>93 rows × 2 columns</p>\n",
       "</div>"
      ],
      "text/plain": [
       "          date  converted\n",
       "0   2023-08-01        108\n",
       "1   2023-08-02        121\n",
       "2   2023-08-03        129\n",
       "3   2023-08-04        110\n",
       "4   2023-08-05        101\n",
       "..         ...        ...\n",
       "88  2023-10-28        113\n",
       "89  2023-10-29        113\n",
       "90  2023-10-30        118\n",
       "91  2023-10-31        122\n",
       "92  2023-11-01         98\n",
       "\n",
       "[93 rows x 2 columns]"
      ]
     },
     "execution_count": 27,
     "metadata": {},
     "output_type": "execute_result"
    }
   ],
   "source": [
    "df.groupby('date', as_index=False).agg({'converted': 'sum'})"
   ]
  },
  {
   "cell_type": "code",
   "execution_count": 28,
   "id": "c7a4b257",
   "metadata": {
    "ExecuteTime": {
     "end_time": "2023-11-22T19:18:54.503288Z",
     "start_time": "2023-11-22T19:18:54.464033Z"
    }
   },
   "outputs": [],
   "source": [
    "# посчитайте количество открытых карт и средние конверсии по дням в тесте и в контроле:\n",
    "\n",
    "test_n_by_date = df.loc[df['group'] == 'test'].groupby('date', as_index=False).agg({'converted': 'sum'})\n",
    "# посчитайте количество открытых карт и средние конверсии по дням в тесте\n",
    "control_n_by_date = df.loc[df['group'] == 'control'].groupby('date', as_index=False).agg({'converted': 'sum'})\n",
    "# посчитайте количество открытых карт и средние конверсии по дням в контроле\n"
   ]
  },
  {
   "cell_type": "code",
   "execution_count": 39,
   "id": "3d06d3ee",
   "metadata": {
    "ExecuteTime": {
     "end_time": "2023-11-22T19:25:11.574123Z",
     "start_time": "2023-11-22T19:25:11.524708Z"
    }
   },
   "outputs": [],
   "source": [
    "# посчитайте конверсию из посещений в оформленние карт по дням\n",
    "\n",
    "test_by_date = df.loc[df['group'] == 'test'].groupby('date', as_index=False)['group'].value_counts()\n",
    "test_conv_by_date = test_n_by_date['converted'] / test_by_date['count']\n",
    "# посчитайте конверсию из посещений в оформленние карт по дням в тесте\n",
    "control_by_date = df.loc[df['group'] == 'control'].groupby('date', as_index=False)['group'].value_counts()\n",
    "control_conv_by_date =  control_n_by_date['converted'] / control_by_date['count']\n",
    "# посчитайте конверсию из посещений в оформленние карт по дням в контроле\n"
   ]
  },
  {
   "cell_type": "code",
   "execution_count": 37,
   "id": "e9e39e22",
   "metadata": {
    "ExecuteTime": {
     "end_time": "2023-11-22T19:21:43.413574Z",
     "start_time": "2023-11-22T19:21:43.378186Z"
    }
   },
   "outputs": [
    {
     "data": {
      "text/html": [
       "<div>\n",
       "<style scoped>\n",
       "    .dataframe tbody tr th:only-of-type {\n",
       "        vertical-align: middle;\n",
       "    }\n",
       "\n",
       "    .dataframe tbody tr th {\n",
       "        vertical-align: top;\n",
       "    }\n",
       "\n",
       "    .dataframe thead th {\n",
       "        text-align: right;\n",
       "    }\n",
       "</style>\n",
       "<table border=\"1\" class=\"dataframe\">\n",
       "  <thead>\n",
       "    <tr style=\"text-align: right;\">\n",
       "      <th></th>\n",
       "      <th>date</th>\n",
       "      <th>group</th>\n",
       "      <th>count</th>\n",
       "    </tr>\n",
       "  </thead>\n",
       "  <tbody>\n",
       "    <tr>\n",
       "      <th>0</th>\n",
       "      <td>2023-08-01</td>\n",
       "      <td>test</td>\n",
       "      <td>513</td>\n",
       "    </tr>\n",
       "    <tr>\n",
       "      <th>1</th>\n",
       "      <td>2023-08-02</td>\n",
       "      <td>test</td>\n",
       "      <td>508</td>\n",
       "    </tr>\n",
       "    <tr>\n",
       "      <th>2</th>\n",
       "      <td>2023-08-03</td>\n",
       "      <td>test</td>\n",
       "      <td>539</td>\n",
       "    </tr>\n",
       "    <tr>\n",
       "      <th>3</th>\n",
       "      <td>2023-08-04</td>\n",
       "      <td>test</td>\n",
       "      <td>499</td>\n",
       "    </tr>\n",
       "    <tr>\n",
       "      <th>4</th>\n",
       "      <td>2023-08-05</td>\n",
       "      <td>test</td>\n",
       "      <td>506</td>\n",
       "    </tr>\n",
       "    <tr>\n",
       "      <th>...</th>\n",
       "      <td>...</td>\n",
       "      <td>...</td>\n",
       "      <td>...</td>\n",
       "    </tr>\n",
       "    <tr>\n",
       "      <th>88</th>\n",
       "      <td>2023-10-28</td>\n",
       "      <td>test</td>\n",
       "      <td>530</td>\n",
       "    </tr>\n",
       "    <tr>\n",
       "      <th>89</th>\n",
       "      <td>2023-10-29</td>\n",
       "      <td>test</td>\n",
       "      <td>538</td>\n",
       "    </tr>\n",
       "    <tr>\n",
       "      <th>90</th>\n",
       "      <td>2023-10-30</td>\n",
       "      <td>test</td>\n",
       "      <td>480</td>\n",
       "    </tr>\n",
       "    <tr>\n",
       "      <th>91</th>\n",
       "      <td>2023-10-31</td>\n",
       "      <td>test</td>\n",
       "      <td>508</td>\n",
       "    </tr>\n",
       "    <tr>\n",
       "      <th>92</th>\n",
       "      <td>2023-11-01</td>\n",
       "      <td>test</td>\n",
       "      <td>525</td>\n",
       "    </tr>\n",
       "  </tbody>\n",
       "</table>\n",
       "<p>93 rows × 3 columns</p>\n",
       "</div>"
      ],
      "text/plain": [
       "          date group  count\n",
       "0   2023-08-01  test    513\n",
       "1   2023-08-02  test    508\n",
       "2   2023-08-03  test    539\n",
       "3   2023-08-04  test    499\n",
       "4   2023-08-05  test    506\n",
       "..         ...   ...    ...\n",
       "88  2023-10-28  test    530\n",
       "89  2023-10-29  test    538\n",
       "90  2023-10-30  test    480\n",
       "91  2023-10-31  test    508\n",
       "92  2023-11-01  test    525\n",
       "\n",
       "[93 rows x 3 columns]"
      ]
     },
     "execution_count": 37,
     "metadata": {},
     "output_type": "execute_result"
    }
   ],
   "source": [
    "df.loc[df['group'] == 'test'].groupby('date', as_index=False)['group'].value_counts()"
   ]
  },
  {
   "cell_type": "code",
   "execution_count": 41,
   "id": "0dcf45c1",
   "metadata": {
    "ExecuteTime": {
     "end_time": "2023-11-22T19:26:05.983949Z",
     "start_time": "2023-11-22T19:26:05.884557Z"
    }
   },
   "outputs": [
    {
     "data": {
      "text/plain": [
       "(0.0, 100.0)"
      ]
     },
     "execution_count": 41,
     "metadata": {},
     "output_type": "execute_result"
    },
    {
     "data": {
      "image/png": "[encoded data removed]",
      "text/plain": [
       "<Figure size 640x480 with 1 Axes>"
      ]
     },
     "metadata": {},
     "output_type": "display_data"
    }
   ],
   "source": [
    "# построим график, отражающий количество оформленных карт по дням\n",
    "\n",
    "sns.lineplot(data= test_n_by_date['converted'], color = \"red\")\n",
    "sns.lineplot(data= control_n_by_date['converted'], color =\"blue\")\n",
    "\n",
    "plt.ylim(0, 100)"
   ]
  },
  {
   "cell_type": "code",
   "execution_count": 42,
   "id": "fe0727c9",
   "metadata": {
    "ExecuteTime": {
     "end_time": "2023-11-22T19:26:47.412827Z",
     "start_time": "2023-11-22T19:26:47.308945Z"
    }
   },
   "outputs": [
    {
     "data": {
      "text/plain": [
       "(0.0, 0.2)"
      ]
     },
     "execution_count": 42,
     "metadata": {},
     "output_type": "execute_result"
    },
    {
     "data": {
      "image/png": "[encoded data removed]",
      "text/plain": [
       "<Figure size 640x480 with 1 Axes>"
      ]
     },
     "metadata": {},
     "output_type": "display_data"
    }
   ],
   "source": [
    "# построим график, отражающий конверсию из посещений в оформленние карт по дням\n",
    "\n",
    "sns.lineplot(data= test_conv_by_date, color = \"red\")\n",
    "sns.lineplot(data= control_conv_by_date, color =\"blue\")\n",
    "\n",
    "plt.ylim(0, 0.2)"
   ]
  },
  {
   "cell_type": "code",
   "execution_count": null,
   "id": "3f39081d",
   "metadata": {},
   "outputs": [],
   "source": []
  },
  {
   "cell_type": "code",
   "execution_count": 46,
   "id": "d9195606",
   "metadata": {
    "ExecuteTime": {
     "end_time": "2023-11-22T19:28:32.107812Z",
     "start_time": "2023-11-22T19:28:32.006337Z"
    }
   },
   "outputs": [
    {
     "data": {
      "image/png": "[encoded data removed]",
      "text/plain": [
       "<Figure size 640x480 with 1 Axes>"
      ]
     },
     "metadata": {},
     "output_type": "display_data"
    }
   ],
   "source": [
    "# построим распределения средних значений по дням в тесте и в контроле\n",
    "# на что похоже это распределение?\n",
    "\n",
    "plt.hist(test_conv_by_date, 20, density=True,color='r',alpha=0.3 )\n",
    "plt.hist(control_conv_by_date, 20, density=True,color='b',alpha=0.3 )\n",
    "\n",
    "plt.show()"
   ]
  },
  {
   "cell_type": "code",
   "execution_count": 48,
   "id": "dac6934f",
   "metadata": {
    "ExecuteTime": {
     "end_time": "2023-11-22T19:28:57.483100Z",
     "start_time": "2023-11-22T19:28:57.397893Z"
    }
   },
   "outputs": [
    {
     "data": {
      "image/png": "[encoded data removed]",
      "text/plain": [
       "<Figure size 640x480 with 1 Axes>"
      ]
     },
     "metadata": {},
     "output_type": "display_data"
    }
   ],
   "source": [
    "plt.hist(test_n_by_date['converted'], 20, density=True,color='r',alpha=0.3 )\n",
    "plt.hist(control_n_by_date['converted'], 20, density=True,color='b',alpha=0.3 )\n",
    "\n",
    "plt.show()"
   ]
  },
  {
   "cell_type": "code",
   "execution_count": 49,
   "id": "de6a092c",
   "metadata": {
    "ExecuteTime": {
     "end_time": "2023-11-22T19:30:12.450588Z",
     "start_time": "2023-11-22T19:30:12.440242Z"
    }
   },
   "outputs": [
    {
     "data": {
      "text/plain": [
       "TtestResult(statistic=7.209029622736518, pvalue=1.4124701519287306e-11, df=184.0)"
      ]
     },
     "execution_count": 49,
     "metadata": {},
     "output_type": "execute_result"
    }
   ],
   "source": [
    "# теперь используем знание о том, что средние конверсии распределены нормально\n",
    "# используйте статистический тест и проинтерпретируйте результаты\n",
    "# как меняется ваш результат в зависимости от принятого вами уровня значимости?\n",
    "\n",
    "from scipy.stats import ttest_ind\n",
    "\n",
    "ttest_ind(test_conv_by_date, control_conv_by_date) # используйте документацию, test_conv_by_date, control_conv_by_date, чтобы провести тест\n"
   ]
  },
  {
   "cell_type": "code",
   "execution_count": 50,
   "id": "23d4d918",
   "metadata": {
    "ExecuteTime": {
     "end_time": "2023-11-22T19:30:45.260924Z",
     "start_time": "2023-11-22T19:30:45.255237Z"
    }
   },
   "outputs": [
    {
     "data": {
      "text/plain": [
       "TtestResult(statistic=7.048113433738303, pvalue=3.529180601649641e-11, df=184.0)"
      ]
     },
     "execution_count": 50,
     "metadata": {},
     "output_type": "execute_result"
    }
   ],
   "source": [
    "# используйте тот же статистический тест, чтобы оценить, отличаются ли  и проинтерпретируйте результаты\n",
    "# как меняется ваш результат в зависимости от принятого вами уровня значимости?\n",
    "\n",
    "ttest_ind(test_n_by_date['converted'], control_n_by_date['converted']) # используйте документацию, test_n_by_date, control_n_by_date, чтобы провести тест"
   ]
  },
  {
   "cell_type": "code",
   "execution_count": null,
   "id": "d11fd9c6",
   "metadata": {},
   "outputs": [],
   "source": []
  },
  {
   "cell_type": "code",
   "execution_count": null,
   "id": "94d1f147",
   "metadata": {},
   "outputs": [],
   "source": []
  }
 ],
 "metadata": {
  "kernelspec": {
   "display_name": "Python 3 (ipykernel)",
   "language": "python",
   "name": "python3"
  },
  "language_info": {
   "codemirror_mode": {
    "name": "ipython",
    "version": 3
   },
   "file_extension": ".py",
   "mimetype": "text/x-python",
   "name": "python",
   "nbconvert_exporter": "python",
   "pygments_lexer": "ipython3",
   "version": "3.11.5"
  }
 },
 "nbformat": 4,
 "nbformat_minor": 5
}
