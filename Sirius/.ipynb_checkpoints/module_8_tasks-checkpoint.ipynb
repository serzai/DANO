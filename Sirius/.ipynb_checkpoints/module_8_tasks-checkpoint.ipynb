{
 "cells": [
  {
   "cell_type": "code",
   "execution_count": 1,
   "id": "4d5b85fd",
   "metadata": {
    "ExecuteTime": {
     "end_time": "2023-11-24T16:42:11.022881Z",
     "start_time": "2023-11-24T16:42:10.730428Z"
    }
   },
   "outputs": [],
   "source": [
    "import pandas as pd\n",
    "import json"
   ]
  },
  {
   "cell_type": "code",
   "execution_count": 16,
   "id": "1ea6aa7c",
   "metadata": {
    "ExecuteTime": {
     "end_time": "2023-11-24T16:58:03.380212Z",
     "start_time": "2023-11-24T16:58:03.376327Z"
    }
   },
   "outputs": [],
   "source": [
    "def custom_compare(x, y):\n",
    "    if str(x) != str(y):\n",
    "        raise RuntimeError(f'Ожидаемое значение: {y}. Фактическое: {x}')"
   ]
  },
  {
   "cell_type": "markdown",
   "id": "1e9486f6",
   "metadata": {},
   "source": [
    "# Предобработка данных"
   ]
  },
  {
   "cell_type": "code",
   "execution_count": 35,
   "id": "e2937d41",
   "metadata": {
    "ExecuteTime": {
     "end_time": "2023-11-24T17:18:06.385136Z",
     "start_time": "2023-11-24T17:18:06.380541Z"
    }
   },
   "outputs": [],
   "source": [
    "def parse_user_action_solution(line):\n",
    "    \"\"\"\n",
    "    Принимает строку в обозначенном формате, а возвращает словарь.\n",
    "    Ключами в словаре являются строки 'id', 'action' и 'time',\n",
    "    а значениями — соответствующие ключам значения из обрабатываемой строки.\n",
    "    \n",
    "    Аргументы:\n",
    "        line: Строка, которую необходимо превратить в словарь.\n",
    "        \n",
    "    Возвращаемое значение:\n",
    "        Словарь в обозначенном формате.\n",
    "    \"\"\"\n",
    "    actions = dict()\n",
    "    \n",
    "    line = line.strip('()').split(',')\n",
    "    id = int(line[0][6:].strip('\"\"').strip(\"''\"))\n",
    "    action = line[1][11:].strip('\"\"').strip(\"''\")\n",
    "    time = line[2][9:].strip('\"\"').strip(\"''\")\n",
    "    \n",
    "    actions['id'] = id\n",
    "    actions['action'] = action\n",
    "    actions['time'] = pd.Timestamp(time)\n",
    "    \n",
    "    return actions"
   ]
  },
  {
   "cell_type": "code",
   "execution_count": 73,
   "id": "7258cd82",
   "metadata": {
    "ExecuteTime": {
     "end_time": "2023-11-23T19:45:23.801759Z",
     "start_time": "2023-11-23T19:45:23.798390Z"
    }
   },
   "outputs": [
    {
     "data": {
      "text/plain": [
       "{'id': 1, 'action': 'one', 'time': Timestamp('2023-01-01 12:23:54')}"
      ]
     },
     "execution_count": 73,
     "metadata": {},
     "output_type": "execute_result"
    }
   ],
   "source": [
    "parse_user_action_solution(\"('id': 1, 'action': 'one', 'time': '2023-01-01 12:23:54')\")"
   ]
  },
  {
   "cell_type": "code",
   "execution_count": 38,
   "id": "b70ea4a2",
   "metadata": {
    "ExecuteTime": {
     "end_time": "2023-11-23T19:27:05.353517Z",
     "start_time": "2023-11-23T19:27:05.348874Z"
    }
   },
   "outputs": [],
   "source": [
    "def parse_user_action_test():\n",
    "    example_1_line = \"('id': 7281910, 'action': 'click', 'time': '2023-01-01 12:23:54')\"\n",
    "    example_1_res = {\n",
    "        'id': 7281910,\n",
    "        'action': 'click',\n",
    "        'time': pd.Timestamp(year=2023, month=1, day=1, hour=12, minute=23, second=54),\n",
    "    }\n",
    "    \n",
    "    custom_compare(parse_user_action_solution(example_1_line), example_1_res)\n",
    "    \n",
    "    example_2_line = \"('id': 1, 'action': 'search', 'time': '1997-12-31 23:23:59')\"\n",
    "    example_2_res = {\n",
    "        'id': 1,\n",
    "        'action': 'search',\n",
    "        'time': pd.Timestamp(year=1997, month=12, day=31, hour=23, minute=23, second=59),\n",
    "    }\n",
    "    \n",
    "    custom_compare(parse_user_action_solution(example_2_line), example_2_res)\n",
    "    \n",
    "    print('Все тесты прошли успешно!')"
   ]
  },
  {
   "cell_type": "code",
   "execution_count": 74,
   "id": "9cc87fd3",
   "metadata": {
    "ExecuteTime": {
     "end_time": "2023-11-23T19:45:33.987166Z",
     "start_time": "2023-11-23T19:45:33.984399Z"
    }
   },
   "outputs": [
    {
     "name": "stdout",
     "output_type": "stream",
     "text": [
      "Все тесты прошли успешно!\n"
     ]
    }
   ],
   "source": [
    "parse_user_action_test()"
   ]
  },
  {
   "cell_type": "markdown",
   "id": "f8d806b9",
   "metadata": {},
   "source": [
    "# Предобработка данных в pandas"
   ]
  },
  {
   "cell_type": "code",
   "execution_count": 31,
   "id": "66c6008b",
   "metadata": {
    "ExecuteTime": {
     "end_time": "2023-11-24T17:10:00.778141Z",
     "start_time": "2023-11-24T17:10:00.653781Z"
    }
   },
   "outputs": [],
   "source": [
    "user_session = pd.read_csv('user_session_sample.csv')"
   ]
  },
  {
   "cell_type": "markdown",
   "id": "84e62448",
   "metadata": {},
   "source": [
    "## Задание 1"
   ]
  },
  {
   "cell_type": "markdown",
   "id": "bb2f2d07",
   "metadata": {},
   "source": [
    "Подсчитайте, сколько пропущенных значений содержится в каждой из колонок таблицы."
   ]
  },
  {
   "cell_type": "code",
   "execution_count": 42,
   "id": "3dc40129",
   "metadata": {
    "ExecuteTime": {
     "end_time": "2023-11-23T19:29:02.315458Z",
     "start_time": "2023-11-23T19:29:02.290200Z"
    }
   },
   "outputs": [
    {
     "data": {
      "text/plain": [
       "id                 0\n",
       "user_id        66371\n",
       "ip                 0\n",
       "action_time    13922\n",
       "action             0\n",
       "dtype: int64"
      ]
     },
     "execution_count": 42,
     "metadata": {},
     "output_type": "execute_result"
    }
   ],
   "source": [
    "user_session.isna().sum()"
   ]
  },
  {
   "cell_type": "markdown",
   "id": "2323ece1",
   "metadata": {},
   "source": [
    "## Задание 2"
   ]
  },
  {
   "cell_type": "markdown",
   "id": "5e9d6165",
   "metadata": {},
   "source": [
    "Известно, что значение в колонке «action_time» должно совпадать со значением `action_time`, которое хранится внутри значений характеристики «action».\n",
    "\n",
    "Воспользуйтесь реализованной ранее функцией `parse_user_action_solution`, чтобы восстановить на основе значений из колонки «action» отсутствующую информацию о моментах времени, когда пользователи совершали соответствующие действия.\n",
    "\n",
    "В качестве ответа укажите число пользовательских действий, которые были совершены в августе 2023-го года, рассчитанное по таблице с восстановленными данными."
   ]
  },
  {
   "cell_type": "code",
   "execution_count": 46,
   "id": "e693cf08",
   "metadata": {
    "ExecuteTime": {
     "end_time": "2023-11-23T19:39:00.871311Z",
     "start_time": "2023-11-23T19:39:00.858849Z"
    }
   },
   "outputs": [
    {
     "data": {
      "text/html": [
       "<div>\n",
       "<style scoped>\n",
       "    .dataframe tbody tr th:only-of-type {\n",
       "        vertical-align: middle;\n",
       "    }\n",
       "\n",
       "    .dataframe tbody tr th {\n",
       "        vertical-align: top;\n",
       "    }\n",
       "\n",
       "    .dataframe thead th {\n",
       "        text-align: right;\n",
       "    }\n",
       "</style>\n",
       "<table border=\"1\" class=\"dataframe\">\n",
       "  <thead>\n",
       "    <tr style=\"text-align: right;\">\n",
       "      <th></th>\n",
       "      <th>id</th>\n",
       "      <th>user_id</th>\n",
       "      <th>ip</th>\n",
       "      <th>action_time</th>\n",
       "      <th>action</th>\n",
       "    </tr>\n",
       "  </thead>\n",
       "  <tbody>\n",
       "    <tr>\n",
       "      <th>0</th>\n",
       "      <td>619</td>\n",
       "      <td>NaN</td>\n",
       "      <td>244.143.138.0</td>\n",
       "      <td>2021-01-20 18:36:32</td>\n",
       "      <td>('id': 234676, 'action': 'search', 'time': '20...</td>\n",
       "    </tr>\n",
       "    <tr>\n",
       "      <th>1</th>\n",
       "      <td>919428</td>\n",
       "      <td>30083.0</td>\n",
       "      <td>157.169.233.89</td>\n",
       "      <td>2023-12-10 04:13:50</td>\n",
       "      <td>('id': 541654, 'action': 'search', 'time': '20...</td>\n",
       "    </tr>\n",
       "    <tr>\n",
       "      <th>2</th>\n",
       "      <td>630539</td>\n",
       "      <td>NaN</td>\n",
       "      <td>160.111.52.224</td>\n",
       "      <td>2023-09-26 04:09:44</td>\n",
       "      <td>('id': 230556, 'action': 'click', 'time': '202...</td>\n",
       "    </tr>\n",
       "    <tr>\n",
       "      <th>3</th>\n",
       "      <td>963478</td>\n",
       "      <td>NaN</td>\n",
       "      <td>247.14.235.202</td>\n",
       "      <td>2023-12-19 21:02:47</td>\n",
       "      <td>('id': 838067, 'action': 'click', 'time': '202...</td>\n",
       "    </tr>\n",
       "    <tr>\n",
       "      <th>4</th>\n",
       "      <td>421566</td>\n",
       "      <td>NaN</td>\n",
       "      <td>255.2.67.154</td>\n",
       "      <td>2023-07-20 16:04:14</td>\n",
       "      <td>('id': 924754, 'action': 'search', 'time': '20...</td>\n",
       "    </tr>\n",
       "  </tbody>\n",
       "</table>\n",
       "</div>"
      ],
      "text/plain": [
       "       id  user_id              ip          action_time  \\\n",
       "0     619      NaN   244.143.138.0  2021-01-20 18:36:32   \n",
       "1  919428  30083.0  157.169.233.89  2023-12-10 04:13:50   \n",
       "2  630539      NaN  160.111.52.224  2023-09-26 04:09:44   \n",
       "3  963478      NaN  247.14.235.202  2023-12-19 21:02:47   \n",
       "4  421566      NaN    255.2.67.154  2023-07-20 16:04:14   \n",
       "\n",
       "                                              action  \n",
       "0  ('id': 234676, 'action': 'search', 'time': '20...  \n",
       "1  ('id': 541654, 'action': 'search', 'time': '20...  \n",
       "2  ('id': 230556, 'action': 'click', 'time': '202...  \n",
       "3  ('id': 838067, 'action': 'click', 'time': '202...  \n",
       "4  ('id': 924754, 'action': 'search', 'time': '20...  "
      ]
     },
     "execution_count": 46,
     "metadata": {},
     "output_type": "execute_result"
    }
   ],
   "source": [
    "user_session.head()"
   ]
  },
  {
   "cell_type": "code",
   "execution_count": 36,
   "id": "739f9917",
   "metadata": {
    "ExecuteTime": {
     "end_time": "2023-11-24T17:18:10.214253Z",
     "start_time": "2023-11-24T17:18:09.787404Z"
    }
   },
   "outputs": [
    {
     "data": {
      "text/html": [
       "<div>\n",
       "<style scoped>\n",
       "    .dataframe tbody tr th:only-of-type {\n",
       "        vertical-align: middle;\n",
       "    }\n",
       "\n",
       "    .dataframe tbody tr th {\n",
       "        vertical-align: top;\n",
       "    }\n",
       "\n",
       "    .dataframe thead th {\n",
       "        text-align: right;\n",
       "    }\n",
       "</style>\n",
       "<table border=\"1\" class=\"dataframe\">\n",
       "  <thead>\n",
       "    <tr style=\"text-align: right;\">\n",
       "      <th></th>\n",
       "      <th>id</th>\n",
       "      <th>user_id</th>\n",
       "      <th>ip</th>\n",
       "      <th>action_time</th>\n",
       "      <th>action</th>\n",
       "    </tr>\n",
       "  </thead>\n",
       "  <tbody>\n",
       "    <tr>\n",
       "      <th>0</th>\n",
       "      <td>619</td>\n",
       "      <td>NaN</td>\n",
       "      <td>244.143.138.0</td>\n",
       "      <td>2021-01-20 18:36:32</td>\n",
       "      <td>{'id': 234676, 'action': 'search', 'time': 202...</td>\n",
       "    </tr>\n",
       "    <tr>\n",
       "      <th>1</th>\n",
       "      <td>919428</td>\n",
       "      <td>30083.0</td>\n",
       "      <td>157.169.233.89</td>\n",
       "      <td>2023-12-10 04:13:50</td>\n",
       "      <td>{'id': 541654, 'action': 'search', 'time': 202...</td>\n",
       "    </tr>\n",
       "    <tr>\n",
       "      <th>2</th>\n",
       "      <td>630539</td>\n",
       "      <td>NaN</td>\n",
       "      <td>160.111.52.224</td>\n",
       "      <td>2023-09-26 04:09:44</td>\n",
       "      <td>{'id': 230556, 'action': 'click', 'time': 2023...</td>\n",
       "    </tr>\n",
       "    <tr>\n",
       "      <th>3</th>\n",
       "      <td>963478</td>\n",
       "      <td>NaN</td>\n",
       "      <td>247.14.235.202</td>\n",
       "      <td>2023-12-19 21:02:47</td>\n",
       "      <td>{'id': 838067, 'action': 'click', 'time': 2023...</td>\n",
       "    </tr>\n",
       "    <tr>\n",
       "      <th>4</th>\n",
       "      <td>421566</td>\n",
       "      <td>NaN</td>\n",
       "      <td>255.2.67.154</td>\n",
       "      <td>2023-07-20 16:04:14</td>\n",
       "      <td>{'id': 924754, 'action': 'search', 'time': 202...</td>\n",
       "    </tr>\n",
       "    <tr>\n",
       "      <th>...</th>\n",
       "      <td>...</td>\n",
       "      <td>...</td>\n",
       "      <td>...</td>\n",
       "      <td>...</td>\n",
       "      <td>...</td>\n",
       "    </tr>\n",
       "    <tr>\n",
       "      <th>100256</th>\n",
       "      <td>787682</td>\n",
       "      <td>NaN</td>\n",
       "      <td>235.213.10.189</td>\n",
       "      <td>2023-11-08 03:26:14</td>\n",
       "      <td>{'id': 611537, 'action': 'click', 'time': 2023...</td>\n",
       "    </tr>\n",
       "    <tr>\n",
       "      <th>100257</th>\n",
       "      <td>467742</td>\n",
       "      <td>95044.0</td>\n",
       "      <td>11.197.24.55</td>\n",
       "      <td>2023-08-07 18:09:05</td>\n",
       "      <td>{'id': 105315, 'action': 'search', 'time': 202...</td>\n",
       "    </tr>\n",
       "    <tr>\n",
       "      <th>100258</th>\n",
       "      <td>756486</td>\n",
       "      <td>NaN</td>\n",
       "      <td>25.201.68.226</td>\n",
       "      <td>2023-10-30 11:55:48</td>\n",
       "      <td>{'id': 736403, 'action': 'search', 'time': 202...</td>\n",
       "    </tr>\n",
       "    <tr>\n",
       "      <th>100259</th>\n",
       "      <td>585901</td>\n",
       "      <td>NaN</td>\n",
       "      <td>185.35.134.140</td>\n",
       "      <td>2023-09-14 19:06:45</td>\n",
       "      <td>{'id': 614891, 'action': 'search', 'time': 202...</td>\n",
       "    </tr>\n",
       "    <tr>\n",
       "      <th>100260</th>\n",
       "      <td>698800</td>\n",
       "      <td>77851.0</td>\n",
       "      <td>12.90.148.105</td>\n",
       "      <td>2023-10-14 05:17:23</td>\n",
       "      <td>{'id': 145174, 'action': 'search', 'time': 202...</td>\n",
       "    </tr>\n",
       "  </tbody>\n",
       "</table>\n",
       "<p>100261 rows × 5 columns</p>\n",
       "</div>"
      ],
      "text/plain": [
       "            id  user_id              ip         action_time  \\\n",
       "0          619      NaN   244.143.138.0 2021-01-20 18:36:32   \n",
       "1       919428  30083.0  157.169.233.89 2023-12-10 04:13:50   \n",
       "2       630539      NaN  160.111.52.224 2023-09-26 04:09:44   \n",
       "3       963478      NaN  247.14.235.202 2023-12-19 21:02:47   \n",
       "4       421566      NaN    255.2.67.154 2023-07-20 16:04:14   \n",
       "...        ...      ...             ...                 ...   \n",
       "100256  787682      NaN  235.213.10.189 2023-11-08 03:26:14   \n",
       "100257  467742  95044.0    11.197.24.55 2023-08-07 18:09:05   \n",
       "100258  756486      NaN   25.201.68.226 2023-10-30 11:55:48   \n",
       "100259  585901      NaN  185.35.134.140 2023-09-14 19:06:45   \n",
       "100260  698800  77851.0   12.90.148.105 2023-10-14 05:17:23   \n",
       "\n",
       "                                                   action  \n",
       "0       {'id': 234676, 'action': 'search', 'time': 202...  \n",
       "1       {'id': 541654, 'action': 'search', 'time': 202...  \n",
       "2       {'id': 230556, 'action': 'click', 'time': 2023...  \n",
       "3       {'id': 838067, 'action': 'click', 'time': 2023...  \n",
       "4       {'id': 924754, 'action': 'search', 'time': 202...  \n",
       "...                                                   ...  \n",
       "100256  {'id': 611537, 'action': 'click', 'time': 2023...  \n",
       "100257  {'id': 105315, 'action': 'search', 'time': 202...  \n",
       "100258  {'id': 736403, 'action': 'search', 'time': 202...  \n",
       "100259  {'id': 614891, 'action': 'search', 'time': 202...  \n",
       "100260  {'id': 145174, 'action': 'search', 'time': 202...  \n",
       "\n",
       "[100261 rows x 5 columns]"
      ]
     },
     "execution_count": 36,
     "metadata": {},
     "output_type": "execute_result"
    }
   ],
   "source": [
    "user_session['action'] = user_session['action'].apply(lambda x: parse_user_action_solution(x))\n",
    "user_session['action_time'] = user_session['action'].apply(lambda x: x['time'])\n",
    "user_session"
   ]
  },
  {
   "cell_type": "code",
   "execution_count": 90,
   "id": "93da2651",
   "metadata": {
    "ExecuteTime": {
     "end_time": "2023-11-23T19:55:13.654579Z",
     "start_time": "2023-11-23T19:55:13.643161Z"
    }
   },
   "outputs": [
    {
     "data": {
      "text/plain": [
       "8395"
      ]
     },
     "execution_count": 90,
     "metadata": {},
     "output_type": "execute_result"
    }
   ],
   "source": [
    "user_session.loc[(user_session['action_time'] >= pd.to_datetime('01.08.2023', dayfirst=True)) &\n",
    "                 (user_session['action_time'] < pd.to_datetime('01.09.2023', dayfirst=True))].shape[0]"
   ]
  },
  {
   "cell_type": "markdown",
   "id": "931f1b70",
   "metadata": {},
   "source": [
    "# Исследование данных"
   ]
  },
  {
   "cell_type": "markdown",
   "id": "ef87dc16",
   "metadata": {},
   "source": [
    "## Задание 1"
   ]
  },
  {
   "cell_type": "code",
   "execution_count": 5,
   "id": "59169a78",
   "metadata": {
    "ExecuteTime": {
     "end_time": "2023-11-24T16:53:17.788083Z",
     "start_time": "2023-11-24T16:53:17.784924Z"
    }
   },
   "outputs": [],
   "source": [
    "def round_to_2(x):\n",
    "    \"\"\"\n",
    "    Принимает число и возвращает результат его округления\n",
    "    до 2 знаков после запятой.\n",
    "    \n",
    "    Аргументы:\n",
    "        x: Число.\n",
    "        \n",
    "    Возвращаемое значение:\n",
    "        Результат округления числа до 2 знаков после запятой.\n",
    "    \"\"\"\n",
    "    \n",
    "    return round(x, 2)"
   ]
  },
  {
   "cell_type": "code",
   "execution_count": 2,
   "id": "e6bc9bf2",
   "metadata": {
    "ExecuteTime": {
     "end_time": "2023-11-24T16:42:19.288869Z",
     "start_time": "2023-11-24T16:42:19.283034Z"
    }
   },
   "outputs": [],
   "source": [
    "def get_sessions(action_times, max_delta=40 * 60):\n",
    "    \"\"\"\n",
    "    Разбивает список моментов времени, когда пользователь проявлял активность,\n",
    "    на пользовательские сессии. \n",
    "    \n",
    "    Аргументы:\n",
    "        action_times: Список моментов времени, когда пользователь проявлял активность.\n",
    "                      Гарантируется, что моменты времени упорядочены в порядке возрастания.\n",
    "           max_delta: Максимальное значение (в секундах) промежутка между двумя активностями пользователя,\n",
    "                      при котором они считаются относящимися к одной сессии.\n",
    "                      \n",
    "    Возвращаемое значение:\n",
    "        Список пользовательских сессий. Каждая сессия представляется упорядоченным по возрастанию\n",
    "        списком моментов времени для действий, которые были совершены в эту сессию.\n",
    "    \"\"\"\n",
    "    \n",
    "    sessions = []\n",
    "    cur_session = []\n",
    "    \n",
    "    prev_time = None\n",
    "    \n",
    "    for time in action_times:\n",
    "        if prev_time is None or (time - prev_time).total_seconds() > max_delta:\n",
    "            if len(cur_session) > 0:\n",
    "                sessions.append(cur_session)\n",
    "                \n",
    "            cur_session = [time]\n",
    "        else:\n",
    "            cur_session.append(time)\n",
    "            \n",
    "        prev_time = time\n",
    "        \n",
    "    sessions.append(cur_session)\n",
    "    \n",
    "    return sessions"
   ]
  },
  {
   "cell_type": "code",
   "execution_count": 4,
   "id": "4ce369a5",
   "metadata": {
    "ExecuteTime": {
     "end_time": "2023-11-24T16:48:59.187981Z",
     "start_time": "2023-11-24T16:48:59.171577Z"
    }
   },
   "outputs": [
    {
     "data": {
      "text/plain": [
       "[[Timestamp('2023-01-12 15:17:35'), Timestamp('2023-01-12 15:18:24')],\n",
       " [Timestamp('2023-02-21 09:42:31'),\n",
       "  Timestamp('2023-02-21 10:21:09'),\n",
       "  Timestamp('2023-02-21 10:37:46')],\n",
       " [Timestamp('2023-02-27 17:37:46'),\n",
       "  Timestamp('2023-02-27 18:12:46'),\n",
       "  Timestamp('2023-02-27 18:44:53'),\n",
       "  Timestamp('2023-02-27 19:02:11')],\n",
       " [Timestamp('2023-08-21 10:37:46')]]"
      ]
     },
     "execution_count": 4,
     "metadata": {},
     "output_type": "execute_result"
    }
   ],
   "source": [
    "example_3_action_times = [\n",
    "        pd.Timestamp(year=2023, month=1, day=12, hour=15, minute=17, second=35),\n",
    "        pd.Timestamp(year=2023, month=1, day=12, hour=15, minute=18, second=24),\n",
    "        pd.Timestamp(year=2023, month=2, day=21, hour=9, minute=42, second=31),\n",
    "        pd.Timestamp(year=2023, month=2, day=21, hour=10, minute=21, second=9),\n",
    "        pd.Timestamp(year=2023, month=2, day=21, hour=10, minute=37, second=46),\n",
    "        pd.Timestamp(year=2023, month=2, day=27, hour=17, minute=37, second=46),\n",
    "        pd.Timestamp(year=2023, month=2, day=27, hour=18, minute=12, second=46),\n",
    "        pd.Timestamp(year=2023, month=2, day=27, hour=18, minute=44, second=53),\n",
    "        pd.Timestamp(year=2023, month=2, day=27, hour=19, minute=2, second=11),\n",
    "        pd.Timestamp(year=2023, month=8, day=21, hour=10, minute=37, second=46),\n",
    "    ]\n",
    "get_sessions(example_3_action_times)"
   ]
  },
  {
   "cell_type": "code",
   "execution_count": 28,
   "id": "744383df",
   "metadata": {
    "ExecuteTime": {
     "end_time": "2023-11-24T17:06:42.156120Z",
     "start_time": "2023-11-24T17:06:42.151506Z"
    }
   },
   "outputs": [],
   "source": [
    "def get_avg_session_time(action_times):\n",
    "    \"\"\"\n",
    "    По списку моментов времени, когда пользователь проявлял активность,\n",
    "    вычисляет среднюю продолжительность его пользовательской сессии\n",
    "    с точки зрения времени.\n",
    "    \n",
    "    Аргументы:\n",
    "        action_times: Список моментов времени, когда пользователь проявлял активность.\n",
    "                      Гарантируется, что моменты времени упорядочены в порядке возрастания.\n",
    "                      \n",
    "    Возвращаемое значение:\n",
    "        Средняя продолжительность пользовательской сессии **в секундах**,\n",
    "        округлённая до $2$-х знаков после запятой.\n",
    "    \"\"\"\n",
    "    sessions = get_sessions(action_times, 40*60)\n",
    "    sum_sessions = 0\n",
    "    num_sessions = 0\n",
    "    for session in sessions:\n",
    "        if len(session) >= 2:\n",
    "            diff = session[-1] - session[0]\n",
    "            sum_sessions += diff.total_seconds()\n",
    "            num_sessions += 1\n",
    "    if num_sessions == 0:\n",
    "        return 0\n",
    "    else:\n",
    "        return round_to_2(sum_sessions / (60 * num_sessions))"
   ]
  },
  {
   "cell_type": "code",
   "execution_count": 23,
   "id": "3faa0125",
   "metadata": {
    "ExecuteTime": {
     "end_time": "2023-11-24T17:05:02.673508Z",
     "start_time": "2023-11-24T17:05:02.668837Z"
    }
   },
   "outputs": [
    {
     "data": {
      "text/plain": [
       "-1426.0"
      ]
     },
     "execution_count": 23,
     "metadata": {},
     "output_type": "execute_result"
    }
   ],
   "source": [
    "(pd.Timestamp(year=2023, month=1, day=12, hour=15, minute=17, second=35) - pd.Timestamp(year=2023, month=1, day=12, hour=15, minute=41, second=21)).total_seconds()"
   ]
  },
  {
   "cell_type": "code",
   "execution_count": 14,
   "id": "b064b864",
   "metadata": {
    "ExecuteTime": {
     "end_time": "2023-11-24T16:57:46.320758Z",
     "start_time": "2023-11-24T16:57:46.309790Z"
    }
   },
   "outputs": [],
   "source": [
    "def get_avg_session_time_test():\n",
    "    example_1_action_times = [\n",
    "        pd.Timestamp(year=2023, month=1, day=12, hour=15, minute=17, second=35),\n",
    "        pd.Timestamp(year=2023, month=1, day=12, hour=15, minute=41, second=21),\n",
    "        pd.Timestamp(year=2023, month=1, day=13, hour=15, minute=41, second=21),\n",
    "    ]\n",
    "    \n",
    "    example_1_res = 23.77\n",
    "    \n",
    "    custom_compare(get_avg_session_time(example_1_action_times), example_1_res)\n",
    "    \n",
    "    example_2_action_times = [\n",
    "        pd.Timestamp(year=2023, month=1, day=12, hour=15, minute=17, second=35),\n",
    "        pd.Timestamp(year=2023, month=1, day=13, hour=15, minute=41, second=21),\n",
    "    ]\n",
    "    \n",
    "    example_2_res = 0\n",
    "    \n",
    "    custom_compare(get_avg_session_time(example_2_action_times), example_2_res)\n",
    "    \n",
    "    example_3_action_times = [\n",
    "        pd.Timestamp(year=2023, month=1, day=12, hour=15, minute=17, second=35),\n",
    "        pd.Timestamp(year=2023, month=1, day=12, hour=15, minute=18, second=24),\n",
    "        pd.Timestamp(year=2023, month=2, day=21, hour=9, minute=42, second=31),\n",
    "        pd.Timestamp(year=2023, month=2, day=21, hour=10, minute=21, second=9),\n",
    "        pd.Timestamp(year=2023, month=2, day=21, hour=10, minute=37, second=46),\n",
    "        pd.Timestamp(year=2023, month=2, day=27, hour=17, minute=37, second=46),\n",
    "        pd.Timestamp(year=2023, month=2, day=27, hour=18, minute=12, second=46),\n",
    "        pd.Timestamp(year=2023, month=2, day=27, hour=18, minute=44, second=53),\n",
    "        pd.Timestamp(year=2023, month=2, day=27, hour=19, minute=2, second=11),\n",
    "        pd.Timestamp(year=2023, month=8, day=21, hour=10, minute=37, second=46),\n",
    "    ]\n",
    "    \n",
    "    example_3_res = 46.83\n",
    "    \n",
    "    custom_compare(get_avg_session_time(example_3_action_times), example_3_res)\n",
    "    \n",
    "    print('Все тесты прошли успешно!')"
   ]
  },
  {
   "cell_type": "code",
   "execution_count": 29,
   "id": "2c111d1c",
   "metadata": {
    "ExecuteTime": {
     "end_time": "2023-11-24T17:06:44.625535Z",
     "start_time": "2023-11-24T17:06:44.621789Z"
    }
   },
   "outputs": [
    {
     "name": "stdout",
     "output_type": "stream",
     "text": [
      "Все тесты прошли успешно!\n"
     ]
    }
   ],
   "source": [
    "get_avg_session_time_test()"
   ]
  },
  {
   "cell_type": "markdown",
   "id": "cd29f5e9",
   "metadata": {},
   "source": [
    "## Задание 2"
   ]
  },
  {
   "cell_type": "markdown",
   "id": "504c7061",
   "metadata": {},
   "source": [
    "Используя функцию `get_avg_session_time`, вычислите среднюю продолжительность пользовательской сессии для пользователей из таблицы `user_session`, с которой вы работали в рамках предыдущих упражнений. Для этого усредните значения средней продолжительности пользовательских сессий по всем пользователям.\n",
    "\n",
    "**Обратите внимание**, что среднее можно вычислять как по всем пользователям вообще, так и по тем, у кого среднее время пользовательской сессии больше $0$. В рамках задания вычислите значение по всему множеству пользователей.\n",
    "\n",
    "Аналогично лекции нужно считать, что пользователя уникальным образом идентифицирует IP-адрес, с которого он совершал действия.\n",
    "\n",
    "Ответ округлите до $2$-х знаков после запятой."
   ]
  },
  {
   "cell_type": "code",
   "execution_count": 40,
   "id": "fe79582d",
   "metadata": {
    "ExecuteTime": {
     "end_time": "2023-11-24T17:23:39.173201Z",
     "start_time": "2023-11-24T17:23:38.282975Z"
    },
    "scrolled": false
   },
   "outputs": [
    {
     "data": {
      "text/plain": [
       "3.3822539573296626"
      ]
     },
     "execution_count": 40,
     "metadata": {},
     "output_type": "execute_result"
    }
   ],
   "source": [
    "user_session = pd.read_csv('user_session_sample.csv')\n",
    "user_session['action'] = user_session['action'].apply(lambda x: parse_user_action_solution(x))\n",
    "user_session['action_time'] = user_session['action'].apply(lambda x: x['time'])\n",
    "user_session = user_session.sort_values('action_time')\n",
    "user_session_1 = user_session.groupby('ip').agg({'action_time': get_avg_session_time})\n",
    "user_session_1['action_time'].mean()"
   ]
  },
  {
   "cell_type": "markdown",
   "id": "a8dcfea6",
   "metadata": {},
   "source": [
    "## Задание 3"
   ]
  },
  {
   "cell_type": "markdown",
   "id": "3515e3c1",
   "metadata": {},
   "source": [
    "### Вопрос 1"
   ]
  },
  {
   "cell_type": "markdown",
   "id": "888492ef",
   "metadata": {},
   "source": [
    "У какой доли пользователей среднее значение пользовательской сессии равно $0$?\n",
    "\n",
    "Ответ округлите до $2$-х знаков после запятой."
   ]
  },
  {
   "cell_type": "markdown",
   "id": "55572d1c",
   "metadata": {},
   "source": [
    "### Вопрос 2"
   ]
  },
  {
   "cell_type": "markdown",
   "id": "7713a591",
   "metadata": {},
   "source": [
    "Рассчитайте средннюю продолжительность пользовательской сессии только по пользователям, у которых средняя продолжительность пользовательской сессии больше $0$.\n",
    "\n",
    "Ответ округлите до $2$-х знаков после запятой."
   ]
  },
  {
   "cell_type": "code",
   "execution_count": null,
   "id": "cbd089ca",
   "metadata": {},
   "outputs": [],
   "source": []
  }
 ],
 "metadata": {
  "kernelspec": {
   "display_name": "Python 3 (ipykernel)",
   "language": "python",
   "name": "python3"
  },
  "language_info": {
   "codemirror_mode": {
    "name": "ipython",
    "version": 3
   },
   "file_extension": ".py",
   "mimetype": "text/x-python",
   "name": "python",
   "nbconvert_exporter": "python",
   "pygments_lexer": "ipython3",
   "version": "3.11.5"
  }
 },
 "nbformat": 4,
 "nbformat_minor": 5
}
