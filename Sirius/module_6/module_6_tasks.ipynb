{
 "cells": [
  {
   "cell_type": "code",
   "execution_count": 1,
   "id": "f88eac22",
   "metadata": {
    "ExecuteTime": {
     "end_time": "2023-11-25T08:09:13.304862Z",
     "start_time": "2023-11-25T08:09:12.998195Z"
    }
   },
   "outputs": [],
   "source": [
    "import pandas as pd"
   ]
  },
  {
   "cell_type": "code",
   "execution_count": 5,
   "id": "70980fe1",
   "metadata": {
    "ExecuteTime": {
     "end_time": "2023-11-25T08:11:37.570890Z",
     "start_time": "2023-11-25T08:11:37.564797Z"
    }
   },
   "outputs": [],
   "source": [
    "def compare_dataframes(df_actual, df_expected):\n",
    "    if not df_actual.reset_index(drop=True).equals(df_expected.reset_index(drop=True)):\n",
    "        raise RuntimeError(f'\\nОжидаемое значение:\\n {df_expected} \\nФактическое:\\n {df_actual}')\n",
    "        \n",
    "def compare_series(ser_actual, ser_expected):\n",
    "    if not ser_actual.equals(ser_expected):\n",
    "        raise RuntimeError(f'\\nОжидаемое значение:\\n {ser_expected} \\nФактическое:\\n {ser_actual}')\n",
    "        \n",
    "def calculate_lines_of_code(f):\n",
    "    import inspect\n",
    "    \n",
    "    counting = True\n",
    "    counter = 0\n",
    "    \n",
    "    for line in inspect.getsourcelines(f)[0]:\n",
    "        if line.strip() == '\"\"\"':\n",
    "            counting = not counting\n",
    "            continue\n",
    "            \n",
    "        if line.strip() == '':\n",
    "            continue\n",
    "            \n",
    "        if counting:\n",
    "            counter += 1\n",
    "            \n",
    "    return counter - 1"
   ]
  },
  {
   "cell_type": "markdown",
   "id": "1127f643",
   "metadata": {},
   "source": [
    "## Цепочки методов"
   ]
  },
  {
   "cell_type": "code",
   "execution_count": 15,
   "id": "f9e25ba7",
   "metadata": {
    "ExecuteTime": {
     "end_time": "2023-11-24T20:32:22.298420Z",
     "start_time": "2023-11-24T20:32:22.294357Z"
    }
   },
   "outputs": [],
   "source": [
    "def modify_columns_solution(df, column_to_drop, column_to_change):\n",
    "    \"\"\"\n",
    "    Преобразует заданную таблицу типа DataFrame с помощью цепочки методов.\n",
    "\n",
    "    Аргументы:\n",
    "        df: Исходная таблица.\n",
    "        column_to_drop: Название колонки, которую нужно удалить.\n",
    "        column_to_change: Название колонки, которую нужно изменить.\n",
    "\n",
    "    Возвращаемое значение:\n",
    "        Таблица, преобразованная с помощью цепочки методов:\n",
    "            1. Добавление в исходную таблицу новой колонки с названием new,\n",
    "               которая получена на основе колонки column_to_change с помощью прибавления 1.\n",
    "            2. Удаление колонки column_to_drop.\n",
    "            3. Переименование колонки column_to_change в колонку с названием renamed.\n",
    "    \"\"\"\n",
    "    return df.drop(columns=column_to_drop).assign(new=df[column_to_change]+1).rename(columns={column_to_change: 'renamed'})"
   ]
  },
  {
   "cell_type": "code",
   "execution_count": 16,
   "id": "a929f0b0",
   "metadata": {
    "ExecuteTime": {
     "end_time": "2023-11-24T20:32:22.774601Z",
     "start_time": "2023-11-24T20:32:22.765139Z"
    }
   },
   "outputs": [],
   "source": [
    "def _test_modify_columns(df, column_to_drop, column_to_change, expected_df):\n",
    "    compare_dataframes(modify_columns_solution(df, column_to_drop, column_to_change), expected_df)\n",
    "\n",
    "def test_modify_columns_1():\n",
    "    df = pd.DataFrame({\n",
    "        'column1': [1, 2, 3, 4],\n",
    "        'column2': [5, 6, 7, 8],\n",
    "        'column3': [None, None, None, None]\n",
    "    })\n",
    "    column_to_drop = 'column3'\n",
    "    column_to_change = 'column1'\n",
    "    expected_df = pd.DataFrame({\n",
    "        'renamed': [1, 2, 3, 4],\n",
    "        'column2': [5, 6, 7, 8],\n",
    "        'new': [2, 3, 4, 5]\n",
    "    })\n",
    "    _test_modify_columns(df, column_to_drop, column_to_change, expected_df)\n",
    "    \n",
    "def test_modify_columns_2():\n",
    "    df = pd.DataFrame({\n",
    "        'column1': [1, 2, 3, 4]\n",
    "    })\n",
    "    column_to_drop = 'column1'\n",
    "    column_to_change = 'column1'\n",
    "    expected_df = pd.DataFrame({\n",
    "        'new': [2, 3, 4, 5]\n",
    "    })\n",
    "    _test_modify_columns(df, column_to_drop, column_to_change, expected_df)\n",
    "    \n",
    "def modify_columns_test():\n",
    "    if calculate_lines_of_code(modify_columns_solution) != 1:\n",
    "        raise RuntimeError('В теле функции должна быть ровно одна строка!')\n",
    "        \n",
    "    test_modify_columns_1()\n",
    "    test_modify_columns_2()\n",
    "    \n",
    "    print('Все тесты прошли успешно!')"
   ]
  },
  {
   "cell_type": "code",
   "execution_count": 17,
   "id": "0d56d8b0",
   "metadata": {
    "ExecuteTime": {
     "end_time": "2023-11-24T20:32:23.103716Z",
     "start_time": "2023-11-24T20:32:23.092446Z"
    }
   },
   "outputs": [
    {
     "name": "stdout",
     "output_type": "stream",
     "text": [
      "Все тесты прошли успешно!\n"
     ]
    }
   ],
   "source": [
    "modify_columns_test()"
   ]
  },
  {
   "cell_type": "code",
   "execution_count": 10,
   "id": "bb41643e",
   "metadata": {
    "ExecuteTime": {
     "end_time": "2023-11-25T08:12:07.004406Z",
     "start_time": "2023-11-25T08:12:06.999989Z"
    }
   },
   "outputs": [],
   "source": [
    "def filter_group_aggregate_sort_solution(df, column_to_filter, filter_set, column_to_group, column_to_aggregate):\n",
    "    \"\"\"\n",
    "    Преобразует заданную таблицу типа DataFrame с помощью цепочки методов.\n",
    "\n",
    "    Аргументы:\n",
    "        df: Исходная таблица.\n",
    "        column_to_filter: Название колонки, по которой нужно провести фильтрацию.\n",
    "        filter_set: Множество значений, согласно которому нужно провести фильтрацию.\n",
    "        column_to_group: Название колонки, по которой нужно произвести группировку.\n",
    "        column_to_aggregate: Название колонки, по которой нужно произвести агрегацию.\n",
    "\n",
    "    Возвращаемое значение:\n",
    "        Таблица, преобразованная с помощью цепочки методов:\n",
    "            1. Фильтрация исходной таблицы по следующему принципу: необходимо оставить строки,\n",
    "               для которых значение в колонке column_to_filter содержится во множестве filter_set.\n",
    "            2. Группировка строчек в таблице по значениям в колонке column_to_group\n",
    "               (группировку нужно проводить со значением аргумента as_index=False).\n",
    "            3. Агрегация по колонке column_to_aggregate с функцией агрегации sum.\n",
    "            4. Сортировка строчек в таблице в порядке убывания значений\n",
    "               в колонке column_to_aggregate.\n",
    "    \"\"\"\n",
    "    return df.loc[df[column_to_filter].isin(filter_set)].groupby(column_to_group, as_index=False).agg({column_to_aggregate: 'sum'}).sort_values(column_to_aggregate, ascending=False)"
   ]
  },
  {
   "cell_type": "code",
   "execution_count": 11,
   "id": "22e0b53c",
   "metadata": {
    "ExecuteTime": {
     "end_time": "2023-11-25T08:12:07.273867Z",
     "start_time": "2023-11-25T08:12:07.266537Z"
    }
   },
   "outputs": [],
   "source": [
    "def _test_filter_group_aggregate_sort(df, column_to_filter, filter_set, column_to_group, column_to_aggregate, expected_df):\n",
    "    compare_dataframes(filter_group_aggregate_sort_solution(df, column_to_filter, filter_set, column_to_group, column_to_aggregate), expected_df)\n",
    "\n",
    "def test_filter_group_aggregate_sort_1():\n",
    "    df = pd.DataFrame({\n",
    "        'column1': ['a', 'a', 'b', 'b'],\n",
    "        'column2': [1, 2, 3, 4],\n",
    "        'column3': [10, -1, 6, 8]\n",
    "    })\n",
    "    column_to_filter = 'column3'\n",
    "    filter_set = {1, 2, 3, 4, 5, 6, 7, 8, 9, 10}\n",
    "    column_to_group = 'column1'\n",
    "    column_to_aggregate = 'column2'\n",
    "    expected_df = pd.DataFrame({\n",
    "        'column1': ['b', 'a'],\n",
    "        'column2': [7, 1]\n",
    "    })\n",
    "    _test_filter_group_aggregate_sort(df, column_to_filter, filter_set, column_to_group, column_to_aggregate, expected_df)\n",
    "    \n",
    "def test_filter_group_aggregate_sort_2():\n",
    "    df = pd.DataFrame({\n",
    "        'column1': [1, 2, 3, 4, 1]\n",
    "    })\n",
    "    column_to_filter = 'column1'\n",
    "    filter_set = {1, 4}\n",
    "    column_to_group = 'column1'\n",
    "    column_to_aggregate = 'column1'\n",
    "    expected_df = pd.DataFrame({\n",
    "        'column1': [4, 2]\n",
    "    })\n",
    "    _test_filter_group_aggregate_sort(df, column_to_filter, filter_set, column_to_group, column_to_aggregate, expected_df)\n",
    "    \n",
    "def filter_group_aggregate_sort_test():\n",
    "    if calculate_lines_of_code(filter_group_aggregate_sort_solution) != 1:\n",
    "        raise RuntimeError('В теле функции должна быть ровно одна строка!')\n",
    "        \n",
    "    test_filter_group_aggregate_sort_1()\n",
    "    test_filter_group_aggregate_sort_2()\n",
    "    \n",
    "    print('Все тесты прошли успешно!')"
   ]
  },
  {
   "cell_type": "code",
   "execution_count": 12,
   "id": "8ba0a31c",
   "metadata": {
    "ExecuteTime": {
     "end_time": "2023-11-25T08:12:07.617822Z",
     "start_time": "2023-11-25T08:12:07.599381Z"
    }
   },
   "outputs": [
    {
     "name": "stdout",
     "output_type": "stream",
     "text": [
      "Все тесты прошли успешно!\n"
     ]
    }
   ],
   "source": [
    "filter_group_aggregate_sort_test()"
   ]
  },
  {
   "cell_type": "markdown",
   "id": "d9fb1158",
   "metadata": {},
   "source": [
    "## Полезные функции и методы"
   ]
  },
  {
   "cell_type": "code",
   "execution_count": 13,
   "id": "839f1b89",
   "metadata": {
    "ExecuteTime": {
     "end_time": "2023-11-25T08:14:35.442008Z",
     "start_time": "2023-11-25T08:14:35.438394Z"
    }
   },
   "outputs": [],
   "source": [
    "def pivot_table_solution(df, index_column, columns_column, values_column):\n",
    "    \"\"\"\n",
    "    Преобразует заданную таблицу типа `DataFrame` в сводную таблицу.\n",
    "    \n",
    "    Аргументы:\n",
    "        df: Исходная таблица.\n",
    "        index_column: Название колонки, значения из которой должны стать индексом в сводной таблице.\n",
    "        columns_column: Название колонки, значения из которой должны стать колонками в сводной таблице;\n",
    "        values_column: Название колонки, значения из которой должны стать колонками в сводной таблице.\n",
    "        \n",
    "    Возвращаемое значение:\n",
    "        Сводная таблица, в которой строчки и столбцы упорядочены по возрастанию индекса.\n",
    "    \"\"\"\n",
    "    return df.pivot(index=index_column, columns=columns_column, values=values_column)"
   ]
  },
  {
   "cell_type": "code",
   "execution_count": 14,
   "id": "1ffd8eac",
   "metadata": {
    "ExecuteTime": {
     "end_time": "2023-11-25T08:14:36.593073Z",
     "start_time": "2023-11-25T08:14:36.584449Z"
    }
   },
   "outputs": [],
   "source": [
    "def _test_pivot_table(df, index_column, columns_column, values_column, expected_df):\n",
    "    compare_dataframes(pivot_table_solution(df, index_column, columns_column, values_column), expected_df)\n",
    "\n",
    "def test_pivot_table_1():\n",
    "    df = pd.DataFrame({\n",
    "        'subject': ['Биология', 'Химия', 'Математика', 'Математика', 'Химия', 'Математика', 'Математика', 'Химия', 'Биология'],\n",
    "        'grade': [9, 8, 5, 7, 9, 6, 10, 10, 8],\n",
    "        'count': [183, 109, 534, 340, 129, 402, 173, 144, 197]\n",
    "    })\n",
    "    index_column = 'subject'\n",
    "    columns_column = 'grade'\n",
    "    values_column = 'count'\n",
    "    expected_df = pd.DataFrame([\n",
    "            [None, None, None, 197, 183, None],\n",
    "            [534, 402, 340, None, None, 173],\n",
    "            [None, None, None, 109, 129, 144]\n",
    "        ],\n",
    "        index=['Биология', 'Математика', 'Химия'],\n",
    "        columns=[5, 6, 7, 8, 9, 10]\n",
    "    )\n",
    "    expected_df.index.name = 'subject'\n",
    "    expected_df.columns.name = 'grade'\n",
    "    _test_pivot_table(df, index_column, columns_column, values_column, expected_df)\n",
    "    \n",
    "def pivot_table_test():\n",
    "    if calculate_lines_of_code(pivot_table_solution) != 1:\n",
    "        raise RuntimeError('В теле функции должна быть ровно одна строка!')\n",
    "        \n",
    "    test_pivot_table_1()\n",
    "    \n",
    "    print('Все тесты прошли успешно!')"
   ]
  },
  {
   "cell_type": "code",
   "execution_count": 15,
   "id": "c6df71f7",
   "metadata": {
    "ExecuteTime": {
     "end_time": "2023-11-25T08:14:36.981194Z",
     "start_time": "2023-11-25T08:14:36.967848Z"
    }
   },
   "outputs": [
    {
     "name": "stdout",
     "output_type": "stream",
     "text": [
      "Все тесты прошли успешно!\n"
     ]
    }
   ],
   "source": [
    "pivot_table_test()"
   ]
  },
  {
   "cell_type": "code",
   "execution_count": 70,
   "id": "89eb4274",
   "metadata": {
    "ExecuteTime": {
     "end_time": "2023-11-25T08:37:22.188237Z",
     "start_time": "2023-11-25T08:37:22.184623Z"
    }
   },
   "outputs": [],
   "source": [
    "def count_courses_solution(df):\n",
    "    \"\"\"\n",
    "    Преобразует заданную таблицу типа DataFrame с помощью цепочки методов.\n",
    "\n",
    "    Аргументы:\n",
    "        df: Исходная таблица.\n",
    "        \n",
    "    Возвращаемое значение:\n",
    "        Таблица, преобразованная с помощью цепочки методов:\n",
    "            1. Изменение колонки courses: разбиение значений в колонке\n",
    "               с помощью функции split по разделителю «, ».\n",
    "            2. Приведение с помощью функции explode таблицы к виду, когда в каждой\n",
    "               строке в колонке courses записано ровно одно значение идентификатора курса.\n",
    "            3. Подсчёт с помощью функции value_counts частоты встречаемости курсов в колонке courses.\n",
    "    \"\"\"\n",
    "    return df['courses'].apply(lambda x: x.split(', ')).explode('courses').value_counts()"
   ]
  },
  {
   "cell_type": "code",
   "execution_count": 76,
   "id": "dab60751",
   "metadata": {
    "ExecuteTime": {
     "end_time": "2023-11-25T08:38:46.319659Z",
     "start_time": "2023-11-25T08:38:46.312255Z"
    }
   },
   "outputs": [
    {
     "data": {
      "text/plain": [
       "courses\n",
       "1235    12\n",
       "1236    12\n",
       "1237    11\n",
       "1234     8\n",
       "Name: count, dtype: int64"
      ]
     },
     "execution_count": 76,
     "metadata": {},
     "output_type": "execute_result"
    }
   ],
   "source": [
    "df = pd.read_csv('courses_test1.csv')\n",
    "count_courses_solution(df)"
   ]
  },
  {
   "cell_type": "code",
   "execution_count": 65,
   "id": "d97aba60",
   "metadata": {
    "ExecuteTime": {
     "end_time": "2023-11-25T08:36:40.263570Z",
     "start_time": "2023-11-25T08:36:40.259190Z"
    }
   },
   "outputs": [],
   "source": [
    "def _test_count_courses(ser, expected_ser):\n",
    "    compare_series(ser, expected_ser)\n",
    "\n",
    "def test_count_courses_1():\n",
    "    df = pd.read_csv('courses_test1.csv')\n",
    "    expected_ser = pd.Series([12, 12, 11, 8])\n",
    "    expected_ser.index = ['1235', '1236', '1237', '1234']\n",
    "    expected_ser.index.name = 'courses'\n",
    "    _test_count_courses(count_courses_solution(df), expected_ser)\n",
    "    \n",
    "def count_courses_test():\n",
    "    if calculate_lines_of_code(count_courses_solution) != 1:\n",
    "        raise RuntimeError('В теле функции должна быть ровно одна строка!')\n",
    "        \n",
    "    test_count_courses_1()\n",
    "    \n",
    "    print('Все тесты прошли успешно!')"
   ]
  },
  {
   "cell_type": "code",
   "execution_count": 66,
   "id": "e60cdb4d",
   "metadata": {
    "ExecuteTime": {
     "end_time": "2023-11-25T08:36:40.718844Z",
     "start_time": "2023-11-25T08:36:40.710078Z"
    }
   },
   "outputs": [
    {
     "name": "stdout",
     "output_type": "stream",
     "text": [
      "Все тесты прошли успешно!\n"
     ]
    }
   ],
   "source": [
    "count_courses_test()"
   ]
  },
  {
   "cell_type": "markdown",
   "id": "cd18eb79",
   "metadata": {},
   "source": [
    "## Заготовки для вычислительных задач"
   ]
  },
  {
   "cell_type": "markdown",
   "id": "0867515b",
   "metadata": {},
   "source": [
    "В файле `user.csv` (<a class=\"ui-file-link\" href=\"https://edu.sirius.online/noo-back/files/ac515a3d068d43bcd3fb4c9b98cba21970ae6b83.csv\" download=\"user.csv\">user.csv</a>) содержится таблица `user` с полями `id`, `grade` и `region`.\n",
    "\n",
    "С помощью функции `sample` сделайте случайную выборку из этой таблицы, содержащую $100$ строк. В качестве зерна (параметр `random_state`) используйте число $42$. Вычислите сумму значений в колонке `grade` получившейся выборки."
   ]
  },
  {
   "cell_type": "code",
   "execution_count": 16,
   "id": "de26252b",
   "metadata": {
    "ExecuteTime": {
     "end_time": "2023-11-25T08:15:25.993741Z",
     "start_time": "2023-11-25T08:15:25.982031Z"
    }
   },
   "outputs": [],
   "source": [
    "user_df = pd.read_csv('user.csv')"
   ]
  },
  {
   "cell_type": "code",
   "execution_count": 17,
   "id": "4fb9a03d",
   "metadata": {
    "ExecuteTime": {
     "end_time": "2023-11-25T08:16:42.457795Z",
     "start_time": "2023-11-25T08:16:42.446431Z"
    }
   },
   "outputs": [
    {
     "data": {
      "text/plain": [
       "756.0"
      ]
     },
     "execution_count": 17,
     "metadata": {},
     "output_type": "execute_result"
    }
   ],
   "source": [
    "user_df_sample = user_df.sample(100, random_state=42)\n",
    "user_df_sample['grade'].sum()"
   ]
  },
  {
   "cell_type": "markdown",
   "id": "908185fb",
   "metadata": {},
   "source": [
    "В файле `temperature.csv` (<a class=\"ui-file-link\" href=\"https://edu.sirius.online/noo-back/files/75dfda35914787f4e8dff30a1e01e020b25dea1e.csv\" download=\"temperature.csv\">temperature.csv</a>) содержится таблица с единственным полем `temperature` — значением температуры. У таблицы имеется отсортированный по возрастанию индекс, содержащий ежеминутные моменты времени. Температура записывается только в том случае, если она изменилась по сравнению с предыдущим моментом времени, поэтому в таблице присутствуют пропуски.\n",
    "\n",
    "Заполните пропуски в данных с помощью функции `ffill`. Вычислите среднюю температуру за весь период с учетом заполненных пропусков. Ответ округлите до двух знаков после запятой."
   ]
  },
  {
   "cell_type": "code",
   "execution_count": 22,
   "id": "c1f95e61",
   "metadata": {
    "ExecuteTime": {
     "end_time": "2023-11-25T08:18:21.215534Z",
     "start_time": "2023-11-25T08:18:21.203075Z"
    }
   },
   "outputs": [
    {
     "data": {
      "text/plain": [
       "temperature    19.767152\n",
       "dtype: float64"
      ]
     },
     "execution_count": 22,
     "metadata": {},
     "output_type": "execute_result"
    }
   ],
   "source": [
    "temperature_df = pd.read_csv('temperature.csv', index_col=0)\n",
    "temperature_df = temperature_df.ffill()\n",
    "temperature_df.mean()"
   ]
  },
  {
   "cell_type": "markdown",
   "id": "271cb630",
   "metadata": {},
   "source": [
    "В файле `courses.csv` (<a class=\"ui-file-link\" href=\"https://edu.sirius.online/noo-back/files/3a181a08998d025dc24ea6d0a0bca312b53bf34d.csv\" download=\"courses.csv\">courses.csv</a>) содержится таблица с двумя колонками:\n",
    "1. `id` – идентификатор ученика;\n",
    "2. `courses` – список идентификаторов курсов, на которые записан ученик.\n",
    "\n",
    "Значения в колонке `courses` представляют собой строки, содержащие идентификаторы курсов, разделенные запятой с пробелом («`, `»). Гарантируется, что значения в поле `id` уникальны.\n",
    "\n",
    "Последовательно применяя функции `split`, `explode` и `value_counts`, определите, на какой курс записано больше всего учеников.\n"
   ]
  },
  {
   "cell_type": "code",
   "execution_count": 33,
   "id": "8200157c",
   "metadata": {
    "ExecuteTime": {
     "end_time": "2023-11-25T08:24:27.234072Z",
     "start_time": "2023-11-25T08:24:27.221721Z"
    }
   },
   "outputs": [
    {
     "data": {
      "text/plain": [
       "courses\n",
       "1240    130\n",
       "1241    126\n",
       "1236    124\n",
       "1238    114\n",
       "1234    112\n",
       "1242    110\n",
       "1239    107\n",
       "1235    101\n",
       "1237     96\n",
       "Name: count, dtype: int64"
      ]
     },
     "execution_count": 33,
     "metadata": {},
     "output_type": "execute_result"
    }
   ],
   "source": [
    "courses = pd.read_csv('courses.csv')\n",
    "courses['courses'] = courses['courses'].apply(lambda x: x.split(', '))\n",
    "courses = courses.explode('courses')\n",
    "courses = courses['courses'].value_counts()\n",
    "courses"
   ]
  },
  {
   "cell_type": "code",
   "execution_count": null,
   "id": "a026b23d",
   "metadata": {},
   "outputs": [],
   "source": []
  }
 ],
 "metadata": {
  "kernelspec": {
   "display_name": "Python 3 (ipykernel)",
   "language": "python",
   "name": "python3"
  },
  "language_info": {
   "codemirror_mode": {
    "name": "ipython",
    "version": 3
   },
   "file_extension": ".py",
   "mimetype": "text/x-python",
   "name": "python",
   "nbconvert_exporter": "python",
   "pygments_lexer": "ipython3",
   "version": "3.11.5"
  }
 },
 "nbformat": 4,
 "nbformat_minor": 5
}
