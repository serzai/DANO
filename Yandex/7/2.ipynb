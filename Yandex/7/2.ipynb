{
 "cells": [
  {
   "cell_type": "code",
   "execution_count": 22,
   "id": "ab500d50",
   "metadata": {
    "ExecuteTime": {
     "end_time": "2023-11-18T17:51:59.333129Z",
     "start_time": "2023-11-18T17:51:59.330288Z"
    }
   },
   "outputs": [],
   "source": [
    "import pandas as pd\n",
    "from sklearn.model_selection import train_test_split\n",
    "from sklearn.preprocessing import OneHotEncoder\n",
    "from sklearn.linear_model import LinearRegression"
   ]
  },
  {
   "cell_type": "code",
   "execution_count": 23,
   "id": "85152d47",
   "metadata": {
    "ExecuteTime": {
     "end_time": "2023-11-18T17:51:59.697858Z",
     "start_time": "2023-11-18T17:51:59.680277Z"
    }
   },
   "outputs": [
    {
     "data": {
      "text/html": [
       "<div>\n",
       "<style scoped>\n",
       "    .dataframe tbody tr th:only-of-type {\n",
       "        vertical-align: middle;\n",
       "    }\n",
       "\n",
       "    .dataframe tbody tr th {\n",
       "        vertical-align: top;\n",
       "    }\n",
       "\n",
       "    .dataframe thead th {\n",
       "        text-align: right;\n",
       "    }\n",
       "</style>\n",
       "<table border=\"1\" class=\"dataframe\">\n",
       "  <thead>\n",
       "    <tr style=\"text-align: right;\">\n",
       "      <th></th>\n",
       "      <th>температура</th>\n",
       "      <th>дождь</th>\n",
       "      <th>продажи</th>\n",
       "    </tr>\n",
       "  </thead>\n",
       "  <tbody>\n",
       "    <tr>\n",
       "      <th>0</th>\n",
       "      <td>17</td>\n",
       "      <td>да</td>\n",
       "      <td>68</td>\n",
       "    </tr>\n",
       "    <tr>\n",
       "      <th>1</th>\n",
       "      <td>17</td>\n",
       "      <td>нет</td>\n",
       "      <td>72</td>\n",
       "    </tr>\n",
       "    <tr>\n",
       "      <th>2</th>\n",
       "      <td>17</td>\n",
       "      <td>да</td>\n",
       "      <td>110</td>\n",
       "    </tr>\n",
       "    <tr>\n",
       "      <th>3</th>\n",
       "      <td>18</td>\n",
       "      <td>нет</td>\n",
       "      <td>94</td>\n",
       "    </tr>\n",
       "    <tr>\n",
       "      <th>4</th>\n",
       "      <td>18</td>\n",
       "      <td>нет</td>\n",
       "      <td>111</td>\n",
       "    </tr>\n",
       "    <tr>\n",
       "      <th>5</th>\n",
       "      <td>18</td>\n",
       "      <td>нет</td>\n",
       "      <td>114</td>\n",
       "    </tr>\n",
       "    <tr>\n",
       "      <th>6</th>\n",
       "      <td>19</td>\n",
       "      <td>нет</td>\n",
       "      <td>95</td>\n",
       "    </tr>\n",
       "    <tr>\n",
       "      <th>7</th>\n",
       "      <td>19</td>\n",
       "      <td>нет</td>\n",
       "      <td>76</td>\n",
       "    </tr>\n",
       "    <tr>\n",
       "      <th>8</th>\n",
       "      <td>22</td>\n",
       "      <td>да</td>\n",
       "      <td>117</td>\n",
       "    </tr>\n",
       "    <tr>\n",
       "      <th>9</th>\n",
       "      <td>22</td>\n",
       "      <td>да</td>\n",
       "      <td>110</td>\n",
       "    </tr>\n",
       "    <tr>\n",
       "      <th>10</th>\n",
       "      <td>23</td>\n",
       "      <td>нет</td>\n",
       "      <td>122</td>\n",
       "    </tr>\n",
       "    <tr>\n",
       "      <th>11</th>\n",
       "      <td>23</td>\n",
       "      <td>нет</td>\n",
       "      <td>123</td>\n",
       "    </tr>\n",
       "    <tr>\n",
       "      <th>12</th>\n",
       "      <td>23</td>\n",
       "      <td>да</td>\n",
       "      <td>115</td>\n",
       "    </tr>\n",
       "    <tr>\n",
       "      <th>13</th>\n",
       "      <td>23</td>\n",
       "      <td>нет</td>\n",
       "      <td>118</td>\n",
       "    </tr>\n",
       "    <tr>\n",
       "      <th>14</th>\n",
       "      <td>23</td>\n",
       "      <td>да</td>\n",
       "      <td>110</td>\n",
       "    </tr>\n",
       "    <tr>\n",
       "      <th>15</th>\n",
       "      <td>19</td>\n",
       "      <td>нет</td>\n",
       "      <td>126</td>\n",
       "    </tr>\n",
       "    <tr>\n",
       "      <th>16</th>\n",
       "      <td>19</td>\n",
       "      <td>нет</td>\n",
       "      <td>120</td>\n",
       "    </tr>\n",
       "  </tbody>\n",
       "</table>\n",
       "</div>"
      ],
      "text/plain": [
       "    температура дождь  продажи\n",
       "0            17    да       68\n",
       "1            17   нет       72\n",
       "2            17    да      110\n",
       "3            18   нет       94\n",
       "4            18   нет      111\n",
       "5            18   нет      114\n",
       "6            19   нет       95\n",
       "7            19   нет       76\n",
       "8            22    да      117\n",
       "9            22    да      110\n",
       "10           23   нет      122\n",
       "11           23   нет      123\n",
       "12           23    да      115\n",
       "13           23   нет      118\n",
       "14           23    да      110\n",
       "15           19   нет      126\n",
       "16           19   нет      120"
      ]
     },
     "execution_count": 23,
     "metadata": {},
     "output_type": "execute_result"
    }
   ],
   "source": [
    "df = pd.read_csv('tg_2_.csv', sep=';', encoding='cp1251')\n",
    "df"
   ]
  },
  {
   "cell_type": "code",
   "execution_count": 24,
   "id": "4010021a",
   "metadata": {
    "ExecuteTime": {
     "end_time": "2023-11-18T17:52:00.248842Z",
     "start_time": "2023-11-18T17:52:00.242278Z"
    }
   },
   "outputs": [],
   "source": [
    "x = df[['температура', 'дождь']]\n",
    "y = df['продажи']\n",
    "x_train, x_test, y_train, y_test = train_test_split(\n",
    "    x, y, test_size=0.15, random_state=42)"
   ]
  },
  {
   "cell_type": "code",
   "execution_count": 33,
   "id": "4816eb50",
   "metadata": {
    "ExecuteTime": {
     "end_time": "2023-11-18T18:01:12.344290Z",
     "start_time": "2023-11-18T18:01:12.324533Z"
    }
   },
   "outputs": [
    {
     "name": "stdout",
     "output_type": "stream",
     "text": [
      "[101. 101. 104.]\n"
     ]
    }
   ],
   "source": [
    "def get_ohe(train, categ):\n",
    "    '''\n",
    "    Функция для ohe_категоризации необходимых столбцов и последующего объединения с количественными столбцами\n",
    "\n",
    "    На вход: выборка трайн или тест И названия категориальных столбцов\n",
    "    '''\n",
    "    temp_df = pd.DataFrame(\n",
    "        data=ohe.transform(train[[categ]]), columns=ohe.get_feature_names_out()\n",
    "    )\n",
    "    data = pd.concat([train.reset_index(drop=True), temp_df], axis=1)\n",
    "    data = data.drop(columns=categ, axis=1)\n",
    "    return data\n",
    "\n",
    "\n",
    "ohe = OneHotEncoder(sparse_output=False, drop='first', handle_unknown='ignore')\n",
    "ohe.fit(x_train[['дождь']])\n",
    "ohe.fit(x_test[['дождь']])\n",
    "\n",
    "x_train = get_ohe(x_train, 'дождь')\n",
    "x_test = get_ohe(x_test, 'дождь')\n",
    "\n",
    "lin_regr = LinearRegression()\n",
    "lin_regr.fit(x_train, y_train)\n",
    "prediction = lin_regr.predict(x_test)\n",
    "\n",
    "print(prediction.round())"
   ]
  }
 ],
 "metadata": {
  "kernelspec": {
   "display_name": "Python 3 (ipykernel)",
   "language": "python",
   "name": "python3"
  },
  "language_info": {
   "codemirror_mode": {
    "name": "ipython",
    "version": 3
   },
   "file_extension": ".py",
   "mimetype": "text/x-python",
   "name": "python",
   "nbconvert_exporter": "python",
   "pygments_lexer": "ipython3",
   "version": "3.11.5"
  }
 },
 "nbformat": 4,
 "nbformat_minor": 5
}
