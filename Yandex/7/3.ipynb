{
 "cells": [
  {
   "cell_type": "code",
   "execution_count": 8,
   "id": "70ecf545",
   "metadata": {
    "ExecuteTime": {
     "end_time": "2023-11-18T18:16:23.726143Z",
     "start_time": "2023-11-18T18:16:23.722843Z"
    }
   },
   "outputs": [],
   "source": [
    "import pandas as pd\n",
    "from sklearn.model_selection import train_test_split\n",
    "from sklearn.preprocessing import OneHotEncoder\n",
    "from sklearn.linear_model import LinearRegression\n",
    "from sklearn.metrics import r2_score, mean_absolute_error, mean_squared_error, mean_absolute_percentage_error"
   ]
  },
  {
   "cell_type": "code",
   "execution_count": 4,
   "id": "7ed53a70",
   "metadata": {
    "ExecuteTime": {
     "end_time": "2023-11-18T18:10:21.901487Z",
     "start_time": "2023-11-18T18:10:21.897276Z"
    }
   },
   "outputs": [],
   "source": [
    "\n",
    "\n",
    "def get_ohe(train, categ):\n",
    "    '''\n",
    "    Функция для ohe_категоризации необходимых столбцов и последующего объединения с количественными столбцами\n",
    "\n",
    "    На вход: выборка трайн или тест И названия категориальных столбцов\n",
    "    '''\n",
    "    temp_df = pd.DataFrame(\n",
    "        data=ohe.transform(train[[categ]]), columns=ohe.get_feature_names_out()\n",
    "    )\n",
    "    data = pd.concat([train.reset_index(drop=True), temp_df], axis=1)\n",
    "    data = data.drop(columns=categ, axis=1)\n",
    "    return data\n",
    "\n"
   ]
  },
  {
   "cell_type": "code",
   "execution_count": 2,
   "id": "7faab9d2",
   "metadata": {
    "ExecuteTime": {
     "end_time": "2023-11-18T18:08:29.094128Z",
     "start_time": "2023-11-18T18:08:29.061207Z"
    }
   },
   "outputs": [
    {
     "data": {
      "text/html": [
       "<div>\n",
       "<style scoped>\n",
       "    .dataframe tbody tr th:only-of-type {\n",
       "        vertical-align: middle;\n",
       "    }\n",
       "\n",
       "    .dataframe tbody tr th {\n",
       "        vertical-align: top;\n",
       "    }\n",
       "\n",
       "    .dataframe thead th {\n",
       "        text-align: right;\n",
       "    }\n",
       "</style>\n",
       "<table border=\"1\" class=\"dataframe\">\n",
       "  <thead>\n",
       "    <tr style=\"text-align: right;\">\n",
       "      <th></th>\n",
       "      <th>цена</th>\n",
       "      <th>возраст</th>\n",
       "      <th>мощность</th>\n",
       "      <th>кузов</th>\n",
       "    </tr>\n",
       "  </thead>\n",
       "  <tbody>\n",
       "    <tr>\n",
       "      <th>0</th>\n",
       "      <td>9800</td>\n",
       "      <td>19</td>\n",
       "      <td>163</td>\n",
       "      <td>не седан</td>\n",
       "    </tr>\n",
       "    <tr>\n",
       "      <th>1</th>\n",
       "      <td>1500</td>\n",
       "      <td>22</td>\n",
       "      <td>75</td>\n",
       "      <td>не седан</td>\n",
       "    </tr>\n",
       "    <tr>\n",
       "      <th>2</th>\n",
       "      <td>3600</td>\n",
       "      <td>15</td>\n",
       "      <td>69</td>\n",
       "      <td>не седан</td>\n",
       "    </tr>\n",
       "    <tr>\n",
       "      <th>3</th>\n",
       "      <td>650</td>\n",
       "      <td>28</td>\n",
       "      <td>102</td>\n",
       "      <td>не седан</td>\n",
       "    </tr>\n",
       "    <tr>\n",
       "      <th>4</th>\n",
       "      <td>2200</td>\n",
       "      <td>19</td>\n",
       "      <td>109</td>\n",
       "      <td>не седан</td>\n",
       "    </tr>\n",
       "    <tr>\n",
       "      <th>...</th>\n",
       "      <td>...</td>\n",
       "      <td>...</td>\n",
       "      <td>...</td>\n",
       "      <td>...</td>\n",
       "    </tr>\n",
       "    <tr>\n",
       "      <th>68</th>\n",
       "      <td>250</td>\n",
       "      <td>23</td>\n",
       "      <td>155</td>\n",
       "      <td>не седан</td>\n",
       "    </tr>\n",
       "    <tr>\n",
       "      <th>69</th>\n",
       "      <td>600</td>\n",
       "      <td>29</td>\n",
       "      <td>75</td>\n",
       "      <td>седан</td>\n",
       "    </tr>\n",
       "    <tr>\n",
       "      <th>70</th>\n",
       "      <td>3300</td>\n",
       "      <td>18</td>\n",
       "      <td>150</td>\n",
       "      <td>не седан</td>\n",
       "    </tr>\n",
       "    <tr>\n",
       "      <th>71</th>\n",
       "      <td>1600</td>\n",
       "      <td>26</td>\n",
       "      <td>122</td>\n",
       "      <td>не седан</td>\n",
       "    </tr>\n",
       "    <tr>\n",
       "      <th>72</th>\n",
       "      <td>8000</td>\n",
       "      <td>18</td>\n",
       "      <td>185</td>\n",
       "      <td>не седан</td>\n",
       "    </tr>\n",
       "  </tbody>\n",
       "</table>\n",
       "<p>73 rows × 4 columns</p>\n",
       "</div>"
      ],
      "text/plain": [
       "    цена  возраст  мощность     кузов\n",
       "0   9800       19       163  не седан\n",
       "1   1500       22        75  не седан\n",
       "2   3600       15        69  не седан\n",
       "3    650       28       102  не седан\n",
       "4   2200       19       109  не седан\n",
       "..   ...      ...       ...       ...\n",
       "68   250       23       155  не седан\n",
       "69   600       29        75     седан\n",
       "70  3300       18       150  не седан\n",
       "71  1600       26       122  не седан\n",
       "72  8000       18       185  не седан\n",
       "\n",
       "[73 rows x 4 columns]"
      ]
     },
     "execution_count": 2,
     "metadata": {},
     "output_type": "execute_result"
    }
   ],
   "source": [
    "df = pd.read_csv('tg_3_.csv', sep=';', encoding='cp1251')\n",
    "df"
   ]
  },
  {
   "cell_type": "code",
   "execution_count": 3,
   "id": "bf44ed1f",
   "metadata": {
    "ExecuteTime": {
     "end_time": "2023-11-18T18:09:40.205780Z",
     "start_time": "2023-11-18T18:09:40.199198Z"
    }
   },
   "outputs": [],
   "source": [
    "x = df.drop(columns='цена')\n",
    "y = df['цена']\n",
    "x_train, x_test, y_train, y_test = train_test_split(\n",
    "    x, y, test_size=0.15, random_state=42)"
   ]
  },
  {
   "cell_type": "code",
   "execution_count": 5,
   "id": "fb0ae40d",
   "metadata": {
    "ExecuteTime": {
     "end_time": "2023-11-18T18:11:08.835518Z",
     "start_time": "2023-11-18T18:11:08.823528Z"
    }
   },
   "outputs": [],
   "source": [
    "ohe = OneHotEncoder(sparse_output=False, drop='first', handle_unknown='ignore')\n",
    "ohe.fit(x_train[['кузов']])\n",
    "ohe.fit(x_test[['кузов']])\n",
    "\n",
    "x_train = get_ohe(x_train, 'кузов')\n",
    "x_test = get_ohe(x_test, 'кузов')"
   ]
  },
  {
   "cell_type": "code",
   "execution_count": 10,
   "id": "d735a575",
   "metadata": {
    "ExecuteTime": {
     "end_time": "2023-11-18T18:17:46.928118Z",
     "start_time": "2023-11-18T18:17:46.914864Z"
    }
   },
   "outputs": [],
   "source": [
    "lin_regr = LinearRegression()\n",
    "lin_regr.fit(x_train, y_train)\n",
    "prediction = lin_regr.predict(x_test)"
   ]
  },
  {
   "cell_type": "code",
   "execution_count": 17,
   "id": "bb2dd5d4",
   "metadata": {
    "ExecuteTime": {
     "end_time": "2023-11-18T19:11:41.483551Z",
     "start_time": "2023-11-18T19:11:41.474088Z"
    }
   },
   "outputs": [
    {
     "name": "stdout",
     "output_type": "stream",
     "text": [
      "0.39 3487.57\n"
     ]
    }
   ],
   "source": [
    "r2 = round(r2_score(y_test, prediction), 2)\n",
    "mae = round(mean_absolute_error(y_test, prediction), 2)\n",
    "\n",
    "print(r2, mae)"
   ]
  },
  {
   "cell_type": "code",
   "execution_count": null,
   "id": "15ee1f1a",
   "metadata": {},
   "outputs": [],
   "source": []
  }
 ],
 "metadata": {
  "kernelspec": {
   "display_name": "Python 3 (ipykernel)",
   "language": "python",
   "name": "python3"
  },
  "language_info": {
   "codemirror_mode": {
    "name": "ipython",
    "version": 3
   },
   "file_extension": ".py",
   "mimetype": "text/x-python",
   "name": "python",
   "nbconvert_exporter": "python",
   "pygments_lexer": "ipython3",
   "version": "3.11.5"
  }
 },
 "nbformat": 4,
 "nbformat_minor": 5
}
