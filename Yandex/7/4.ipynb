{
 "cells": [
  {
   "cell_type": "code",
   "execution_count": 101,
   "id": "f40bf833",
   "metadata": {
    "ExecuteTime": {
     "end_time": "2023-11-18T19:37:26.443752Z",
     "start_time": "2023-11-18T19:37:26.439844Z"
    }
   },
   "outputs": [],
   "source": [
    "import pandas as pd\n",
    "import numpy as np\n",
    "import math\n",
    "from sklearn.model_selection import train_test_split\n",
    "from sklearn.preprocessing import OneHotEncoder\n",
    "from sklearn.linear_model import LinearRegression\n",
    "from sklearn.metrics import r2_score, mean_absolute_error, mean_squared_error, mean_absolute_percentage_error"
   ]
  },
  {
   "cell_type": "code",
   "execution_count": 102,
   "id": "62d43a1c",
   "metadata": {
    "ExecuteTime": {
     "end_time": "2023-11-18T19:37:26.615240Z",
     "start_time": "2023-11-18T19:37:26.610169Z"
    }
   },
   "outputs": [],
   "source": [
    "\n",
    "\n",
    "def get_ohe(train, categ):\n",
    "    '''\n",
    "    Функция для ohe_категоризации необходимых столбцов и последующего объединения с количественными столбцами\n",
    "\n",
    "    На вход: выборка трайн или тест И названия категориальных столбцов\n",
    "    '''\n",
    "    temp_df = pd.DataFrame(\n",
    "        data=ohe.transform(train[[categ]]), columns=ohe.get_feature_names_out()\n",
    "    )\n",
    "    data = pd.concat([train.reset_index(drop=True), temp_df], axis=1)\n",
    "    data = data.drop(columns=categ, axis=1)\n",
    "    return data\n",
    "\n"
   ]
  },
  {
   "cell_type": "code",
   "execution_count": 103,
   "id": "1e52e254",
   "metadata": {
    "ExecuteTime": {
     "end_time": "2023-11-18T19:37:26.780007Z",
     "start_time": "2023-11-18T19:37:26.756828Z"
    }
   },
   "outputs": [
    {
     "data": {
      "text/html": [
       "<div>\n",
       "<style scoped>\n",
       "    .dataframe tbody tr th:only-of-type {\n",
       "        vertical-align: middle;\n",
       "    }\n",
       "\n",
       "    .dataframe tbody tr th {\n",
       "        vertical-align: top;\n",
       "    }\n",
       "\n",
       "    .dataframe thead th {\n",
       "        text-align: right;\n",
       "    }\n",
       "</style>\n",
       "<table border=\"1\" class=\"dataframe\">\n",
       "  <thead>\n",
       "    <tr style=\"text-align: right;\">\n",
       "      <th></th>\n",
       "      <th>id</th>\n",
       "      <th>удой</th>\n",
       "      <th>эке</th>\n",
       "      <th>протеин</th>\n",
       "      <th>спо</th>\n",
       "      <th>порода</th>\n",
       "      <th>Жирность,%</th>\n",
       "    </tr>\n",
       "  </thead>\n",
       "  <tbody>\n",
       "    <tr>\n",
       "      <th>0</th>\n",
       "      <td>1</td>\n",
       "      <td>5863</td>\n",
       "      <td>14.2</td>\n",
       "      <td>1743.0</td>\n",
       "      <td>0.89</td>\n",
       "      <td>Вис Бик Айдиал</td>\n",
       "      <td>3.58</td>\n",
       "    </tr>\n",
       "    <tr>\n",
       "      <th>1</th>\n",
       "      <td>2</td>\n",
       "      <td>5529</td>\n",
       "      <td>12.8</td>\n",
       "      <td>2138.0</td>\n",
       "      <td>0.94</td>\n",
       "      <td>Вис Бик Айдиал</td>\n",
       "      <td>3.54</td>\n",
       "    </tr>\n",
       "    <tr>\n",
       "      <th>2</th>\n",
       "      <td>3</td>\n",
       "      <td>5810</td>\n",
       "      <td>14.0</td>\n",
       "      <td>1854.0</td>\n",
       "      <td>0.93</td>\n",
       "      <td>РефлешнСоверинг</td>\n",
       "      <td>103.59</td>\n",
       "    </tr>\n",
       "    <tr>\n",
       "      <th>3</th>\n",
       "      <td>4</td>\n",
       "      <td>5895</td>\n",
       "      <td>12.4</td>\n",
       "      <td>2012.0</td>\n",
       "      <td>0.89</td>\n",
       "      <td>РефлешнСоверинг</td>\n",
       "      <td>3.40</td>\n",
       "    </tr>\n",
       "    <tr>\n",
       "      <th>5</th>\n",
       "      <td>6</td>\n",
       "      <td>5254</td>\n",
       "      <td>12.7</td>\n",
       "      <td>1806.0</td>\n",
       "      <td>0.89</td>\n",
       "      <td>РефлешнСоверинг</td>\n",
       "      <td>3.13</td>\n",
       "    </tr>\n",
       "    <tr>\n",
       "      <th>...</th>\n",
       "      <td>...</td>\n",
       "      <td>...</td>\n",
       "      <td>...</td>\n",
       "      <td>...</td>\n",
       "      <td>...</td>\n",
       "      <td>...</td>\n",
       "      <td>...</td>\n",
       "    </tr>\n",
       "    <tr>\n",
       "      <th>147</th>\n",
       "      <td>148</td>\n",
       "      <td>5072</td>\n",
       "      <td>12.3</td>\n",
       "      <td>1815.0</td>\n",
       "      <td>0.84</td>\n",
       "      <td>Вис Бик Айдиал</td>\n",
       "      <td>3.18</td>\n",
       "    </tr>\n",
       "    <tr>\n",
       "      <th>148</th>\n",
       "      <td>149</td>\n",
       "      <td>6075</td>\n",
       "      <td>15.2</td>\n",
       "      <td>1864.0</td>\n",
       "      <td>0.94</td>\n",
       "      <td>Вис Бик Айдиал</td>\n",
       "      <td>3.71</td>\n",
       "    </tr>\n",
       "    <tr>\n",
       "      <th>149</th>\n",
       "      <td>150</td>\n",
       "      <td>5675</td>\n",
       "      <td>14.1</td>\n",
       "      <td>1814.0</td>\n",
       "      <td>0.94</td>\n",
       "      <td>Вис Бик Айдиал</td>\n",
       "      <td>3.59</td>\n",
       "    </tr>\n",
       "    <tr>\n",
       "      <th>150</th>\n",
       "      <td>151</td>\n",
       "      <td>6221</td>\n",
       "      <td>14.7</td>\n",
       "      <td>2156.0</td>\n",
       "      <td>0.93</td>\n",
       "      <td>Вис Бик Айдиал</td>\n",
       "      <td>3.72</td>\n",
       "    </tr>\n",
       "    <tr>\n",
       "      <th>151</th>\n",
       "      <td>152</td>\n",
       "      <td>5894</td>\n",
       "      <td>14.8</td>\n",
       "      <td>2097.0</td>\n",
       "      <td>0.94</td>\n",
       "      <td>Вис Бик Айдиал</td>\n",
       "      <td>3.59</td>\n",
       "    </tr>\n",
       "  </tbody>\n",
       "</table>\n",
       "<p>150 rows × 7 columns</p>\n",
       "</div>"
      ],
      "text/plain": [
       "      id  удой   эке  протеин   спо           порода  Жирность,%\n",
       "0      1  5863  14.2   1743.0  0.89   Вис Бик Айдиал        3.58\n",
       "1      2  5529  12.8   2138.0  0.94   Вис Бик Айдиал        3.54\n",
       "2      3  5810  14.0   1854.0  0.93  РефлешнСоверинг      103.59\n",
       "3      4  5895  12.4   2012.0  0.89  РефлешнСоверинг        3.40\n",
       "5      6  5254  12.7   1806.0  0.89  РефлешнСоверинг        3.13\n",
       "..   ...   ...   ...      ...   ...              ...         ...\n",
       "147  148  5072  12.3   1815.0  0.84   Вис Бик Айдиал        3.18\n",
       "148  149  6075  15.2   1864.0  0.94   Вис Бик Айдиал        3.71\n",
       "149  150  5675  14.1   1814.0  0.94   Вис Бик Айдиал        3.59\n",
       "150  151  6221  14.7   2156.0  0.93   Вис Бик Айдиал        3.72\n",
       "151  152  5894  14.8   2097.0  0.94   Вис Бик Айдиал        3.59\n",
       "\n",
       "[150 rows x 7 columns]"
      ]
     },
     "execution_count": 103,
     "metadata": {},
     "output_type": "execute_result"
    }
   ],
   "source": [
    "df = pd.read_csv('tg_4_.csv', sep=';', encoding='cp1251', decimal=',')\n",
    "df = df.dropna()\n",
    "df"
   ]
  },
  {
   "cell_type": "code",
   "execution_count": 104,
   "id": "8afef87a",
   "metadata": {
    "ExecuteTime": {
     "end_time": "2023-11-18T19:37:26.899619Z",
     "start_time": "2023-11-18T19:37:26.882256Z"
    }
   },
   "outputs": [],
   "source": [
    "interquantile = (df['удой'].quantile(0.75) -\n",
    "                 df['удой'].quantile(0.25))\n",
    "df.loc[df['удой'] >= df['удой'].median() + 1.5 * interquantile, 'удой'] = np.nan\n",
    "df['удой'] = df.groupby('порода')['удой'].transform(\n",
    "    lambda x: x.fillna(x.median())\n",
    ")\n",
    "\n",
    "interquantile = (df['Жирность,%'].quantile(0.75) -\n",
    "                 df['Жирность,%'].quantile(0.25))\n",
    "df.loc[df['Жирность,%'] >= df['Жирность,%'].median() + 1.5 * interquantile,\n",
    "       'Жирность,%'] = np.nan\n",
    "df['Жирность,%'] = df.groupby('порода')['Жирность,%'].transform(\n",
    "    lambda x: x.fillna(x.median())\n",
    ")"
   ]
  },
  {
   "cell_type": "code",
   "execution_count": 105,
   "id": "ea8cbeb5",
   "metadata": {
    "ExecuteTime": {
     "end_time": "2023-11-18T19:37:27.011534Z",
     "start_time": "2023-11-18T19:37:27.007340Z"
    }
   },
   "outputs": [],
   "source": [
    "df.loc[df['порода'] == 'РефлешнСоверинггггг', 'порода'] = 'РефлешнСоверинг'"
   ]
  },
  {
   "cell_type": "code",
   "execution_count": 106,
   "id": "513c7972",
   "metadata": {
    "ExecuteTime": {
     "end_time": "2023-11-18T19:37:27.232605Z",
     "start_time": "2023-11-18T19:37:27.225343Z"
    }
   },
   "outputs": [],
   "source": [
    "df['спо_кат'] = df['спо']\\\n",
    "    .apply(lambda x: 1 if x <= 0.9 else 0)\n",
    "df['порода_кат'] = df['порода']\\\n",
    "    .apply(lambda x: 1 if x == 'РефлешнСоверинг' else 0)"
   ]
  },
  {
   "cell_type": "code",
   "execution_count": 107,
   "id": "aa7ec80d",
   "metadata": {
    "ExecuteTime": {
     "end_time": "2023-11-18T19:37:27.528782Z",
     "start_time": "2023-11-18T19:37:27.516135Z"
    },
    "scrolled": true
   },
   "outputs": [
    {
     "data": {
      "text/html": [
       "<div>\n",
       "<style scoped>\n",
       "    .dataframe tbody tr th:only-of-type {\n",
       "        vertical-align: middle;\n",
       "    }\n",
       "\n",
       "    .dataframe tbody tr th {\n",
       "        vertical-align: top;\n",
       "    }\n",
       "\n",
       "    .dataframe thead th {\n",
       "        text-align: right;\n",
       "    }\n",
       "</style>\n",
       "<table border=\"1\" class=\"dataframe\">\n",
       "  <thead>\n",
       "    <tr style=\"text-align: right;\">\n",
       "      <th></th>\n",
       "      <th>id</th>\n",
       "      <th>удой</th>\n",
       "      <th>эке</th>\n",
       "      <th>протеин</th>\n",
       "      <th>спо</th>\n",
       "      <th>порода</th>\n",
       "      <th>Жирность,%</th>\n",
       "      <th>спо_кат</th>\n",
       "      <th>порода_кат</th>\n",
       "    </tr>\n",
       "  </thead>\n",
       "  <tbody>\n",
       "    <tr>\n",
       "      <th>0</th>\n",
       "      <td>1</td>\n",
       "      <td>5863.0</td>\n",
       "      <td>14.2</td>\n",
       "      <td>1743.0</td>\n",
       "      <td>0.89</td>\n",
       "      <td>Вис Бик Айдиал</td>\n",
       "      <td>3.580</td>\n",
       "      <td>1</td>\n",
       "      <td>0</td>\n",
       "    </tr>\n",
       "    <tr>\n",
       "      <th>1</th>\n",
       "      <td>2</td>\n",
       "      <td>5529.0</td>\n",
       "      <td>12.8</td>\n",
       "      <td>2138.0</td>\n",
       "      <td>0.94</td>\n",
       "      <td>Вис Бик Айдиал</td>\n",
       "      <td>3.540</td>\n",
       "      <td>0</td>\n",
       "      <td>0</td>\n",
       "    </tr>\n",
       "    <tr>\n",
       "      <th>2</th>\n",
       "      <td>3</td>\n",
       "      <td>5810.0</td>\n",
       "      <td>14.0</td>\n",
       "      <td>1854.0</td>\n",
       "      <td>0.93</td>\n",
       "      <td>РефлешнСоверинг</td>\n",
       "      <td>3.705</td>\n",
       "      <td>0</td>\n",
       "      <td>1</td>\n",
       "    </tr>\n",
       "    <tr>\n",
       "      <th>3</th>\n",
       "      <td>4</td>\n",
       "      <td>5895.0</td>\n",
       "      <td>12.4</td>\n",
       "      <td>2012.0</td>\n",
       "      <td>0.89</td>\n",
       "      <td>РефлешнСоверинг</td>\n",
       "      <td>3.400</td>\n",
       "      <td>1</td>\n",
       "      <td>1</td>\n",
       "    </tr>\n",
       "    <tr>\n",
       "      <th>5</th>\n",
       "      <td>6</td>\n",
       "      <td>5254.0</td>\n",
       "      <td>12.7</td>\n",
       "      <td>1806.0</td>\n",
       "      <td>0.89</td>\n",
       "      <td>РефлешнСоверинг</td>\n",
       "      <td>3.130</td>\n",
       "      <td>1</td>\n",
       "      <td>1</td>\n",
       "    </tr>\n",
       "  </tbody>\n",
       "</table>\n",
       "</div>"
      ],
      "text/plain": [
       "   id    удой   эке  протеин   спо           порода  Жирность,%  спо_кат  \\\n",
       "0   1  5863.0  14.2   1743.0  0.89   Вис Бик Айдиал       3.580        1   \n",
       "1   2  5529.0  12.8   2138.0  0.94   Вис Бик Айдиал       3.540        0   \n",
       "2   3  5810.0  14.0   1854.0  0.93  РефлешнСоверинг       3.705        0   \n",
       "3   4  5895.0  12.4   2012.0  0.89  РефлешнСоверинг       3.400        1   \n",
       "5   6  5254.0  12.7   1806.0  0.89  РефлешнСоверинг       3.130        1   \n",
       "\n",
       "   порода_кат  \n",
       "0           0  \n",
       "1           0  \n",
       "2           1  \n",
       "3           1  \n",
       "5           1  "
      ]
     },
     "execution_count": 107,
     "metadata": {},
     "output_type": "execute_result"
    }
   ],
   "source": [
    "df.head(5)"
   ]
  },
  {
   "cell_type": "code",
   "execution_count": 108,
   "id": "511fbe77",
   "metadata": {
    "ExecuteTime": {
     "end_time": "2023-11-18T19:37:27.908671Z",
     "start_time": "2023-11-18T19:37:27.900158Z"
    }
   },
   "outputs": [],
   "source": [
    "x = df[['эке', 'протеин', 'спо_кат', 'порода_кат']]\n",
    "y = df['удой']\n",
    "x_train, x_test, y_train, y_test = train_test_split(\n",
    "    x, y, test_size=0.15, random_state=42)"
   ]
  },
  {
   "cell_type": "code",
   "execution_count": 109,
   "id": "9da459bc",
   "metadata": {
    "ExecuteTime": {
     "end_time": "2023-11-18T19:37:28.393115Z",
     "start_time": "2023-11-18T19:37:28.390781Z"
    }
   },
   "outputs": [],
   "source": [
    "# ohe = OneHotEncoder(sparse_output=False, drop='first', handle_unknown='ignore')\n",
    "# ohe.fit(x_train[['порода']])\n",
    "# ohe.fit(x_test[['порода']])\n",
    "\n",
    "# x_train = get_ohe(x_train, 'порода')\n",
    "# x_test = get_ohe(x_test, 'порода')"
   ]
  },
  {
   "cell_type": "code",
   "execution_count": 110,
   "id": "5d49995e",
   "metadata": {
    "ExecuteTime": {
     "end_time": "2023-11-18T19:37:28.949614Z",
     "start_time": "2023-11-18T19:37:28.943119Z"
    }
   },
   "outputs": [],
   "source": [
    "lin_regr = LinearRegression()\n",
    "lin_regr.fit(x_train, y_train)\n",
    "prediction = lin_regr.predict(x_test)"
   ]
  },
  {
   "cell_type": "code",
   "execution_count": 111,
   "id": "3103dd81",
   "metadata": {
    "ExecuteTime": {
     "end_time": "2023-11-18T19:37:29.681214Z",
     "start_time": "2023-11-18T19:37:29.676136Z"
    }
   },
   "outputs": [
    {
     "name": "stdout",
     "output_type": "stream",
     "text": [
      "0.8 3.16\n"
     ]
    }
   ],
   "source": [
    "r2 = round(r2_score(y_test, prediction), 2)\n",
    "mape = round(mean_absolute_percentage_error(y_test, prediction) * 100, 2)\n",
    "\n",
    "print(r2, mape)"
   ]
  },
  {
   "cell_type": "code",
   "execution_count": null,
   "id": "598e0517",
   "metadata": {},
   "outputs": [],
   "source": []
  }
 ],
 "metadata": {
  "kernelspec": {
   "display_name": "Python 3 (ipykernel)",
   "language": "python",
   "name": "python3"
  },
  "language_info": {
   "codemirror_mode": {
    "name": "ipython",
    "version": 3
   },
   "file_extension": ".py",
   "mimetype": "text/x-python",
   "name": "python",
   "nbconvert_exporter": "python",
   "pygments_lexer": "ipython3",
   "version": "3.11.5"
  }
 },
 "nbformat": 4,
 "nbformat_minor": 5
}
