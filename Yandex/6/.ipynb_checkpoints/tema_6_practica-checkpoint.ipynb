{
 "cells": [
  {
   "cell_type": "code",
   "execution_count": 2,
   "id": "9864b296",
   "metadata": {},
   "outputs": [],
   "source": [
    "import pandas as pd\n",
    "import numpy as np\n",
    "import matplotlib.pyplot as plt\n",
    "import seaborn as sns\n",
    "import scipy.stats as st"
   ]
  },
  {
   "cell_type": "code",
   "execution_count": 2,
   "id": "3cbc792f",
   "metadata": {
    "scrolled": true
   },
   "outputs": [
    {
     "name": "stdout",
     "output_type": "stream",
     "text": [
      "C:\\Users\\Dell\\Desktop\\MyPython\\Yandex.Practica\\ПРЕДЛОЖЕНИЯ\\Школьники\\Работа_над_материалами\\Тема_5\n"
     ]
    }
   ],
   "source": [
    "import os\n",
    "current_dir = os.getcwd()\n",
    "print(current_dir)"
   ]
  },
  {
   "cell_type": "code",
   "execution_count": 1,
   "id": "559058b9",
   "metadata": {},
   "outputs": [],
   "source": [
    "import warnings\n",
    "warnings.filterwarnings('ignore')"
   ]
  },
  {
   "cell_type": "raw",
   "id": "bf7e9b82",
   "metadata": {},
   "source": [
    "import phik\n",
    "from phik.report import plot_correlation_matrix\n",
    "from phik import report"
   ]
  },
  {
   "cell_type": "raw",
   "id": "41b6ab71",
   "metadata": {},
   "source": [
    "phik_overview = df.phik_matrix()#(interval_cols = interval_cols)\n",
    "phik_overview.round(2)"
   ]
  },
  {
   "cell_type": "code",
   "execution_count": null,
   "id": "7165b363",
   "metadata": {},
   "outputs": [],
   "source": []
  },
  {
   "cell_type": "code",
   "execution_count": null,
   "id": "7cddf56d",
   "metadata": {},
   "outputs": [],
   "source": []
  },
  {
   "cell_type": "markdown",
   "id": "3944e5d0",
   "metadata": {},
   "source": [
    "## Задача 1"
   ]
  },
  {
   "cell_type": "raw",
   "id": "a471f181",
   "metadata": {},
   "source": [
    "Вы работаете аналитиком в продуктовом магазине. Даны продажи молока по дням недели. Вы обнаружили, что есть есть несколько выбросов в данных - суперзавышенные значения в воскресные дни. Необходимо составить программу, которая вместо этих выбросов вставляла бы медианное значение всех воскресных продаж.\n",
    "\n",
    "При расчёте учитывать:\n",
    "\n",
    "дни недели в таблице даны как: понедельник, вторник, среда, четверг, пятница, суббота, воскресенье\n",
    "уровень выброса рассчитывать с помощью техники тройного интерквартильного размаха.\n",
    "Вывести первые 30 значений скорректированной таблицы.\n",
    "\n",
    "Данные находятся в файле data.csv.\n",
    "Разделитель значений - точка с запятой. Разделителем дробных чисел применяется запятая. В таблице даны два столбца. Названия столбцов - показаны ниже"
   ]
  },
  {
   "cell_type": "code",
   "execution_count": 3,
   "id": "b41f947c",
   "metadata": {},
   "outputs": [],
   "source": [
    "PATH_OUT = r'C:\\Users\\Dell\\Desktop\\MyPython\\Yandex.Practica\\ПРЕДЛОЖЕНИЯ\\Школьники\\Работа_над_материалами\\Тема_6'"
   ]
  },
  {
   "cell_type": "code",
   "execution_count": 5,
   "id": "eaa0a8a2",
   "metadata": {
    "scrolled": true
   },
   "outputs": [
    {
     "data": {
      "text/html": [
       "<div>\n",
       "<style scoped>\n",
       "    .dataframe tbody tr th:only-of-type {\n",
       "        vertical-align: middle;\n",
       "    }\n",
       "\n",
       "    .dataframe tbody tr th {\n",
       "        vertical-align: top;\n",
       "    }\n",
       "\n",
       "    .dataframe thead th {\n",
       "        text-align: right;\n",
       "    }\n",
       "</style>\n",
       "<table border=\"1\" class=\"dataframe\">\n",
       "  <thead>\n",
       "    <tr style=\"text-align: right;\">\n",
       "      <th></th>\n",
       "      <th>день</th>\n",
       "      <th>молоко</th>\n",
       "    </tr>\n",
       "  </thead>\n",
       "  <tbody>\n",
       "    <tr>\n",
       "      <th>0</th>\n",
       "      <td>понедельник</td>\n",
       "      <td>105</td>\n",
       "    </tr>\n",
       "    <tr>\n",
       "      <th>1</th>\n",
       "      <td>вторник</td>\n",
       "      <td>139</td>\n",
       "    </tr>\n",
       "    <tr>\n",
       "      <th>2</th>\n",
       "      <td>среда</td>\n",
       "      <td>134</td>\n",
       "    </tr>\n",
       "    <tr>\n",
       "      <th>3</th>\n",
       "      <td>четверг</td>\n",
       "      <td>130</td>\n",
       "    </tr>\n",
       "    <tr>\n",
       "      <th>4</th>\n",
       "      <td>пятница</td>\n",
       "      <td>139</td>\n",
       "    </tr>\n",
       "    <tr>\n",
       "      <th>5</th>\n",
       "      <td>суббота</td>\n",
       "      <td>131</td>\n",
       "    </tr>\n",
       "    <tr>\n",
       "      <th>6</th>\n",
       "      <td>воскресенье</td>\n",
       "      <td>10000</td>\n",
       "    </tr>\n",
       "    <tr>\n",
       "      <th>7</th>\n",
       "      <td>понедельник</td>\n",
       "      <td>136</td>\n",
       "    </tr>\n",
       "    <tr>\n",
       "      <th>8</th>\n",
       "      <td>вторник</td>\n",
       "      <td>125</td>\n",
       "    </tr>\n",
       "    <tr>\n",
       "      <th>9</th>\n",
       "      <td>среда</td>\n",
       "      <td>130</td>\n",
       "    </tr>\n",
       "  </tbody>\n",
       "</table>\n",
       "</div>"
      ],
      "text/plain": [
       "          день  молоко\n",
       "0  понедельник     105\n",
       "1      вторник     139\n",
       "2        среда     134\n",
       "3      четверг     130\n",
       "4      пятница     139\n",
       "5      суббота     131\n",
       "6  воскресенье   10000\n",
       "7  понедельник     136\n",
       "8      вторник     125\n",
       "9        среда     130"
      ]
     },
     "execution_count": 5,
     "metadata": {},
     "output_type": "execute_result"
    }
   ],
   "source": [
    "df = pd.read_csv(PATH_OUT + '\\\\target_1.csv',sep=';', encoding='cp1251', skipinitialspace=True, decimal=',')\n",
    "df = df.dropna()  # удалили строки с пропусками\n",
    "df.head(10)"
   ]
  },
  {
   "cell_type": "code",
   "execution_count": null,
   "id": "50b32419",
   "metadata": {},
   "outputs": [],
   "source": []
  },
  {
   "cell_type": "markdown",
   "id": "895ddba5",
   "metadata": {},
   "source": [
    "## Задача 2"
   ]
  },
  {
   "cell_type": "markdown",
   "id": "0b19c146",
   "metadata": {},
   "source": [
    "На этот раз вы работаете в компании, которая обслуживает сервис по продаже автомобилей с пробегом. Поступила задача на разработку приложения для привлечения новых клиентов. В нём можно быстро узнать рыночную стоимость своего автомобиля. В вашем распоряжении исторические данные: технические характеристики, комплектации и цены автомобилей. На первом шаге построения прогнозной модели нужно проанализировать данные на пропуски и заполнить их. Этим вам и предстоит заняться.\n",
    "\n",
    "Необходимо сделать:\n",
    "\n",
    "В данных VehicleType были обнаружены пропуски. Причём по группе бренд-марка встречается несколько строк. Вам нужно заполнить их по такому правилу: вставить наиболее часто встречаемый тип кузова у сочетания бренд-марка.\n",
    "Пример: Если по сочетанию “volkswagen-golf” наиболее встречаемый тип кузова “small”. Поэтому Nan надо заполнить именно этим кузовом. Если по группе бренд-марка нет данных по кузову, то такие строки заполнить группой “unknown”.\n",
    "\n",
    "Сформировать сводную таблицу из таких столбцов [Brand, VehicleType, Price].\n",
    "Цену вставить медианную по группам [Brand, VehicleType].\n",
    "Таблицу отсортировать по цене в порядке убывания и вывести первые первые 10 строк. Нумерацию индексов сделать заново. Названия столбцов использовать как в задании.\n",
    "Данные находятся в файле data.csv.\n",
    "Разделитель значений - точка с запятой. Разделителем дробных чисел применяется запятая. В таблице даны семь столбцов."
   ]
  },
  {
   "cell_type": "code",
   "execution_count": 11,
   "id": "f5a87a0a",
   "metadata": {},
   "outputs": [
    {
     "data": {
      "text/html": [
       "<div>\n",
       "<style scoped>\n",
       "    .dataframe tbody tr th:only-of-type {\n",
       "        vertical-align: middle;\n",
       "    }\n",
       "\n",
       "    .dataframe tbody tr th {\n",
       "        vertical-align: top;\n",
       "    }\n",
       "\n",
       "    .dataframe thead th {\n",
       "        text-align: right;\n",
       "    }\n",
       "</style>\n",
       "<table border=\"1\" class=\"dataframe\">\n",
       "  <thead>\n",
       "    <tr style=\"text-align: right;\">\n",
       "      <th></th>\n",
       "      <th>id</th>\n",
       "      <th>Price</th>\n",
       "      <th>RegistrationYear</th>\n",
       "      <th>Power</th>\n",
       "      <th>Brand</th>\n",
       "      <th>Model</th>\n",
       "      <th>VehicleType</th>\n",
       "    </tr>\n",
       "  </thead>\n",
       "  <tbody>\n",
       "    <tr>\n",
       "      <th>0</th>\n",
       "      <td>1</td>\n",
       "      <td>480</td>\n",
       "      <td>1993</td>\n",
       "      <td>0</td>\n",
       "      <td>volkswagen</td>\n",
       "      <td>golf</td>\n",
       "      <td>NaN</td>\n",
       "    </tr>\n",
       "    <tr>\n",
       "      <th>1</th>\n",
       "      <td>2</td>\n",
       "      <td>9800</td>\n",
       "      <td>2004</td>\n",
       "      <td>163</td>\n",
       "      <td>jeep</td>\n",
       "      <td>grand</td>\n",
       "      <td>suv</td>\n",
       "    </tr>\n",
       "    <tr>\n",
       "      <th>2</th>\n",
       "      <td>3</td>\n",
       "      <td>1500</td>\n",
       "      <td>2001</td>\n",
       "      <td>75</td>\n",
       "      <td>volkswagen</td>\n",
       "      <td>golf</td>\n",
       "      <td>small</td>\n",
       "    </tr>\n",
       "    <tr>\n",
       "      <th>3</th>\n",
       "      <td>4</td>\n",
       "      <td>3600</td>\n",
       "      <td>2008</td>\n",
       "      <td>69</td>\n",
       "      <td>skoda</td>\n",
       "      <td>fabia</td>\n",
       "      <td>small</td>\n",
       "    </tr>\n",
       "    <tr>\n",
       "      <th>4</th>\n",
       "      <td>5</td>\n",
       "      <td>650</td>\n",
       "      <td>1995</td>\n",
       "      <td>102</td>\n",
       "      <td>bmw</td>\n",
       "      <td>3er</td>\n",
       "      <td>NaN</td>\n",
       "    </tr>\n",
       "    <tr>\n",
       "      <th>5</th>\n",
       "      <td>6</td>\n",
       "      <td>2200</td>\n",
       "      <td>2004</td>\n",
       "      <td>109</td>\n",
       "      <td>peugeot</td>\n",
       "      <td>2_reihe</td>\n",
       "      <td>convertible</td>\n",
       "    </tr>\n",
       "    <tr>\n",
       "      <th>6</th>\n",
       "      <td>7</td>\n",
       "      <td>0</td>\n",
       "      <td>1980</td>\n",
       "      <td>50</td>\n",
       "      <td>volkswagen</td>\n",
       "      <td>other</td>\n",
       "      <td>sedan</td>\n",
       "    </tr>\n",
       "    <tr>\n",
       "      <th>7</th>\n",
       "      <td>8</td>\n",
       "      <td>14500</td>\n",
       "      <td>2014</td>\n",
       "      <td>125</td>\n",
       "      <td>ford</td>\n",
       "      <td>c_max</td>\n",
       "      <td>bus</td>\n",
       "    </tr>\n",
       "  </tbody>\n",
       "</table>\n",
       "</div>"
      ],
      "text/plain": [
       "   id  Price  RegistrationYear  Power       Brand    Model  VehicleType\n",
       "0   1    480              1993      0  volkswagen     golf          NaN\n",
       "1   2   9800              2004    163        jeep    grand          suv\n",
       "2   3   1500              2001     75  volkswagen     golf        small\n",
       "3   4   3600              2008     69       skoda    fabia        small\n",
       "4   5    650              1995    102         bmw      3er          NaN\n",
       "5   6   2200              2004    109     peugeot  2_reihe  convertible\n",
       "6   7      0              1980     50  volkswagen    other        sedan\n",
       "7   8  14500              2014    125        ford    c_max          bus"
      ]
     },
     "execution_count": 11,
     "metadata": {},
     "output_type": "execute_result"
    }
   ],
   "source": [
    "df = pd.read_csv(PATH_OUT + '\\\\cars_csv.csv',sep=';', encoding='cp1251', skipinitialspace=True, decimal=',')\n",
    "df.head(8)"
   ]
  },
  {
   "cell_type": "code",
   "execution_count": null,
   "id": "b62948d1",
   "metadata": {},
   "outputs": [],
   "source": [
    "groupby, transform, fillna, pivot_table, sort_values, reset_index"
   ]
  },
  {
   "cell_type": "code",
   "execution_count": 12,
   "id": "c19b60c9",
   "metadata": {},
   "outputs": [
    {
     "name": "stdout",
     "output_type": "stream",
     "text": [
      "           Brand  VehicleType    Price\n",
      "0     volkswagen          suv  15600.0\n",
      "1            bmw          suv  14800.0\n",
      "2      chevrolet        wagon  13499.0\n",
      "3          skoda          suv  13200.0\n",
      "4  mercedes_benz  convertible  12790.0\n"
     ]
    }
   ],
   "source": []
  },
  {
   "cell_type": "code",
   "execution_count": null,
   "id": "7607e10a",
   "metadata": {},
   "outputs": [],
   "source": []
  },
  {
   "cell_type": "markdown",
   "id": "29a3e364",
   "metadata": {},
   "source": [
    "## Задача 3"
   ]
  },
  {
   "cell_type": "raw",
   "id": "b6c89645",
   "metadata": {},
   "source": [
    "Пропуски заполнять следующим образом:\n",
    "\n",
    "1) пропуск в факторе “вес” заполнить предыдущим значением\n",
    "\n",
    "2) в факторе “затрачиваемая мощность” могут встречаться одиночные пропуски и несколько пропусков подряд. Одиночные пропуски и первый из пропусков из нескольких подряд заполнить методом интерполяции. А оставшиеся пропуски в этом факторе заполнить групповой медианой по группам, которая указана в столбце “key”.\n",
    "\n",
    "3) создать новую таблицу, произведя суммирование каждого фактора по группе ”key”\n",
    "\n",
    "Вывести первые 30 строк новой таблицы, состоящей из двух факторов ['вес', 'затрачиваемая_мощность']. Итоговые значения округлить до целого. Названия столбцов привести к формату PEP8 (кириллицу оставляем)."
   ]
  },
  {
   "cell_type": "code",
   "execution_count": 35,
   "id": "152dc1e3",
   "metadata": {},
   "outputs": [
    {
     "data": {
      "text/html": [
       "<div>\n",
       "<style scoped>\n",
       "    .dataframe tbody tr th:only-of-type {\n",
       "        vertical-align: middle;\n",
       "    }\n",
       "\n",
       "    .dataframe tbody tr th {\n",
       "        vertical-align: top;\n",
       "    }\n",
       "\n",
       "    .dataframe thead th {\n",
       "        text-align: right;\n",
       "    }\n",
       "</style>\n",
       "<table border=\"1\" class=\"dataframe\">\n",
       "  <thead>\n",
       "    <tr style=\"text-align: right;\">\n",
       "      <th></th>\n",
       "      <th>key</th>\n",
       "      <th>Вес</th>\n",
       "      <th>Затрачиваемая мощность</th>\n",
       "    </tr>\n",
       "  </thead>\n",
       "  <tbody>\n",
       "    <tr>\n",
       "      <th>0</th>\n",
       "      <td>1</td>\n",
       "      <td>1571.0</td>\n",
       "      <td>4.18</td>\n",
       "    </tr>\n",
       "    <tr>\n",
       "      <th>1</th>\n",
       "      <td>1</td>\n",
       "      <td>1604.0</td>\n",
       "      <td>NaN</td>\n",
       "    </tr>\n",
       "    <tr>\n",
       "      <th>2</th>\n",
       "      <td>1</td>\n",
       "      <td>1618.0</td>\n",
       "      <td>NaN</td>\n",
       "    </tr>\n",
       "    <tr>\n",
       "      <th>3</th>\n",
       "      <td>1</td>\n",
       "      <td>NaN</td>\n",
       "      <td>8.07</td>\n",
       "    </tr>\n",
       "    <tr>\n",
       "      <th>4</th>\n",
       "      <td>1</td>\n",
       "      <td>1606.0</td>\n",
       "      <td>7.41</td>\n",
       "    </tr>\n",
       "    <tr>\n",
       "      <th>5</th>\n",
       "      <td>1</td>\n",
       "      <td>1613.0</td>\n",
       "      <td>7.15</td>\n",
       "    </tr>\n",
       "  </tbody>\n",
       "</table>\n",
       "</div>"
      ],
      "text/plain": [
       "   key     Вес  Затрачиваемая мощность\n",
       "0    1  1571.0                    4.18\n",
       "1    1  1604.0                     NaN\n",
       "2    1  1618.0                     NaN\n",
       "3    1     NaN                    8.07\n",
       "4    1  1606.0                    7.41\n",
       "5    1  1613.0                    7.15"
      ]
     },
     "execution_count": 35,
     "metadata": {},
     "output_type": "execute_result"
    }
   ],
   "source": [
    "df = pd.read_csv(PATH_OUT + '\\\\temp_csv.csv',sep=';', encoding='cp1251', skipinitialspace=True, decimal=',')\n",
    "df.head(6)"
   ]
  },
  {
   "cell_type": "raw",
   "id": "a947f887",
   "metadata": {},
   "source": [
    "ffill, interpolate, "
   ]
  },
  {
   "cell_type": "code",
   "execution_count": 36,
   "id": "127e5be7",
   "metadata": {},
   "outputs": [
    {
     "name": "stdout",
     "output_type": "stream",
     "text": [
      "      вес  затрачиваемая_мощность\n",
      "0  9630.0                    39.0\n",
      "1  7938.0                    37.0\n",
      "2  9589.0                    41.0\n"
     ]
    }
   ],
   "source": [
    "\n",
    "print(df.head(3))"
   ]
  },
  {
   "cell_type": "markdown",
   "id": "0fb9bba5",
   "metadata": {},
   "source": [
    "## Задача 4"
   ]
  },
  {
   "cell_type": "raw",
   "id": "9470c5ad",
   "metadata": {},
   "source": [
    "Вы работаете аналитиком в интернет-магазине. Компания ведёт активную продажу товаров для населения. Часть покупателей снизила свою покупательскую активность. Необходимо исследовать данные, чтобы выявить причину этого.\n",
    "\n",
    "Для этого провести следующие работы:\n",
    "\n",
    "В факторе “выручка” есть пропуски и есть выбросы в бОльшую сторону.\n",
    "сначала пропуски заполнить групповой медианой\n",
    "потом выбросы заменить также групповой медианой.\n",
    "Необходимо написать программу, которая бы выводила р-уровень при сравнении всех количественных факторов продаж по двум группам между собой.\n",
    "группа покупателей 1: покупатели типа товара “товары для дома” и снизили покупательскую активность\n",
    "группа покупателей 2: покупатели типа товара “товары для дома”, а покупательская активность осталась на “Прежний уровень”\n",
    "В расчётах учесть:\n",
    "\n",
    "Группа это: двойная группировка по факторам “покупательская активность” и “тип товара”\n",
    "Выбросы по выручке - только в большую сторону. Для очистки применить алгоритм тройного интерквартильного размаха\n",
    "Если данные в обеих группах распределены нормально, то для сравнения использовать метод Стьюдент с различной дисперсией. Если хотя бы в одной группе - не нормальное распределение, то для сравнения использовать метод Манн-Уитни. Для проверки на нормальность использовать метод Шапиро c уровнем принятия решения 0.05\n",
    "Данные загружаются из csv_файла, разделителем является ; а разделитель десятичных значений в данных - запятая\n",
    "Результат вывести в виде списка списков. Первый список - названия выводимых результатов: ['показатель', 'р-уровень', 'метод расчёта']. Остальные списки - расчёты по каждому показателю(фактору)\n",
    "Названия факторов в таблице привести к стандарту PEP8. Кириллицу оставляем\n",
    "Описание исходных данных\n",
    "\n",
    "Данные находятся в файле data.csv.\n",
    "Разделитель значений - точка с запятой. Разделителем дробных чисел применяется запятая. В таблице даны три столбца. Названия столбцов - показаны ниже.\n",
    "\n",
    "Описание:\n",
    "\n",
    "в первом столбце Покупательская активность - активность покупателя. Два уровня: “Снизилась” и “Прежний уровень”\n",
    "в втором столбце тип товара - два типа товара: “товары для себя” и “товары для дома”\n",
    "в третьем столбце История продаж - показывает, сколько дней уже покупатель зарегистрирован на сайте, в днях\n",
    "в четвёртом столбце Неоплаченные_товары - сколько товаров покупатель положил в корзину, но не оплатил, в штуках\n",
    "в пятом столбце Выручка -выручка покупателя в рублях за месяц"
   ]
  },
  {
   "cell_type": "code",
   "execution_count": 29,
   "id": "38433afc",
   "metadata": {},
   "outputs": [
    {
     "data": {
      "text/html": [
       "<div>\n",
       "<style scoped>\n",
       "    .dataframe tbody tr th:only-of-type {\n",
       "        vertical-align: middle;\n",
       "    }\n",
       "\n",
       "    .dataframe tbody tr th {\n",
       "        vertical-align: top;\n",
       "    }\n",
       "\n",
       "    .dataframe thead th {\n",
       "        text-align: right;\n",
       "    }\n",
       "</style>\n",
       "<table border=\"1\" class=\"dataframe\">\n",
       "  <thead>\n",
       "    <tr style=\"text-align: right;\">\n",
       "      <th></th>\n",
       "      <th>Покупательская активность</th>\n",
       "      <th>тип товара</th>\n",
       "      <th>История продаж</th>\n",
       "      <th>Неоплаченные_товары</th>\n",
       "      <th>Выручка</th>\n",
       "    </tr>\n",
       "  </thead>\n",
       "  <tbody>\n",
       "    <tr>\n",
       "      <th>0</th>\n",
       "      <td>Снизилась</td>\n",
       "      <td>товары для себя</td>\n",
       "      <td>575</td>\n",
       "      <td>2</td>\n",
       "      <td>4635.0</td>\n",
       "    </tr>\n",
       "    <tr>\n",
       "      <th>1</th>\n",
       "      <td>Снизилась</td>\n",
       "      <td>товары для себя</td>\n",
       "      <td>786</td>\n",
       "      <td>2</td>\n",
       "      <td>5213.0</td>\n",
       "    </tr>\n",
       "    <tr>\n",
       "      <th>2</th>\n",
       "      <td>Снизилась</td>\n",
       "      <td>товары для дома</td>\n",
       "      <td>935</td>\n",
       "      <td>5</td>\n",
       "      <td>4992.0</td>\n",
       "    </tr>\n",
       "  </tbody>\n",
       "</table>\n",
       "</div>"
      ],
      "text/plain": [
       "  Покупательская активность       тип товара  История продаж  \\\n",
       "0                 Снизилась  товары для себя             575   \n",
       "1                 Снизилась  товары для себя             786   \n",
       "2                 Снизилась  товары для дома             935   \n",
       "\n",
       "   Неоплаченные_товары  Выручка  \n",
       "0                    2   4635.0  \n",
       "1                    2   5213.0  \n",
       "2                    5   4992.0  "
      ]
     },
     "execution_count": 29,
     "metadata": {},
     "output_type": "execute_result"
    }
   ],
   "source": [
    "df = pd.read_csv(PATH_OUT + '\\\\target_4.csv',sep=';', encoding='cp1251', skipinitialspace=True, decimal=',')\n",
    "df.head(3)"
   ]
  },
  {
   "cell_type": "code",
   "execution_count": null,
   "id": "8ff24b0a",
   "metadata": {},
   "outputs": [],
   "source": [
    "quantile, groupby, transform"
   ]
  },
  {
   "cell_type": "code",
   "execution_count": 31,
   "id": "adc24f38",
   "metadata": {},
   "outputs": [
    {
     "name": "stdout",
     "output_type": "stream",
     "text": [
      "[['показатель', 'р-уровень', 'метод расчёта р-уровня'], ['история_продаж', 0.0111, 'Манн-Уитни'], ['неоплаченные_товары', 0.0, 'Манн-Уитни'], ['выручка', 0.0056, 'Манн-Уитни']]\n"
     ]
    }
   ],
   "source": []
  },
  {
   "cell_type": "code",
   "execution_count": 32,
   "id": "d06923b6",
   "metadata": {},
   "outputs": [
    {
     "data": {
      "text/plain": [
       "[['показатель', 'р-уровень', 'метод расчёта р-уровня'],\n",
       " ['история_продаж', 0.0111, 'Манн-Уитни'],\n",
       " ['неоплаченные_товары', 0.0, 'Манн-Уитни'],\n",
       " ['выручка', 0.0056, 'Манн-Уитни']]"
      ]
     },
     "execution_count": 32,
     "metadata": {},
     "output_type": "execute_result"
    }
   ],
   "source": [
    "m_test"
   ]
  },
  {
   "attachments": {
    "image.png": {
     "image/png": "[encoded data removed]"
    }
   },
   "cell_type": "markdown",
   "id": "1e4d988a",
   "metadata": {},
   "source": [
    "![image.png](attachment:image.png)"
   ]
  },
  {
   "cell_type": "code",
   "execution_count": null,
   "id": "4688c236",
   "metadata": {},
   "outputs": [],
   "source": []
  },
  {
   "cell_type": "markdown",
   "id": "88a8644b",
   "metadata": {},
   "source": [
    "## Задача 5"
   ]
  },
  {
   "cell_type": "raw",
   "id": "614a0477",
   "metadata": {},
   "source": [
    "Необходимо сделать:\n",
    "\n",
    "1) Перевести название колонок в стандарт PEP8:\n",
    "- перевести в нижний регистр\n",
    "- пробелы между словами заменить на _\n",
    "\n",
    "2) Создать новый фактор на основе года выпуска автомобиля:\n",
    "- если год менее или равен 1980, то обозначить ретро\n",
    "- если год более 1980, но менее или равен 2010, то обозначить старые\n",
    "- если год более 2010, но менее или равен 2020, то обозначить массовые\n",
    "- если год более 2020 то обозначить современные\n",
    "\n",
    "3) отобрать данные по условиям:\n",
    "- выбирать бренд автомобиля, который вводится с экрана\n",
    "- по выбранному бренду отобрать только те, у которых мощность более 30, а цена более 0\n",
    "\n",
    "4) По выбранной группе автомобилей построить изображение трёх графиков, которые должны быть расположены в одном ряду:\n",
    "- первый график: круговая диаграмма по новому фактору, в котором мы закодировали возраст автомобиля (ретро, старый и т.д.)\n",
    "- второй график: гистограмма цены автомобиля с параметром количества столбцов 30. Использовать сиборн. И вывести также график оценки плотности\n",
    "- третий график: диаграмма рассеяния. Ось ОХ - это Цена. Ось OY - это мощность\n",
    "- размер изображения: 11х4 дюймов\n",
    "\n",
    "5) Параметры и оформление изображения графиков:\n",
    "- оси OY не подписывать\n",
    "- ось OX на втором и третьем графике подписать \"Цена\" и \"Мощность\" соответственно. Шрифт выбрать 13\n",
    "- сделать подпись всего изображения.\n",
    "\n",
    "Название: Исследование данных по моделям автомобилей\n",
    "Шрифт выбрать 16. Отступ заголовка до начала графиков выбрать 1.01"
   ]
  },
  {
   "cell_type": "code",
   "execution_count": 33,
   "id": "80545d4f",
   "metadata": {},
   "outputs": [
    {
     "data": {
      "text/html": [
       "<div>\n",
       "<style scoped>\n",
       "    .dataframe tbody tr th:only-of-type {\n",
       "        vertical-align: middle;\n",
       "    }\n",
       "\n",
       "    .dataframe tbody tr th {\n",
       "        vertical-align: top;\n",
       "    }\n",
       "\n",
       "    .dataframe thead th {\n",
       "        text-align: right;\n",
       "    }\n",
       "</style>\n",
       "<table border=\"1\" class=\"dataframe\">\n",
       "  <thead>\n",
       "    <tr style=\"text-align: right;\">\n",
       "      <th></th>\n",
       "      <th>id</th>\n",
       "      <th>Price</th>\n",
       "      <th>RegistrationYear</th>\n",
       "      <th>Power</th>\n",
       "      <th>Brand</th>\n",
       "      <th>Model</th>\n",
       "    </tr>\n",
       "  </thead>\n",
       "  <tbody>\n",
       "    <tr>\n",
       "      <th>0</th>\n",
       "      <td>1</td>\n",
       "      <td>480</td>\n",
       "      <td>1993</td>\n",
       "      <td>0</td>\n",
       "      <td>volkswagen</td>\n",
       "      <td>golf</td>\n",
       "    </tr>\n",
       "    <tr>\n",
       "      <th>1</th>\n",
       "      <td>2</td>\n",
       "      <td>9800</td>\n",
       "      <td>2004</td>\n",
       "      <td>163</td>\n",
       "      <td>jeep</td>\n",
       "      <td>grand</td>\n",
       "    </tr>\n",
       "    <tr>\n",
       "      <th>2</th>\n",
       "      <td>3</td>\n",
       "      <td>1500</td>\n",
       "      <td>2001</td>\n",
       "      <td>75</td>\n",
       "      <td>volkswagen</td>\n",
       "      <td>golf</td>\n",
       "    </tr>\n",
       "  </tbody>\n",
       "</table>\n",
       "</div>"
      ],
      "text/plain": [
       "   id  Price  RegistrationYear  Power       Brand  Model\n",
       "0   1    480              1993      0  volkswagen   golf\n",
       "1   2   9800              2004    163        jeep  grand\n",
       "2   3   1500              2001     75  volkswagen   golf"
      ]
     },
     "execution_count": 33,
     "metadata": {},
     "output_type": "execute_result"
    }
   ],
   "source": [
    "df = pd.read_csv(PATH_OUT + '\\\\cars_csv_gr.csv',sep=';', encoding='cp1251', skipinitialspace=True)\n",
    "df.head(3)"
   ]
  },
  {
   "cell_type": "code",
   "execution_count": null,
   "id": "5988861c",
   "metadata": {},
   "outputs": [],
   "source": [
    "создать новую переменную, subplots"
   ]
  },
  {
   "cell_type": "code",
   "execution_count": 34,
   "id": "8817e7e4",
   "metadata": {},
   "outputs": [
    {
     "name": "stdout",
     "output_type": "stream",
     "text": [
      "volkswagen\n"
     ]
    },
    {
     "data": {
      "image/png": "[encoded data removed]",
      "text/plain": [
       "<Figure size 1100x400 with 3 Axes>"
      ]
     },
     "metadata": {},
     "output_type": "display_data"
    }
   ],
   "source": []
  },
  {
   "cell_type": "markdown",
   "id": "e2932ab5",
   "metadata": {},
   "source": [
    "**********************************************************************************************"
   ]
  },
  {
   "cell_type": "code",
   "execution_count": null,
   "id": "99853abd",
   "metadata": {},
   "outputs": [],
   "source": []
  },
  {
   "cell_type": "code",
   "execution_count": null,
   "id": "fb5cf5fd",
   "metadata": {},
   "outputs": [],
   "source": []
  }
 ],
 "metadata": {
  "kernelspec": {
   "display_name": "Python 3 (ipykernel)",
   "language": "python",
   "name": "python3"
  },
  "language_info": {
   "codemirror_mode": {
    "name": "ipython",
    "version": 3
   },
   "file_extension": ".py",
   "mimetype": "text/x-python",
   "name": "python",
   "nbconvert_exporter": "python",
   "pygments_lexer": "ipython3",
   "version": "3.11.5"
  }
 },
 "nbformat": 4,
 "nbformat_minor": 5
}
